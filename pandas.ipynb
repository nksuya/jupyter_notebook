{
 "cells": [
  {
   "cell_type": "markdown",
   "id": "12ad2406",
   "metadata": {},
   "source": [
    "###### DataFrame 创建 读取\n",
    "对应二维的表结构。\n",
    " <span class=\"mark\">A dataframe is essentially a table with rows and columns.</span>\n",
    "- DataFrame创建时可以指定行列名，columns列名，index行名。   \n",
    "- 行列可以是不同的数据类型。   \n",
    "\n",
    "可以从列表组成的字典创建，也可以从ndarray组成的字典创建。\n",
    "\n",
    "df.shape 行列数  \n",
    "df.ndim 维度   "
   ]
  },
  {
   "cell_type": "code",
   "execution_count": 2,
   "id": "ff568621",
   "metadata": {},
   "outputs": [
    {
     "data": {
      "text/html": [
       "<div>\n",
       "<style scoped>\n",
       "    .dataframe tbody tr th:only-of-type {\n",
       "        vertical-align: middle;\n",
       "    }\n",
       "\n",
       "    .dataframe tbody tr th {\n",
       "        vertical-align: top;\n",
       "    }\n",
       "\n",
       "    .dataframe thead th {\n",
       "        text-align: right;\n",
       "    }\n",
       "</style>\n",
       "<table border=\"1\" class=\"dataframe\">\n",
       "  <thead>\n",
       "    <tr style=\"text-align: right;\">\n",
       "      <th></th>\n",
       "      <th>a</th>\n",
       "      <th>b</th>\n",
       "      <th>c</th>\n",
       "    </tr>\n",
       "  </thead>\n",
       "  <tbody>\n",
       "    <tr>\n",
       "      <th>1</th>\n",
       "      <td>1</td>\n",
       "      <td>2</td>\n",
       "      <td>3</td>\n",
       "    </tr>\n",
       "    <tr>\n",
       "      <th>0</th>\n",
       "      <td>4</td>\n",
       "      <td>5</td>\n",
       "      <td>6</td>\n",
       "    </tr>\n",
       "    <tr>\n",
       "      <th>2</th>\n",
       "      <td>7</td>\n",
       "      <td>8</td>\n",
       "      <td>9</td>\n",
       "    </tr>\n",
       "  </tbody>\n",
       "</table>\n",
       "</div>"
      ],
      "text/plain": [
       "   a  b  c\n",
       "1  1  2  3\n",
       "0  4  5  6\n",
       "2  7  8  9"
      ]
     },
     "execution_count": 2,
     "metadata": {},
     "output_type": "execute_result"
    }
   ],
   "source": [
    "import pandas as pd\n",
    "\n",
    "df = pd.DataFrame([[1, 2, 3], [4, 5, 6], [7, 8, 9]], columns=['a', 'b', 'c'],index=[1,0,2])\n",
    "\n",
    "df"
   ]
  },
  {
   "cell_type": "code",
   "execution_count": 142,
   "id": "18d36e52",
   "metadata": {},
   "outputs": [
    {
     "data": {
      "text/plain": [
       "1    3\n",
       "2    9\n",
       "Name: c, dtype: int64"
      ]
     },
     "execution_count": 142,
     "metadata": {},
     "output_type": "execute_result"
    }
   ],
   "source": [
    "# ----------  读取一个单元格  ----------\n",
    "df['b'][0]\n",
    "df.b[2]\n",
    "\n",
    "# ----------  loc  ----------\n",
    "# 读取一个单元格\n",
    "df.loc[1]['b']\n",
    "df.loc[1, 'b']\n",
    "df.loc[1].b\n",
    "\n",
    "# 读取一行多列\n",
    "df.loc[1][['a', 'c']]\n",
    "df.loc[1, ['a', 'c']]\n",
    "df.loc[1]['a':'c']\n",
    "df.loc[1, 'a':'c']\n",
    "\n",
    "# 读取多行一列 ，行号不可以用切片。\n",
    "df.loc[[0, 1]]['c']\n",
    "df.loc[[0, 1], 'c']\n",
    "df.loc[[0, 1]].b\n",
    "\n",
    "# ----------  iloc  ----------\n",
    "# 读取一个单元格\n",
    "df.iloc[1]['c']\n",
    "df.iloc[1].c\n",
    "df.iloc[1][2]\n",
    "df.iloc[1, 2]\n",
    "# 以下不支持\n",
    "# df.iloc[1,'c']\n",
    "\n",
    "# 读取一行多列\n",
    "df.iloc[1, 0:2]\n",
    "df.iloc[1][0:2]\n",
    "df.iloc[1, [0, 1]]\n",
    "df.iloc[1][[0, 1]]\n",
    "df.iloc[1]['a':'c']\n",
    "# 以下不支持\n",
    "# df.iloc[1,['a','c']]\n",
    "# df.iloc[1,'a':'c']\n",
    "\n",
    "# 读取多行一列\n",
    "df.iloc[0:1, 1]\n",
    "df.iloc[0:1]['c']\n",
    "df.iloc[[0, 2], 2]\n",
    "# 以下不支持\n",
    "# df.iloc[:,'c']"
   ]
  },
  {
   "cell_type": "code",
   "execution_count": 129,
   "id": "7f825755",
   "metadata": {
    "scrolled": true
   },
   "outputs": [
    {
     "name": "stdout",
     "output_type": "stream",
     "text": [
      "<class 'pandas.core.frame.DataFrame'>\n",
      "<class 'pandas.core.series.Series'>\n",
      "   a  c\n",
      "1  1  3\n",
      "0  4  6\n",
      "2  7  9\n"
     ]
    }
   ],
   "source": [
    "# 拿到的数据类型不一样\n",
    "print(type(df[['a']]))\n",
    "print(type(df['a']))\n",
    "\n",
    "# 取多列\n",
    "print(df[['a','c']])"
   ]
  },
  {
   "cell_type": "code",
   "execution_count": 164,
   "id": "d4396825",
   "metadata": {},
   "outputs": [
    {
     "name": "stdout",
     "output_type": "stream",
     "text": [
      "(1, 3)\n",
      "2\n",
      "3\n"
     ]
    },
    {
     "data": {
      "text/html": [
       "<div>\n",
       "<style scoped>\n",
       "    .dataframe tbody tr th:only-of-type {\n",
       "        vertical-align: middle;\n",
       "    }\n",
       "\n",
       "    .dataframe tbody tr th {\n",
       "        vertical-align: top;\n",
       "    }\n",
       "\n",
       "    .dataframe thead th {\n",
       "        text-align: right;\n",
       "    }\n",
       "</style>\n",
       "<table border=\"1\" class=\"dataframe\">\n",
       "  <thead>\n",
       "    <tr style=\"text-align: right;\">\n",
       "      <th></th>\n",
       "      <th>0</th>\n",
       "      <th>1</th>\n",
       "      <th>2</th>\n",
       "    </tr>\n",
       "  </thead>\n",
       "  <tbody>\n",
       "    <tr>\n",
       "      <th>0</th>\n",
       "      <td>[1, 2]</td>\n",
       "      <td>[3, 4]</td>\n",
       "      <td>[5, 6]</td>\n",
       "    </tr>\n",
       "  </tbody>\n",
       "</table>\n",
       "</div>"
      ],
      "text/plain": [
       "        0       1       2\n",
       "0  [1, 2]  [3, 4]  [5, 6]"
      ]
     },
     "execution_count": 164,
     "metadata": {},
     "output_type": "execute_result"
    }
   ],
   "source": [
    "# dataframe 似乎只是二维的？？\n",
    "df2 = pd.DataFrame([[[1, 2], [3, 4], [5, 6]]])\n",
    "print(df2.shape)\n",
    "print(df2.ndim)\n",
    "print(df2.size)\n",
    "df2"
   ]
  },
  {
   "cell_type": "code",
   "execution_count": 131,
   "id": "52afa6e5",
   "metadata": {
    "scrolled": true
   },
   "outputs": [
    {
     "data": {
      "text/html": [
       "<div>\n",
       "<style scoped>\n",
       "    .dataframe tbody tr th:only-of-type {\n",
       "        vertical-align: middle;\n",
       "    }\n",
       "\n",
       "    .dataframe tbody tr th {\n",
       "        vertical-align: top;\n",
       "    }\n",
       "\n",
       "    .dataframe thead th {\n",
       "        text-align: right;\n",
       "    }\n",
       "</style>\n",
       "<table border=\"1\" class=\"dataframe\">\n",
       "  <thead>\n",
       "    <tr style=\"text-align: right;\">\n",
       "      <th></th>\n",
       "      <th>1</th>\n",
       "      <th>0</th>\n",
       "      <th>2</th>\n",
       "    </tr>\n",
       "  </thead>\n",
       "  <tbody>\n",
       "    <tr>\n",
       "      <th>a</th>\n",
       "      <td>1</td>\n",
       "      <td>4</td>\n",
       "      <td>7</td>\n",
       "    </tr>\n",
       "    <tr>\n",
       "      <th>b</th>\n",
       "      <td>2</td>\n",
       "      <td>5</td>\n",
       "      <td>8</td>\n",
       "    </tr>\n",
       "    <tr>\n",
       "      <th>c</th>\n",
       "      <td>3</td>\n",
       "      <td>6</td>\n",
       "      <td>9</td>\n",
       "    </tr>\n",
       "  </tbody>\n",
       "</table>\n",
       "</div>"
      ],
      "text/plain": [
       "   1  0  2\n",
       "a  1  4  7\n",
       "b  2  5  8\n",
       "c  3  6  9"
      ]
     },
     "execution_count": 131,
     "metadata": {},
     "output_type": "execute_result"
    }
   ],
   "source": [
    "# df.T 行列互换\n",
    "df.T"
   ]
  },
  {
   "cell_type": "markdown",
   "id": "49f24f97",
   "metadata": {},
   "source": [
    "###### df.loc与iloc区别\n",
    "loc定位的是dataframe本身的index；iloc 按位置去取，第多少行。"
   ]
  },
  {
   "cell_type": "code",
   "execution_count": 149,
   "id": "a84ea7d4",
   "metadata": {
    "scrolled": false
   },
   "outputs": [
    {
     "name": "stdout",
     "output_type": "stream",
     "text": [
      "   a  b  c\n",
      "1  1  2  3\n",
      "0  4  5  6\n",
      "2  7  8  9\n"
     ]
    },
    {
     "data": {
      "text/plain": [
       "a    4\n",
       "b    5\n",
       "c    6\n",
       "Name: 0, dtype: int64"
      ]
     },
     "execution_count": 149,
     "metadata": {},
     "output_type": "execute_result"
    }
   ],
   "source": [
    "print(df)\n",
    "df.loc[0]"
   ]
  },
  {
   "cell_type": "code",
   "execution_count": 148,
   "id": "ab214291",
   "metadata": {
    "scrolled": false
   },
   "outputs": [
    {
     "data": {
      "text/plain": [
       "a    1\n",
       "b    2\n",
       "c    3\n",
       "Name: 1, dtype: int64"
      ]
     },
     "execution_count": 148,
     "metadata": {},
     "output_type": "execute_result"
    }
   ],
   "source": [
    "df.iloc[0]"
   ]
  },
  {
   "cell_type": "code",
   "execution_count": 73,
   "id": "f2006e73",
   "metadata": {
    "scrolled": true
   },
   "outputs": [
    {
     "data": {
      "text/html": [
       "<div>\n",
       "<style scoped>\n",
       "    .dataframe tbody tr th:only-of-type {\n",
       "        vertical-align: middle;\n",
       "    }\n",
       "\n",
       "    .dataframe tbody tr th {\n",
       "        vertical-align: top;\n",
       "    }\n",
       "\n",
       "    .dataframe thead th {\n",
       "        text-align: right;\n",
       "    }\n",
       "</style>\n",
       "<table border=\"1\" class=\"dataframe\">\n",
       "  <thead>\n",
       "    <tr style=\"text-align: right;\">\n",
       "      <th></th>\n",
       "      <th>b</th>\n",
       "    </tr>\n",
       "  </thead>\n",
       "  <tbody>\n",
       "    <tr>\n",
       "      <th>1</th>\n",
       "      <td>2</td>\n",
       "    </tr>\n",
       "    <tr>\n",
       "      <th>0</th>\n",
       "      <td>5</td>\n",
       "    </tr>\n",
       "    <tr>\n",
       "      <th>2</th>\n",
       "      <td>8</td>\n",
       "    </tr>\n",
       "  </tbody>\n",
       "</table>\n",
       "</div>"
      ],
      "text/plain": [
       "   b\n",
       "1  2\n",
       "0  5\n",
       "2  8"
      ]
     },
     "execution_count": 73,
     "metadata": {},
     "output_type": "execute_result"
    }
   ],
   "source": [
    "# 直接通过列号读取，不包括end\n",
    "df.iloc[:,1:2]"
   ]
  },
  {
   "cell_type": "code",
   "execution_count": 75,
   "id": "480bf90a",
   "metadata": {},
   "outputs": [
    {
     "data": {
      "text/html": [
       "<div>\n",
       "<style scoped>\n",
       "    .dataframe tbody tr th:only-of-type {\n",
       "        vertical-align: middle;\n",
       "    }\n",
       "\n",
       "    .dataframe tbody tr th {\n",
       "        vertical-align: top;\n",
       "    }\n",
       "\n",
       "    .dataframe thead th {\n",
       "        text-align: right;\n",
       "    }\n",
       "</style>\n",
       "<table border=\"1\" class=\"dataframe\">\n",
       "  <thead>\n",
       "    <tr style=\"text-align: right;\">\n",
       "      <th></th>\n",
       "      <th>b</th>\n",
       "      <th>c</th>\n",
       "    </tr>\n",
       "  </thead>\n",
       "  <tbody>\n",
       "    <tr>\n",
       "      <th>1</th>\n",
       "      <td>2</td>\n",
       "      <td>3</td>\n",
       "    </tr>\n",
       "    <tr>\n",
       "      <th>0</th>\n",
       "      <td>5</td>\n",
       "      <td>6</td>\n",
       "    </tr>\n",
       "    <tr>\n",
       "      <th>2</th>\n",
       "      <td>8</td>\n",
       "      <td>9</td>\n",
       "    </tr>\n",
       "  </tbody>\n",
       "</table>\n",
       "</div>"
      ],
      "text/plain": [
       "   b  c\n",
       "1  2  3\n",
       "0  5  6\n",
       "2  8  9"
      ]
     },
     "execution_count": 75,
     "metadata": {},
     "output_type": "execute_result"
    }
   ],
   "source": [
    "# loc 包括end\n",
    "df.loc[:,'b':'c']"
   ]
  },
  {
   "cell_type": "markdown",
   "id": "5158bd5f",
   "metadata": {},
   "source": [
    "###### DataFrame 按条件筛选"
   ]
  },
  {
   "cell_type": "code",
   "execution_count": 146,
   "id": "7b03bc3b",
   "metadata": {},
   "outputs": [
    {
     "name": "stdout",
     "output_type": "stream",
     "text": [
      "   a  b  c\n",
      "1  1  2  3\n",
      "0  4  5  6\n",
      "2  7  8  9\n"
     ]
    },
    {
     "data": {
      "text/html": [
       "<div>\n",
       "<style scoped>\n",
       "    .dataframe tbody tr th:only-of-type {\n",
       "        vertical-align: middle;\n",
       "    }\n",
       "\n",
       "    .dataframe tbody tr th {\n",
       "        vertical-align: top;\n",
       "    }\n",
       "\n",
       "    .dataframe thead th {\n",
       "        text-align: right;\n",
       "    }\n",
       "</style>\n",
       "<table border=\"1\" class=\"dataframe\">\n",
       "  <thead>\n",
       "    <tr style=\"text-align: right;\">\n",
       "      <th></th>\n",
       "      <th>a</th>\n",
       "      <th>b</th>\n",
       "      <th>c</th>\n",
       "    </tr>\n",
       "  </thead>\n",
       "  <tbody>\n",
       "    <tr>\n",
       "      <th>0</th>\n",
       "      <td>4</td>\n",
       "      <td>5</td>\n",
       "      <td>6</td>\n",
       "    </tr>\n",
       "    <tr>\n",
       "      <th>2</th>\n",
       "      <td>7</td>\n",
       "      <td>8</td>\n",
       "      <td>9</td>\n",
       "    </tr>\n",
       "  </tbody>\n",
       "</table>\n",
       "</div>"
      ],
      "text/plain": [
       "   a  b  c\n",
       "0  4  5  6\n",
       "2  7  8  9"
      ]
     },
     "execution_count": 146,
     "metadata": {},
     "output_type": "execute_result"
    }
   ],
   "source": [
    "print(df)\n",
    "df[df['c'] > 5]"
   ]
  },
  {
   "cell_type": "markdown",
   "id": "ef30a9f0",
   "metadata": {},
   "source": [
    "###### DataFrame丢弃指定轴上的值"
   ]
  },
  {
   "cell_type": "code",
   "execution_count": 168,
   "id": "9c7b312d",
   "metadata": {
    "scrolled": true
   },
   "outputs": [
    {
     "name": "stdout",
     "output_type": "stream",
     "text": [
      "   a  b  c\n",
      "0  1  2  3\n",
      "1  4  5  6\n",
      "2  7  8  9\n",
      "   a  b  c\n",
      "1  4  5  6\n",
      "2  7  8  9\n",
      "   a  c\n",
      "0  1  3\n",
      "1  4  6\n",
      "2  7  9\n"
     ]
    }
   ],
   "source": [
    "df2 = pd.DataFrame([[1, 2, 3], [4, 5, 6], [7, 8, 9]], columns=['a', 'b', 'c'])\n",
    "print(df2)\n",
    "print(df2.drop(0))\n",
    "print(df2.drop('b', axis=1))"
   ]
  },
  {
   "cell_type": "markdown",
   "id": "232d4f2d",
   "metadata": {},
   "source": [
    "######  DataFrame 排序 和 汇总统计\n",
    "df.sort_index(axis=1, ascending=False)  按index排序  \n",
    "df.sort_values(by=['a'],ascending=False)  按值排序   "
   ]
  },
  {
   "cell_type": "code",
   "execution_count": 183,
   "id": "a53fef2e",
   "metadata": {},
   "outputs": [
    {
     "name": "stdout",
     "output_type": "stream",
     "text": [
      "   a  b  c\n",
      "0  4  5  6\n",
      "1  1  2  3\n",
      "2  7  8  9\n",
      "\n",
      "   c  b  a\n",
      "1  3  2  1\n",
      "0  6  5  4\n",
      "2  9  8  7\n",
      "\n",
      "   a  b  c\n",
      "2  7  8  9\n",
      "0  4  5  6\n",
      "1  1  2  3\n"
     ]
    }
   ],
   "source": [
    "print(df.sort_index())\n",
    "print()\n",
    "print(df.sort_index(axis=1, ascending=False))\n",
    "print()\n",
    "print(df.sort_values(by=['a','b'],ascending=False))"
   ]
  },
  {
   "cell_type": "code",
   "execution_count": 192,
   "id": "34f86cd1",
   "metadata": {},
   "outputs": [
    {
     "name": "stdout",
     "output_type": "stream",
     "text": [
      "   a  b  c\n",
      "0  1  2  3\n",
      "1  4  5  6\n",
      "2  7  8  9\n"
     ]
    },
    {
     "data": {
      "text/html": [
       "<div>\n",
       "<style scoped>\n",
       "    .dataframe tbody tr th:only-of-type {\n",
       "        vertical-align: middle;\n",
       "    }\n",
       "\n",
       "    .dataframe tbody tr th {\n",
       "        vertical-align: top;\n",
       "    }\n",
       "\n",
       "    .dataframe thead th {\n",
       "        text-align: right;\n",
       "    }\n",
       "</style>\n",
       "<table border=\"1\" class=\"dataframe\">\n",
       "  <thead>\n",
       "    <tr style=\"text-align: right;\">\n",
       "      <th></th>\n",
       "      <th>a</th>\n",
       "      <th>b</th>\n",
       "      <th>c</th>\n",
       "    </tr>\n",
       "  </thead>\n",
       "  <tbody>\n",
       "    <tr>\n",
       "      <th>count</th>\n",
       "      <td>3.0</td>\n",
       "      <td>3.0</td>\n",
       "      <td>3.0</td>\n",
       "    </tr>\n",
       "    <tr>\n",
       "      <th>mean</th>\n",
       "      <td>4.0</td>\n",
       "      <td>5.0</td>\n",
       "      <td>6.0</td>\n",
       "    </tr>\n",
       "    <tr>\n",
       "      <th>std</th>\n",
       "      <td>3.0</td>\n",
       "      <td>3.0</td>\n",
       "      <td>3.0</td>\n",
       "    </tr>\n",
       "    <tr>\n",
       "      <th>min</th>\n",
       "      <td>1.0</td>\n",
       "      <td>2.0</td>\n",
       "      <td>3.0</td>\n",
       "    </tr>\n",
       "    <tr>\n",
       "      <th>25%</th>\n",
       "      <td>2.5</td>\n",
       "      <td>3.5</td>\n",
       "      <td>4.5</td>\n",
       "    </tr>\n",
       "    <tr>\n",
       "      <th>50%</th>\n",
       "      <td>4.0</td>\n",
       "      <td>5.0</td>\n",
       "      <td>6.0</td>\n",
       "    </tr>\n",
       "    <tr>\n",
       "      <th>75%</th>\n",
       "      <td>5.5</td>\n",
       "      <td>6.5</td>\n",
       "      <td>7.5</td>\n",
       "    </tr>\n",
       "    <tr>\n",
       "      <th>max</th>\n",
       "      <td>7.0</td>\n",
       "      <td>8.0</td>\n",
       "      <td>9.0</td>\n",
       "    </tr>\n",
       "  </tbody>\n",
       "</table>\n",
       "</div>"
      ],
      "text/plain": [
       "         a    b    c\n",
       "count  3.0  3.0  3.0\n",
       "mean   4.0  5.0  6.0\n",
       "std    3.0  3.0  3.0\n",
       "min    1.0  2.0  3.0\n",
       "25%    2.5  3.5  4.5\n",
       "50%    4.0  5.0  6.0\n",
       "75%    5.5  6.5  7.5\n",
       "max    7.0  8.0  9.0"
      ]
     },
     "execution_count": 192,
     "metadata": {},
     "output_type": "execute_result"
    }
   ],
   "source": [
    "print(df2)\n",
    "df2.sum(axis=1)\n",
    "df2.max(axis=1)\n",
    "df2.mean()\n",
    "# 使用describe进行统计\n",
    "df2.describe()"
   ]
  },
  {
   "cell_type": "markdown",
   "id": "934a51f2",
   "metadata": {},
   "source": [
    "###### Series \n",
    "Series:带索引的一维数组，可以像字典一样通过索引访问。  \n",
    "pandas.Series.values 返回ndarray类型的数据  \n",
    "pandas.Series.index 返回索引值  "
   ]
  },
  {
   "cell_type": "code",
   "execution_count": 14,
   "id": "ebd64608",
   "metadata": {},
   "outputs": [
    {
     "data": {
      "text/plain": [
       "0       1\n",
       "1     abc\n",
       "2      []\n",
       "3    None\n",
       "dtype: object"
      ]
     },
     "execution_count": 14,
     "metadata": {},
     "output_type": "execute_result"
    }
   ],
   "source": [
    "s = pd.Series([1, 'abc', [], None])\n",
    "s"
   ]
  },
  {
   "cell_type": "code",
   "execution_count": 17,
   "id": "a90588dc",
   "metadata": {},
   "outputs": [
    {
     "name": "stdout",
     "output_type": "stream",
     "text": [
      "<class 'numpy.ndarray'>\n"
     ]
    },
    {
     "data": {
      "text/plain": [
       "array([1, 'abc', list([]), None], dtype=object)"
      ]
     },
     "execution_count": 17,
     "metadata": {},
     "output_type": "execute_result"
    }
   ],
   "source": [
    "print(type(s.values))\n",
    "s.values"
   ]
  },
  {
   "cell_type": "code",
   "execution_count": 18,
   "id": "153c9595",
   "metadata": {},
   "outputs": [
    {
     "data": {
      "text/plain": [
       "RangeIndex(start=0, stop=4, step=1)"
      ]
     },
     "execution_count": 18,
     "metadata": {},
     "output_type": "execute_result"
    }
   ],
   "source": [
    "s.index"
   ]
  },
  {
   "cell_type": "code",
   "execution_count": 20,
   "id": "c3df1590",
   "metadata": {},
   "outputs": [
    {
     "data": {
      "text/plain": [
       "(4,)"
      ]
     },
     "execution_count": 20,
     "metadata": {},
     "output_type": "execute_result"
    }
   ],
   "source": [
    "s.shape"
   ]
  },
  {
   "cell_type": "code",
   "execution_count": 64,
   "id": "82022d6a",
   "metadata": {
    "scrolled": true
   },
   "outputs": [
    {
     "name": "stdout",
     "output_type": "stream",
     "text": [
      "a    7\n",
      "b    8\n",
      "c    9\n",
      "Name: 2, dtype: int64\n",
      "\n",
      "7\n",
      "8\n",
      "9\n",
      "a\n",
      "b\n",
      "c\n",
      "('a', 7)\n",
      "('b', 8)\n",
      "('c', 9)\n"
     ]
    }
   ],
   "source": [
    "# serial遍历\n",
    "ser = df.iloc[2]\n",
    "print(ser, end='\\n\\n')\n",
    "\n",
    "# 直接遍历，拿到value\n",
    "for i in ser:\n",
    "    print(i)\n",
    "\n",
    "# 遍历keys，拿到索引\n",
    "for i in ser.keys():\n",
    "    print(i)\n",
    "\n",
    "# 遍历items,拿到索引和数据元素\n",
    "for i in ser.items():\n",
    "    print(i)"
   ]
  },
  {
   "cell_type": "markdown",
   "id": "de95f70a",
   "metadata": {},
   "source": [
    "###### df.rolling()   quantile()\n",
    "quantile 样本分位数（百分位上的值）\n",
    "- q : float or array-like, default 0.5 (50% quantile 即中位数-第2四分位数)  \n",
    "0 <= q <= 1, the quantile(s) to compute\n",
    "\n",
    "- axis : {0, 1, ‘index’, ‘columns’} (default  0)  \n",
    "0 or ‘index’ for row-wise, 1 or ‘columns’ for column-wise\n",
    "\n",
    "- interpolation（插值方法） : {‘linear’, ‘lower’, ‘higher’, ‘midpoint’, ‘nearest’}  \n",
    "\n",
    "当选中的分为点位于两个数数据点 i and j 之间时:  \n",
    "    linear: i + (j - i) * fraction, fraction由计算得到的pos的小数部分（可以通过下面一个例子来理解这个fraction）；  \n",
    "    lower: i.  \n",
    "    higher: j.  \n",
    "    nearest: i or j whichever is nearest.  \n",
    "    midpoint: (i + j) / 2.  \n",
    "    \n",
    "    \n",
    "**rolling**  \n",
    "olling()函数除了mean()，还支持很多函数，比如：  \n",
    "count() 非空观测值数量  \n",
    "sum() 值的总和  \n",
    "median() 值的算术中值  \n",
    "min() 最小值  \n",
    "max() 最大  \n",
    "std() 贝塞尔修正样本标准差  \n",
    "var() 无偏方差  \n",
    "skew() 样品偏斜度（三阶矩）  \n",
    "kurt() 样品峰度（四阶矩）  \n",
    "quantile() 样本分位数（百分位上的值）  \n",
    "cov() 无偏协方差（二元）  \n",
    "corr() 相关（二进制）  \n",
    "借助 agg ()函数可以快速实现多个聚类函数，并输出结果，同时还可以进行重命名  "
   ]
  },
  {
   "cell_type": "code",
   "execution_count": 2,
   "id": "d822b4e8",
   "metadata": {
    "scrolled": true
   },
   "outputs": [
    {
     "data": {
      "text/html": [
       "<div>\n",
       "<style scoped>\n",
       "    .dataframe tbody tr th:only-of-type {\n",
       "        vertical-align: middle;\n",
       "    }\n",
       "\n",
       "    .dataframe tbody tr th {\n",
       "        vertical-align: top;\n",
       "    }\n",
       "\n",
       "    .dataframe thead th {\n",
       "        text-align: right;\n",
       "    }\n",
       "</style>\n",
       "<table border=\"1\" class=\"dataframe\">\n",
       "  <thead>\n",
       "    <tr style=\"text-align: right;\">\n",
       "      <th></th>\n",
       "      <th>A</th>\n",
       "      <th>B</th>\n",
       "      <th>C</th>\n",
       "      <th>D</th>\n",
       "    </tr>\n",
       "  </thead>\n",
       "  <tbody>\n",
       "    <tr>\n",
       "      <th>2020-01-01</th>\n",
       "      <td>-0.996342</td>\n",
       "      <td>-0.363682</td>\n",
       "      <td>1.153177</td>\n",
       "      <td>-0.916645</td>\n",
       "    </tr>\n",
       "    <tr>\n",
       "      <th>2020-01-02</th>\n",
       "      <td>0.496091</td>\n",
       "      <td>-0.418254</td>\n",
       "      <td>-1.489846</td>\n",
       "      <td>-0.602412</td>\n",
       "    </tr>\n",
       "    <tr>\n",
       "      <th>2020-01-03</th>\n",
       "      <td>0.620132</td>\n",
       "      <td>0.390234</td>\n",
       "      <td>0.374735</td>\n",
       "      <td>-0.021790</td>\n",
       "    </tr>\n",
       "    <tr>\n",
       "      <th>2020-01-04</th>\n",
       "      <td>-0.139881</td>\n",
       "      <td>0.998500</td>\n",
       "      <td>0.113272</td>\n",
       "      <td>-1.056277</td>\n",
       "    </tr>\n",
       "    <tr>\n",
       "      <th>2020-01-05</th>\n",
       "      <td>-0.095603</td>\n",
       "      <td>1.100106</td>\n",
       "      <td>0.628062</td>\n",
       "      <td>0.156176</td>\n",
       "    </tr>\n",
       "    <tr>\n",
       "      <th>2020-01-06</th>\n",
       "      <td>0.129116</td>\n",
       "      <td>1.537998</td>\n",
       "      <td>0.059351</td>\n",
       "      <td>0.435837</td>\n",
       "    </tr>\n",
       "    <tr>\n",
       "      <th>2020-01-07</th>\n",
       "      <td>-0.407311</td>\n",
       "      <td>-0.212661</td>\n",
       "      <td>-1.208436</td>\n",
       "      <td>-0.752958</td>\n",
       "    </tr>\n",
       "  </tbody>\n",
       "</table>\n",
       "</div>"
      ],
      "text/plain": [
       "                   A         B         C         D\n",
       "2020-01-01 -0.996342 -0.363682  1.153177 -0.916645\n",
       "2020-01-02  0.496091 -0.418254 -1.489846 -0.602412\n",
       "2020-01-03  0.620132  0.390234  0.374735 -0.021790\n",
       "2020-01-04 -0.139881  0.998500  0.113272 -1.056277\n",
       "2020-01-05 -0.095603  1.100106  0.628062  0.156176\n",
       "2020-01-06  0.129116  1.537998  0.059351  0.435837\n",
       "2020-01-07 -0.407311 -0.212661 -1.208436 -0.752958"
      ]
     },
     "execution_count": 2,
     "metadata": {},
     "output_type": "execute_result"
    }
   ],
   "source": [
    "import pandas as pd\n",
    "import numpy as np\n",
    "\n",
    "df = pd.DataFrame(np.random.randn(7, 4),\n",
    "                  index=pd.date_range('1/1/2020', periods=7),\n",
    "                  columns=['A', 'B', 'C', 'D'])\n",
    "df"
   ]
  },
  {
   "cell_type": "code",
   "execution_count": 4,
   "id": "2d09e92f",
   "metadata": {
    "collapsed": true
   },
   "outputs": [
    {
     "data": {
      "text/html": [
       "<div>\n",
       "<style scoped>\n",
       "    .dataframe tbody tr th:only-of-type {\n",
       "        vertical-align: middle;\n",
       "    }\n",
       "\n",
       "    .dataframe tbody tr th {\n",
       "        vertical-align: top;\n",
       "    }\n",
       "\n",
       "    .dataframe thead th {\n",
       "        text-align: right;\n",
       "    }\n",
       "</style>\n",
       "<table border=\"1\" class=\"dataframe\">\n",
       "  <thead>\n",
       "    <tr style=\"text-align: right;\">\n",
       "      <th></th>\n",
       "      <th>A</th>\n",
       "      <th>B</th>\n",
       "      <th>C</th>\n",
       "      <th>D</th>\n",
       "    </tr>\n",
       "  </thead>\n",
       "  <tbody>\n",
       "    <tr>\n",
       "      <th>2020-01-01</th>\n",
       "      <td>NaN</td>\n",
       "      <td>NaN</td>\n",
       "      <td>NaN</td>\n",
       "      <td>NaN</td>\n",
       "    </tr>\n",
       "    <tr>\n",
       "      <th>2020-01-02</th>\n",
       "      <td>NaN</td>\n",
       "      <td>NaN</td>\n",
       "      <td>NaN</td>\n",
       "      <td>NaN</td>\n",
       "    </tr>\n",
       "    <tr>\n",
       "      <th>2020-01-03</th>\n",
       "      <td>0.039961</td>\n",
       "      <td>-0.130567</td>\n",
       "      <td>0.012689</td>\n",
       "      <td>-0.513616</td>\n",
       "    </tr>\n",
       "    <tr>\n",
       "      <th>2020-01-04</th>\n",
       "      <td>0.325448</td>\n",
       "      <td>0.323493</td>\n",
       "      <td>-0.333946</td>\n",
       "      <td>-0.560160</td>\n",
       "    </tr>\n",
       "    <tr>\n",
       "      <th>2020-01-05</th>\n",
       "      <td>0.128216</td>\n",
       "      <td>0.829613</td>\n",
       "      <td>0.372023</td>\n",
       "      <td>-0.307297</td>\n",
       "    </tr>\n",
       "    <tr>\n",
       "      <th>2020-01-06</th>\n",
       "      <td>-0.035456</td>\n",
       "      <td>1.212201</td>\n",
       "      <td>0.266895</td>\n",
       "      <td>-0.154755</td>\n",
       "    </tr>\n",
       "    <tr>\n",
       "      <th>2020-01-07</th>\n",
       "      <td>-0.124599</td>\n",
       "      <td>0.808481</td>\n",
       "      <td>-0.173674</td>\n",
       "      <td>-0.053648</td>\n",
       "    </tr>\n",
       "  </tbody>\n",
       "</table>\n",
       "</div>"
      ],
      "text/plain": [
       "                   A         B         C         D\n",
       "2020-01-01       NaN       NaN       NaN       NaN\n",
       "2020-01-02       NaN       NaN       NaN       NaN\n",
       "2020-01-03  0.039961 -0.130567  0.012689 -0.513616\n",
       "2020-01-04  0.325448  0.323493 -0.333946 -0.560160\n",
       "2020-01-05  0.128216  0.829613  0.372023 -0.307297\n",
       "2020-01-06 -0.035456  1.212201  0.266895 -0.154755\n",
       "2020-01-07 -0.124599  0.808481 -0.173674 -0.053648"
      ]
     },
     "execution_count": 4,
     "metadata": {},
     "output_type": "execute_result"
    }
   ],
   "source": [
    "df.rolling(window=3).mean()"
   ]
  },
  {
   "cell_type": "code",
   "execution_count": 5,
   "id": "651e2e86",
   "metadata": {
    "collapsed": true
   },
   "outputs": [
    {
     "data": {
      "text/html": [
       "<div>\n",
       "<style scoped>\n",
       "    .dataframe tbody tr th:only-of-type {\n",
       "        vertical-align: middle;\n",
       "    }\n",
       "\n",
       "    .dataframe tbody tr th {\n",
       "        vertical-align: top;\n",
       "    }\n",
       "\n",
       "    .dataframe thead th {\n",
       "        text-align: right;\n",
       "    }\n",
       "</style>\n",
       "<table border=\"1\" class=\"dataframe\">\n",
       "  <thead>\n",
       "    <tr style=\"text-align: right;\">\n",
       "      <th></th>\n",
       "      <th>A</th>\n",
       "      <th>B</th>\n",
       "      <th>C</th>\n",
       "      <th>D</th>\n",
       "    </tr>\n",
       "  </thead>\n",
       "  <tbody>\n",
       "    <tr>\n",
       "      <th>2020-01-01</th>\n",
       "      <td>-0.996342</td>\n",
       "      <td>-0.363682</td>\n",
       "      <td>1.153177</td>\n",
       "      <td>-0.916645</td>\n",
       "    </tr>\n",
       "    <tr>\n",
       "      <th>2020-01-02</th>\n",
       "      <td>-0.250125</td>\n",
       "      <td>-0.390968</td>\n",
       "      <td>-0.168334</td>\n",
       "      <td>-0.759528</td>\n",
       "    </tr>\n",
       "    <tr>\n",
       "      <th>2020-01-03</th>\n",
       "      <td>0.039961</td>\n",
       "      <td>-0.130567</td>\n",
       "      <td>0.012689</td>\n",
       "      <td>-0.513616</td>\n",
       "    </tr>\n",
       "    <tr>\n",
       "      <th>2020-01-04</th>\n",
       "      <td>0.325448</td>\n",
       "      <td>0.323493</td>\n",
       "      <td>-0.333946</td>\n",
       "      <td>-0.560160</td>\n",
       "    </tr>\n",
       "    <tr>\n",
       "      <th>2020-01-05</th>\n",
       "      <td>0.128216</td>\n",
       "      <td>0.829613</td>\n",
       "      <td>0.372023</td>\n",
       "      <td>-0.307297</td>\n",
       "    </tr>\n",
       "    <tr>\n",
       "      <th>2020-01-06</th>\n",
       "      <td>-0.035456</td>\n",
       "      <td>1.212201</td>\n",
       "      <td>0.266895</td>\n",
       "      <td>-0.154755</td>\n",
       "    </tr>\n",
       "    <tr>\n",
       "      <th>2020-01-07</th>\n",
       "      <td>-0.124599</td>\n",
       "      <td>0.808481</td>\n",
       "      <td>-0.173674</td>\n",
       "      <td>-0.053648</td>\n",
       "    </tr>\n",
       "  </tbody>\n",
       "</table>\n",
       "</div>"
      ],
      "text/plain": [
       "                   A         B         C         D\n",
       "2020-01-01 -0.996342 -0.363682  1.153177 -0.916645\n",
       "2020-01-02 -0.250125 -0.390968 -0.168334 -0.759528\n",
       "2020-01-03  0.039961 -0.130567  0.012689 -0.513616\n",
       "2020-01-04  0.325448  0.323493 -0.333946 -0.560160\n",
       "2020-01-05  0.128216  0.829613  0.372023 -0.307297\n",
       "2020-01-06 -0.035456  1.212201  0.266895 -0.154755\n",
       "2020-01-07 -0.124599  0.808481 -0.173674 -0.053648"
      ]
     },
     "execution_count": 5,
     "metadata": {},
     "output_type": "execute_result"
    }
   ],
   "source": [
    "df.rolling(window=3,min_periods=1).mean()"
   ]
  },
  {
   "cell_type": "code",
   "execution_count": 10,
   "id": "035de74c",
   "metadata": {},
   "outputs": [
    {
     "data": {
      "text/html": [
       "<div>\n",
       "<style scoped>\n",
       "    .dataframe tbody tr th:only-of-type {\n",
       "        vertical-align: middle;\n",
       "    }\n",
       "\n",
       "    .dataframe tbody tr th {\n",
       "        vertical-align: top;\n",
       "    }\n",
       "\n",
       "    .dataframe thead th {\n",
       "        text-align: right;\n",
       "    }\n",
       "</style>\n",
       "<table border=\"1\" class=\"dataframe\">\n",
       "  <thead>\n",
       "    <tr style=\"text-align: right;\">\n",
       "      <th></th>\n",
       "      <th>A</th>\n",
       "      <th>B</th>\n",
       "      <th>C</th>\n",
       "      <th>D</th>\n",
       "    </tr>\n",
       "  </thead>\n",
       "  <tbody>\n",
       "    <tr>\n",
       "      <th>2020-01-01</th>\n",
       "      <td>-0.996342</td>\n",
       "      <td>-0.363682</td>\n",
       "      <td>1.153177</td>\n",
       "      <td>-0.916645</td>\n",
       "    </tr>\n",
       "    <tr>\n",
       "      <th>2020-01-02</th>\n",
       "      <td>-0.623233</td>\n",
       "      <td>-0.404611</td>\n",
       "      <td>-0.829090</td>\n",
       "      <td>-0.838086</td>\n",
       "    </tr>\n",
       "    <tr>\n",
       "      <th>2020-01-03</th>\n",
       "      <td>-0.250125</td>\n",
       "      <td>-0.390968</td>\n",
       "      <td>-0.557556</td>\n",
       "      <td>-0.759528</td>\n",
       "    </tr>\n",
       "    <tr>\n",
       "      <th>2020-01-04</th>\n",
       "      <td>0.178105</td>\n",
       "      <td>-0.014010</td>\n",
       "      <td>-0.688287</td>\n",
       "      <td>-0.829345</td>\n",
       "    </tr>\n",
       "    <tr>\n",
       "      <th>2020-01-05</th>\n",
       "      <td>-0.117742</td>\n",
       "      <td>0.694367</td>\n",
       "      <td>0.244004</td>\n",
       "      <td>-0.539034</td>\n",
       "    </tr>\n",
       "    <tr>\n",
       "      <th>2020-01-06</th>\n",
       "      <td>-0.117742</td>\n",
       "      <td>1.049303</td>\n",
       "      <td>0.086312</td>\n",
       "      <td>-0.450050</td>\n",
       "    </tr>\n",
       "    <tr>\n",
       "      <th>2020-01-07</th>\n",
       "      <td>-0.251457</td>\n",
       "      <td>0.443722</td>\n",
       "      <td>-0.574542</td>\n",
       "      <td>-0.298391</td>\n",
       "    </tr>\n",
       "  </tbody>\n",
       "</table>\n",
       "</div>"
      ],
      "text/plain": [
       "                   A         B         C         D\n",
       "2020-01-01 -0.996342 -0.363682  1.153177 -0.916645\n",
       "2020-01-02 -0.623233 -0.404611 -0.829090 -0.838086\n",
       "2020-01-03 -0.250125 -0.390968 -0.557556 -0.759528\n",
       "2020-01-04  0.178105 -0.014010 -0.688287 -0.829345\n",
       "2020-01-05 -0.117742  0.694367  0.244004 -0.539034\n",
       "2020-01-06 -0.117742  1.049303  0.086312 -0.450050\n",
       "2020-01-07 -0.251457  0.443722 -0.574542 -0.298391"
      ]
     },
     "execution_count": 10,
     "metadata": {},
     "output_type": "execute_result"
    }
   ],
   "source": [
    "df.rolling(window=3,min_periods=1).quantile(0.25)"
   ]
  },
  {
   "cell_type": "markdown",
   "id": "bd0f3682",
   "metadata": {},
   "source": [
    "###### 显示格式设置\n",
    "pd.set_option('display.float_format', lambda x: '%.5f' % x)"
   ]
  }
 ],
 "metadata": {
  "kernelspec": {
   "display_name": "ml37",
   "language": "python",
   "name": "ml37"
  },
  "language_info": {
   "codemirror_mode": {
    "name": "ipython",
    "version": 3
   },
   "file_extension": ".py",
   "mimetype": "text/x-python",
   "name": "python",
   "nbconvert_exporter": "python",
   "pygments_lexer": "ipython3",
   "version": "3.7.10"
  },
  "toc": {
   "base_numbering": 1,
   "nav_menu": {},
   "number_sections": true,
   "sideBar": true,
   "skip_h1_title": false,
   "title_cell": "Table of Contents",
   "title_sidebar": "Contents",
   "toc_cell": false,
   "toc_position": {
    "height": "calc(100% - 180px)",
    "left": "10px",
    "top": "150px",
    "width": "307.188px"
   },
   "toc_section_display": true,
   "toc_window_display": true
  },
  "varInspector": {
   "cols": {
    "lenName": 16,
    "lenType": 16,
    "lenVar": 40
   },
   "kernels_config": {
    "python": {
     "delete_cmd_postfix": "",
     "delete_cmd_prefix": "del ",
     "library": "var_list.py",
     "varRefreshCmd": "print(var_dic_list())"
    },
    "r": {
     "delete_cmd_postfix": ") ",
     "delete_cmd_prefix": "rm(",
     "library": "var_list.r",
     "varRefreshCmd": "cat(var_dic_list()) "
    }
   },
   "types_to_exclude": [
    "module",
    "function",
    "builtin_function_or_method",
    "instance",
    "_Feature"
   ],
   "window_display": false
  }
 },
 "nbformat": 4,
 "nbformat_minor": 5
}
