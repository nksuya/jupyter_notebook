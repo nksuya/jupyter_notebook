{
 "cells": [
  {
   "cell_type": "markdown",
   "metadata": {},
   "source": [
    "# Python在列表,元组和字典的末尾允许使用逗号"
   ]
  },
  {
   "cell_type": "code",
   "execution_count": 1,
   "metadata": {},
   "outputs": [
    {
     "data": {
      "text/plain": [
       "{'A': 1, 'B': 2, 'C': 3}"
      ]
     },
     "execution_count": 1,
     "metadata": {},
     "output_type": "execute_result"
    }
   ],
   "source": [
    "[1, 2, 3, ]\n",
    "('a', 'b', 'c',)\n",
    "{\n",
    "    'A': 1,\n",
    "    'B': 2,\n",
    "    'C': 3,\n",
    "}"
   ]
  },
  {
   "cell_type": "markdown",
   "metadata": {},
   "source": [
    "# Counter类\n",
    "Counter类是dict的一个子类，可以用来很方便的统计字数。"
   ]
  },
  {
   "cell_type": "code",
   "execution_count": 6,
   "metadata": {},
   "outputs": [
    {
     "name": "stdout",
     "output_type": "stream",
     "text": [
      "Counter({'g': 2, 'e': 2, 'r': 1, 't': 1, 'i': 1, 'n': 1})\n",
      "1\n",
      "3\n"
     ]
    }
   ],
   "source": [
    "from collections import Counter\n",
    "\n",
    "c = Counter('greeting')\n",
    "print(c)\n",
    "print(c['i'])\n",
    "\n",
    "c2 = Counter('validation')\n",
    "c.update(c2)  # 加入一个新的counter\n",
    "print(c['i'])"
   ]
  },
  {
   "cell_type": "markdown",
   "metadata": {},
   "source": [
    "# doctest\n",
    "verbose 冗长的，verbose参数为True表示输出详细信息，为False则只存在失败测试用例时才输出信息。"
   ]
  },
  {
   "cell_type": "code",
   "execution_count": 10,
   "metadata": {
    "scrolled": false
   },
   "outputs": [
    {
     "name": "stdout",
     "output_type": "stream",
     "text": [
      "Trying:\n",
      "    add(4, 3)\n",
      "Expecting:\n",
      "    7\n",
      "ok\n",
      "Trying:\n",
      "    add('a', 'b')\n",
      "Expecting:\n",
      "    'ab'\n",
      "ok\n",
      "Trying:\n",
      "    add(0, 6)\n",
      "Expecting:\n",
      "    6\n",
      "ok\n",
      "1 items had no tests:\n",
      "    __main__\n",
      "1 items passed all tests:\n",
      "   3 tests in __main__.add\n",
      "3 tests in 2 items.\n",
      "3 passed and 0 failed.\n",
      "Test passed.\n"
     ]
    }
   ],
   "source": [
    "def add(a, b):\n",
    "    \"\"\"\n",
    "    这是段有格式的注释.\n",
    "    >>> add(4, 3)\n",
    "    7\n",
    "    >>> add('a', 'b')\n",
    "    'ab'\n",
    "    >>> add(0, 6)\n",
    "    6\n",
    "    \"\"\"\n",
    "    return a + b\n",
    "\n",
    "\n",
    "if __name__ == '__main__':\n",
    "    import doctest\n",
    "\n",
    "    doctest.testmod(verbose=True)"
   ]
  },
  {
   "cell_type": "markdown",
   "metadata": {},
   "source": [
    "# python3中input()接受一个标准输入数据，返回为 string 类型。"
   ]
  },
  {
   "cell_type": "code",
   "execution_count": 12,
   "metadata": {},
   "outputs": [
    {
     "name": "stdout",
     "output_type": "stream",
     "text": [
      "please input the name:Monica\n",
      "name is Monica\n"
     ]
    }
   ],
   "source": [
    "# input([prompt])\n",
    "# prompt 提示\n",
    "a = input('please input the name:')\n",
    "print(f'name is {a}')"
   ]
  },
  {
   "cell_type": "markdown",
   "metadata": {},
   "source": [
    "# 使用numpy中的arange生成小数步长数列"
   ]
  },
  {
   "cell_type": "code",
   "execution_count": 17,
   "metadata": {},
   "outputs": [
    {
     "data": {
      "text/plain": [
       "array([0. , 0.1, 0.2, 0.3, 0.4, 0.5, 0.6, 0.7, 0.8, 0.9])"
      ]
     },
     "execution_count": 17,
     "metadata": {},
     "output_type": "execute_result"
    }
   ],
   "source": [
    "import numpy as np\n",
    "\n",
    "np.arange(0, 1, 0.1)"
   ]
  },
  {
   "cell_type": "markdown",
   "metadata": {},
   "source": [
    "# print sep设置分隔字符"
   ]
  },
  {
   "cell_type": "code",
   "execution_count": 18,
   "metadata": {
    "scrolled": true
   },
   "outputs": [
    {
     "name": "stdout",
     "output_type": "stream",
     "text": [
      "cat,dog,mise\n"
     ]
    }
   ],
   "source": [
    "print('cat','dog','mise',sep=',')"
   ]
  },
  {
   "cell_type": "markdown",
   "metadata": {},
   "source": [
    "# 全局变量"
   ]
  },
  {
   "cell_type": "code",
   "execution_count": 21,
   "metadata": {},
   "outputs": [
    {
     "name": "stdout",
     "output_type": "stream",
     "text": [
      "1\n"
     ]
    }
   ],
   "source": [
    "a = 1\n",
    "\n",
    "\n",
    "def fun():\n",
    "    print(a) # 该变量没有用在赋值语句中，它就是全局变量\n",
    "\n",
    "\n",
    "fun()"
   ]
  },
  {
   "cell_type": "markdown",
   "metadata": {},
   "source": [
    "# 列表删除元素三种方法\n",
    "del 列表\\[元素索引] <br/>\n",
    "pop()默认删除最后一个，也可以用pop(元素索引) 删除指定位置的 <br/>\n",
    "列表.remove(元素值)   按值删除第一个符合条件的元素\n"
   ]
  },
  {
   "cell_type": "markdown",
   "metadata": {},
   "source": [
    "# 引用\n",
    "在变量必须保存可变数据类型的值时，例如列表或字典，Python 就使用引用。<br/>\n",
    "对于不可变的数据类型的值， 例如字符串、整型或元组， Python变量就保存值本身。"
   ]
  },
  {
   "cell_type": "code",
   "execution_count": 28,
   "metadata": {},
   "outputs": [
    {
     "name": "stdout",
     "output_type": "stream",
     "text": [
      "8\n",
      "100\n"
     ]
    }
   ],
   "source": [
    "a = 100\n",
    "b = a\n",
    "a = 8\n",
    "print(a)\n",
    "print(b)"
   ]
  },
  {
   "cell_type": "code",
   "execution_count": 23,
   "metadata": {},
   "outputs": [
    {
     "name": "stdout",
     "output_type": "stream",
     "text": [
      "[3, 9, 7]\n",
      "[3, 9, 7]\n"
     ]
    }
   ],
   "source": [
    "a = [3, 45, 7]\n",
    "b = a\n",
    "a[1] = 9\n",
    "print(a)\n",
    "print(b)"
   ]
  },
  {
   "cell_type": "code",
   "execution_count": 25,
   "metadata": {},
   "outputs": [
    {
     "name": "stdout",
     "output_type": "stream",
     "text": [
      "[1, 2, 3, 'Hello']\n"
     ]
    }
   ],
   "source": [
    "# 传递引用\n",
    "def eggs(someParameter):\n",
    "    someParameter.append('Hello')\n",
    "\n",
    "\n",
    "spam = [1, 2, 3]\n",
    "eggs(spam)\n",
    "print(spam)"
   ]
  },
  {
   "cell_type": "code",
   "execution_count": 27,
   "metadata": {},
   "outputs": [
    {
     "name": "stdout",
     "output_type": "stream",
     "text": [
      "[3, 9, 7]\n",
      "[3, 45, 7]\n"
     ]
    }
   ],
   "source": [
    "import copy\n",
    "\n",
    "a = [3, 45, 7]\n",
    "b = copy.copy(a)  # 现在a ,b 指向不同的列表\n",
    "a[1] = 9\n",
    "print(a)\n",
    "print(b)\n",
    "# 如果要复制的列表中包含了列表，那就使用 copy.deepcopy()函数来代替。deepcopy()函数将同时复制它们内部的列表。"
   ]
  },
  {
   "cell_type": "markdown",
   "metadata": {},
   "source": [
    "# 字符串upper()、lower()不改变字符串本身，而是返回一个新字符串\n",
    "所以要修改原来字符串，需要赋值回去"
   ]
  },
  {
   "cell_type": "code",
   "execution_count": 31,
   "metadata": {},
   "outputs": [
    {
     "name": "stdout",
     "output_type": "stream",
     "text": [
      "GREETING\n",
      "greeting\n"
     ]
    }
   ],
   "source": [
    "s = 'greeting'\n",
    "s = s.upper()\n",
    "print(s)\n",
    "s = s.lower()\n",
    "print(s)"
   ]
  },
  {
   "cell_type": "markdown",
   "metadata": {},
   "source": [
    "# 正则\n",
    "？匹配这个问号之前的分组零次或一次 。问号在正则表达式中可能有两种含义：声明非贪心匹配或表示可选的分组。<br/>\n",
    "\\* 匹配零次或多次 <br/>\n",
    "\\+ 匹配一次或多次 <br/>\n",
    "(Ha){3,5} 匹配3到5次 <br/>\n",
    "\n",
    "findall()方法： <br/>\n",
    "1．如果调用在一个没有分组的正则表达式上，例如\\d\\d\\d-\\d\\d\\d-\\d\\d\\d\\d，方法findall()将返回一个匹配字符串的列表，例如\\['415-555-9999', '212-555-0000']。 <br/>\n",
    "2．如果调用在一个有分组的正则表达式上，例如(\\d\\d\\d)-(\\d\\d\\d)-(\\d\\d\\d\\d)，方法 findall()将返回一个字符串的元组的列表 （每个分组对应一个字符串）， 例如[('415', '555', '1122'), ('212', '555', '0000')]。 <br/>"
   ]
  },
  {
   "cell_type": "code",
   "execution_count": 45,
   "metadata": {},
   "outputs": [
    {
     "data": {
      "text/plain": [
       "('111', '222-3333')"
      ]
     },
     "execution_count": 45,
     "metadata": {},
     "output_type": "execute_result"
    }
   ],
   "source": [
    "import re\n",
    "# regex = re.compile(r'\\d\\d\\d-\\d\\d\\d-\\d\\d\\d\\d')\n",
    "regex = re.compile(r'(\\d{3})-(\\d{3}-\\d{4})')\n",
    "m = regex.search('My number is 415-555-4242.')\n",
    "m.group(2)\n",
    "m.groups()  # 一次就获取所有的分组\n",
    "\n",
    "m = regex.search('111-222-3333  My number is 415-555-4242.  ')  # search只返回第一个匹配\n",
    "m.groups()"
   ]
  },
  {
   "cell_type": "markdown",
   "metadata": {},
   "source": [
    "# 复制移动文件 shutil\n",
    "copy() 复制文件，只复制权限 <br/>\n",
    "copy2() 复制文件，保留元数据。在copy()基础上多了复制最后访问时间、最后修改时间 <br/>\n",
    "shutil.copytree() 复制整个文件夹，以及它包含的文件夹和文件 <br/>\n",
    "move() 移动文件 <br/>\n",
    "<br/>\n",
    "os.unlink(文件路径)  删除一个文件,*永久删除，不可恢复，慎用！*<br/>\n",
    "os.rmdir(r'F:\\Test') 删除目录，目录不为空会报错<br/>\n",
    "rmtree() 删除整个目录（递归）,*永久删除，不可恢复，慎用！*<br/>\n",
    "推荐使用send2trash()删除"
   ]
  },
  {
   "cell_type": "code",
   "execution_count": 55,
   "metadata": {},
   "outputs": [],
   "source": [
    "import shutil\n",
    "\n",
    "# shutil.copy(r'F:\\cared-device.txt', r'F:\\cared-device.txt')  # 复制到同一目录同一文件会报错。\n",
    "# shutil.copy(r'F:\\cared-device.txt', r'F:\\Test')   # 仅指定目录\n",
    "# shutil.copy(r'F:\\cared-device.txt', r'F:\\Test\\newfile.txt')  #  指定了新的文件名\n",
    "\n",
    "import send2trash\n",
    "# send2trash.send2trash(r'F:\\Test\\cared-device.txt')"
   ]
  },
  {
   "cell_type": "markdown",
   "metadata": {},
   "source": [
    "# os.walk()  \n",
    "用类似深度遍历的方式遍历文件夹及文件，返回（dirpath, dirnames, filenames）三元组。"
   ]
  },
  {
   "cell_type": "markdown",
   "metadata": {},
   "source": [
    "# zipfile模块"
   ]
  },
  {
   "cell_type": "code",
   "execution_count": 12,
   "metadata": {},
   "outputs": [],
   "source": [
    "import zipfile\n",
    "import os\n",
    "\n",
    "os.chdir(r'F:\\A.Learning\\代码等')\n",
    "exam = zipfile.ZipFile('byte-of-python-master.zip')\n",
    "# exam.namelist()  # 列出所有文件和文件夹\n",
    "# print(exam.getinfo('byte-of-python-master/02.dedication.md'))    # 文件信息\n",
    "# exam.extract('byte-of-python-master/02.dedication.md',r'F:\\A.Learning\\代码等\\new folder')   #解压单个文件\n",
    "exam.close()\n",
    "\n",
    "# 创建一个zip文件\n",
    "# newzip = zipfile.ZipFile('new.zip', 'w')\n",
    "# newzip.write('F:/A.Learning/代码等/byte-of-python-master/02.dedication.md',\n",
    "#              compress_type=zipfile.ZIP_DEFLATED)\n",
    "# newzip.close()"
   ]
  },
  {
   "cell_type": "markdown",
   "metadata": {},
   "source": [
    "# 用 pillow 操作图像"
   ]
  },
  {
   "cell_type": "code",
   "execution_count": 1,
   "metadata": {},
   "outputs": [],
   "source": [
    "from PIL import Image\n",
    "im = Image.open(r'D:\\Pictures\\bing-wallpaper\\2019-04-16.jpg')\n",
    "cim = im.crop((500, 500, 600, 700))  # 裁剪图像\n",
    "# cim.save('D:\\\\Pictures\\\\cut.png')"
   ]
  },
  {
   "cell_type": "markdown",
   "metadata": {},
   "source": [
    "# 用 pyautogui 操纵鼠标"
   ]
  },
  {
   "cell_type": "code",
   "execution_count": 13,
   "metadata": {},
   "outputs": [
    {
     "data": {
      "text/plain": [
       "Point(x=1424, y=735)"
      ]
     },
     "execution_count": 13,
     "metadata": {},
     "output_type": "execute_result"
    }
   ],
   "source": [
    "import pyautogui\n",
    "width, height = pyautogui.size()\n",
    "\n",
    "# pyautogui.moveTo() 函数将鼠标移动到屏幕的指定位置\n",
    "# for i in range(5):\n",
    "#     pyautogui.moveTo(100, 100, duration=0.25)  # 每次移动耗时0.25s\n",
    "#     pyautogui.moveTo(200, 100, duration=0.25)\n",
    "#     pyautogui.moveTo(200, 200, duration=0.25)\n",
    "#     pyautogui.moveTo(100, 200, duration=0.25)\n",
    "\n",
    "# pyautogui.moveRel() 函数相对于当前的位置移动鼠标\n",
    "# for i in range(5):\n",
    "#     pyautogui.moveRel(100, 0, duration=0.25)\n",
    "#     pyautogui.moveRel(0, 100, duration=0.25)\n",
    "#     pyautogui.moveRel(-100, 0, duration=0.25)\n",
    "#     pyautogui.moveRel(0, -100, duration=0.25)\n",
    "\n",
    "pyautogui.position()  # 获取鼠标当前位置"
   ]
  },
  {
   "cell_type": "code",
   "execution_count": null,
   "metadata": {},
   "outputs": [],
   "source": [
    "# 打开一个文本文件，自动输入内容\n",
    "pyautogui.click(100, 100)  # 获得焦点\n",
    "pyautogui.typewrite('hello')  # 模拟键盘输入"
   ]
  },
  {
   "cell_type": "markdown",
   "metadata": {},
   "source": [
    "# reverse() 和 reversed()\n",
    "reverse()列表的内置方法  \n",
    "reversed()属于python自带的一个方法，可用于列表、元组和字符串等"
   ]
  },
  {
   "cell_type": "code",
   "execution_count": 2,
   "metadata": {},
   "outputs": [
    {
     "data": {
      "text/plain": [
       "'olleh'"
      ]
     },
     "execution_count": 2,
     "metadata": {},
     "output_type": "execute_result"
    }
   ],
   "source": [
    "s = 'hello'\n",
    "''.join(reversed(s))"
   ]
  },
  {
   "cell_type": "markdown",
   "metadata": {},
   "source": [
    "# 列表复制  \n",
    "copy、list、slice都是创建了新列表，不影响原来列表。"
   ]
  },
  {
   "cell_type": "code",
   "execution_count": 5,
   "metadata": {
    "scrolled": true
   },
   "outputs": [
    {
     "name": "stdout",
     "output_type": "stream",
     "text": [
      "[1, 2, 3]\n",
      "[1, 2, 3]\n",
      "[1, 2, 3]\n"
     ]
    }
   ],
   "source": [
    "from copy import copy\n",
    "a = [1, 2, 3]\n",
    "b = list(a)\n",
    "b[0] = 8\n",
    "print(a)\n",
    "\n",
    "a = [1, 2, 3]\n",
    "b = a.copy()\n",
    "b[0] = 8\n",
    "print(a)\n",
    "\n",
    "a = [1, 2, 3]\n",
    "b = a[:]\n",
    "b[0] = 8\n",
    "print(a)"
   ]
  },
  {
   "cell_type": "markdown",
   "metadata": {},
   "source": [
    "# datetime"
   ]
  },
  {
   "cell_type": "code",
   "execution_count": 2,
   "metadata": {
    "scrolled": true
   },
   "outputs": [
    {
     "data": {
      "text/plain": [
       "datetime.datetime(2021, 5, 8, 11, 48, 10, 33000)"
      ]
     },
     "execution_count": 2,
     "metadata": {},
     "output_type": "execute_result"
    }
   ],
   "source": [
    "from datetime import datetime,timedelta\n",
    "dt =datetime(2021,2,4,12,20,33)  # 用指定日期时间创建datetime\n",
    "dt.timestamp()  # datetime转timestamp，得到秒，时间戳以1970年1月1日00:00作为起始。\n",
    "dt1=datetime.fromtimestamp(1612412433.0)  # timestamp转换为datetime，本地时间\n",
    "dt2=datetime.utcfromtimestamp(1612412433.0) # timestamp转换为datetime，UTC时间\n",
    "dt = datetime.strptime('2021-02-04 12:20:33','%Y-%m-%d %H:%M:%S')  # str转datetime\n",
    "dt = datetime.now()\n",
    "s = datetime.strftime(dt,'%Y-%m-%d %H:%M:%S')  # datetime转str\n",
    "\n",
    "dt+timedelta(days=1)  # 时间加减\n",
    "dt+timedelta(hours=1)\n",
    "dt+timedelta(minutes=-3)"
   ]
  },
  {
   "cell_type": "markdown",
   "metadata": {},
   "source": [
    "# 位置参数 - 默认值参数 - 关键字参数 - 可变参数\n",
    "可变参数包括：<br/> \n",
    "\\*args 根据传进参数的位置合并为一个元组(tuple)  \n",
    "\\**kargs 组合成字典传入 <br/> <br/>   "
   ]
  },
  {
   "cell_type": "code",
   "execution_count": 3,
   "metadata": {},
   "outputs": [
    {
     "name": "stdout",
     "output_type": "stream",
     "text": [
      "tanggu 男\n",
      "tanggu 男\n"
     ]
    }
   ],
   "source": [
    "def print_hello(name, sex):\n",
    "    print(name, sex)\n",
    "\n",
    "\n",
    "args = ('tanggu', '男')\n",
    "print_hello(*args)\n",
    "\n",
    "kargs = {'name': 'tanggu', 'sex': '男'}\n",
    "print_hello(**kargs)"
   ]
  },
  {
   "cell_type": "markdown",
   "metadata": {},
   "source": [
    "# 继承\n",
    "super用来解决调用父类方法的问题  "
   ]
  },
  {
   "cell_type": "code",
   "execution_count": 1,
   "metadata": {},
   "outputs": [
    {
     "name": "stdout",
     "output_type": "stream",
     "text": [
      "Filled!\n",
      "This car doesn't need a gas tank!\n"
     ]
    }
   ],
   "source": [
    "class Car(object):\n",
    "    def __init__(self):\n",
    "        pass\n",
    "\n",
    "    def fill_gas_tank(self):\n",
    "        print(\"Filled!\")\n",
    "\n",
    "\n",
    "class ElectricCar(Car):\n",
    "    def __init__(self):\n",
    "        super().__init__()\n",
    "\n",
    "    def fill_gas_tank(self):  # 子类 重构方法\n",
    "        \"\"\"Electric cars don't have gas tanks.\"\"\"\n",
    "        print(\"This car doesn't need a gas tank!\")\n",
    "\n",
    "\n",
    "car = Car()\n",
    "car.fill_gas_tank()\n",
    "ecar = ElectricCar()\n",
    "ecar.fill_gas_tank()"
   ]
  },
  {
   "cell_type": "markdown",
   "metadata": {},
   "source": [
    "Python3.x 和 Python2.x 的一个区别是: Python 3 可以使用直接使用 super().xxx 代替 super(Class, self).xxx "
   ]
  },
  {
   "cell_type": "code",
   "execution_count": 22,
   "metadata": {},
   "outputs": [
    {
     "name": "stdout",
     "output_type": "stream",
     "text": [
      "3\n"
     ]
    }
   ],
   "source": [
    "class A:\n",
    "     def add(self, x):\n",
    "         y = x+1\n",
    "         print(y)\n",
    "class B(A):\n",
    "    def add(self, x):\n",
    "        super().add(x)\n",
    "b = B()\n",
    "b.add(2)  # 3"
   ]
  },
  {
   "cell_type": "markdown",
   "metadata": {},
   "source": [
    "# 读文件\n",
    "read() 一次性读取所有文件。推荐使用read(size)，读取指定字节，size越大，时间越长。  \n",
    "readline() 读一行，内存不够时使用,比readlines()慢。    \n",
    "readlines() 一次性读取返回list  "
   ]
  },
  {
   "cell_type": "code",
   "execution_count": 38,
   "metadata": {
    "scrolled": false
   },
   "outputs": [
    {
     "name": "stdout",
     "output_type": "stream",
     "text": [
      "---------- read() ----------\n",
      "3.1415926535 \n",
      "  8979323846 \n",
      "  2643383279\n",
      "---------- read(size) ----------\n",
      "3.1415926535 \n",
      "  8\n",
      "---------- readline() ----------\n",
      "3.1415926535 \n",
      "\n",
      "---------- readlines() ----------\n",
      "['3.1415926535 \\n', '  8979323846 \\n', '  2643383279']\n",
      "---------- looping over the file object  ----------\n",
      "3.1415926535 \n",
      "\n",
      "  8979323846 \n",
      "\n",
      "  2643383279\n",
      "---------- looping over the file object,strip  ----------\n",
      "3.1415926535\n",
      "  8979323846\n",
      "  2643383279\n"
     ]
    }
   ],
   "source": [
    "print('-' * 10,'read()','-' * 10)\n",
    "with open('F:/Test/1.txt', 'r') as f:\n",
    "    contents = f.read()\n",
    "    print(contents)\n",
    "\n",
    "print('-' * 10,'read(size)','-' * 10)\n",
    "with open('F:/Test/1.txt', 'r') as f:\n",
    "    contents = f.read(17)\n",
    "    print(contents)\n",
    "    \n",
    "print('-' * 10,'readline()','-' * 10)\n",
    "with open('F:/Test/1.txt', 'r') as f:\n",
    "    l = f.readline()\n",
    "    print(l)\n",
    "\n",
    "print('-' * 10,'readlines()','-' * 10)\n",
    "with open('F:/Test/1.txt', 'r') as f:\n",
    "    lines = f.readlines()\n",
    "    print(lines)\n",
    "\n",
    "print('-' * 10,'looping over the file object ','-' * 10)\n",
    "with open('F:/Test/1.txt', 'r') as f:\n",
    "    for line in f:\n",
    "        print(line)\n",
    "        \n",
    "\"\"\"\n",
    "These blank lines appear because an invisible newline character is \n",
    "at the end of each line in the text file. The print statement adds its own \n",
    "newline each time we call it, so we end up with two newline characters at\n",
    "the end of each line: one from the file and one from the print statement.\n",
    "Using rstrip() on each line in the print statement eliminates these extra \n",
    "blank lines:\n",
    "\"\"\"\n",
    "print('-' * 10,'looping over the file object,strip ','-' * 10)\n",
    "with open('F:/Test/1.txt', 'r') as f:\n",
    "    for line in f:\n",
    "        print(line.rstrip())  #  stripping the newline character"
   ]
  },
  {
   "cell_type": "code",
   "execution_count": null,
   "metadata": {},
   "outputs": [],
   "source": [
    "# suggested method\n",
    "filename = '/your/path/file'\n",
    "with open(filename) as f:\n",
    "    for line in f:\n",
    "        process(line)\n",
    "\n",
    "\n",
    "def process(line):\n",
    "    if 'save the world' in line.lower():\n",
    "        superman.save_the_world()"
   ]
  },
  {
   "cell_type": "markdown",
   "metadata": {},
   "source": [
    "# try-except-else\n",
    "> Additionally, for all try/except clauses, <span class=\"mark\">limit the try clause to the absolute minimum amount of code necessary</span>. Again, this avoids masking bugs.  \n",
    "\n",
    "在 Python 的异常处理流程中还可添加一个 else 块，当 try 块没有出现异常时，程序会执行 else 块。"
   ]
  },
  {
   "cell_type": "code",
   "execution_count": null,
   "metadata": {},
   "outputs": [],
   "source": [
    "try:  \n",
    "    value = collection[key]  \n",
    "except KeyError:  \n",
    "    return key_not_found(key)  \n",
    "else:  \n",
    "    return handle_value(value) "
   ]
  },
  {
   "cell_type": "code",
   "execution_count": null,
   "metadata": {},
   "outputs": [],
   "source": [
    "# practice： python crash course\n",
    "\n",
    "def input_num(tip):\n",
    "    while True:\n",
    "        a = input(tip)\n",
    "        if a == 'q':\n",
    "            return 'q'\n",
    "        try:\n",
    "            num = int(a)\n",
    "        except ValueError:\n",
    "            print('Sorry, the input value is not a number.')\n",
    "        else:\n",
    "            return num\n",
    "\n",
    "\n",
    "while True:\n",
    "    print('Add two num, print \"q\" to quit.')\n",
    "    a = input_num('First number: ')\n",
    "    if a == 'q':\n",
    "        exit(0)\n",
    "    b = input_num('Second number: ')\n",
    "    if b == 'q':\n",
    "        exit(0)\n",
    "    print(f'{a} + {b} = {a + b}\\n')"
   ]
  },
  {
   "cell_type": "code",
   "execution_count": 3,
   "metadata": {},
   "outputs": [
    {
     "name": "stdout",
     "output_type": "stream",
     "text": [
      "try块的代码，没有异常\n",
      "请输入除数:0\n",
      "程序出现异常\n"
     ]
    }
   ],
   "source": [
    "def else_test():\n",
    "    s = input('请输入除数:')\n",
    "    result = 20 / int(s)\n",
    "    print('20除以%s的结果是: %g' % (s , result))\n",
    "def right_main():\n",
    "    try:\n",
    "        print('try块的代码，没有异常')\n",
    "    except:\n",
    "        print('程序出现异常')\n",
    "    else:\n",
    "        # 将else_test放在else块中\n",
    "        else_test()\n",
    "def wrong_main():\n",
    "    try:\n",
    "        print('try块的代码，没有异常')\n",
    "        # 将else_test放在try块代码的后面\n",
    "        else_test()\n",
    "    except:\n",
    "        print('程序出现异常')\n",
    "wrong_main()\n",
    "# right_main()"
   ]
  },
  {
   "cell_type": "markdown",
   "metadata": {},
   "source": [
    "# dict update()\n",
    "dict的update()方法，如果被更新的字典中己包含对应的键值对，那么原 value 会被覆盖；如果被更新的字典中不包含对应的键值对，则该键值对被添加进去。  \n",
    "语法：dict.update(dict2)"
   ]
  },
  {
   "cell_type": "code",
   "execution_count": 2,
   "metadata": {},
   "outputs": [
    {
     "name": "stdout",
     "output_type": "stream",
     "text": [
      "{1: 1, 2: 2, 3: 3}\n"
     ]
    }
   ],
   "source": [
    "a = {1: 2, 2: 2}\n",
    "b = {1: 1, 3: 3}\n",
    "a.update(b)\n",
    "print(a)"
   ]
  },
  {
   "cell_type": "markdown",
   "metadata": {},
   "source": [
    "# sorted"
   ]
  },
  {
   "cell_type": "code",
   "execution_count": 3,
   "metadata": {},
   "outputs": [
    {
     "data": {
      "text/plain": [
       "[('Adam', 92), ('Lisa', 88), ('Bob', 75), ('Bart', 66)]"
      ]
     },
     "execution_count": 3,
     "metadata": {},
     "output_type": "execute_result"
    }
   ],
   "source": [
    "L = [('Bob', 75), ('Adam', 92), ('Bart', 66), ('Lisa', 88)]\n",
    "\n",
    "sorted(L, key=lambda x: x[1],reverse=True)"
   ]
  },
  {
   "cell_type": "markdown",
   "metadata": {},
   "source": [
    "# Python函数参数中的冒号与箭头\n",
    "Type hint 提示参数的建议类型，但并非强制检查。"
   ]
  },
  {
   "cell_type": "markdown",
   "metadata": {},
   "source": [
    "# excel插入图片"
   ]
  },
  {
   "cell_type": "code",
   "execution_count": null,
   "metadata": {},
   "outputs": [],
   "source": [
    " from openpyxl import Workbook, load_workbook\n",
    "    from openpyxl.drawing.image import Image\n",
    "\n",
    "    wb = Workbook()\n",
    "    sheet = wb.active\n",
    "\n",
    "    # 设置文字图片单元格的行高列宽\n",
    "    column_width = 12.25\n",
    "    row_height = 80.10\n",
    "\n",
    "    sheet.column_dimensions['D'].width = column_width  # 修改列D的列宽\n",
    "    sheet.row_dimensions[3].height = row_height  # 修改行3的行高\n",
    "\n",
    "    img_path = os.path.join(os.path.dirname(__file__), 'template', 'qcc.png')\n",
    "    img = Image(img_path)\n",
    "    newsize = (90, 90)\n",
    "    img.width, img.height = newsize  # 这两个属性分别是对应添加图片的宽高\n",
    "\n",
    "    sheet.add_image(img, 'D3')  # 向D3单元格内指定添加图片\n",
    "    wb.save('test.xlsx') "
   ]
  },
  {
   "cell_type": "markdown",
   "metadata": {},
   "source": [
    "# 列表生成式\n",
    "1. **\\[x for x in data if condition\\]**    \n",
    "此处if主要起条件判断作用，data数据中只有满足if条件的才会被留下，最后统一生成为一个数据列表  \n",
    "2. **\\[exp1 if condition else exp2 for x in data\\]**   \n",
    "此处if…else主要起赋值作用，当data中的数据满足if条件时将其做exp1处理，否则按照exp2处理，最后统一生成为一个数据列表"
   ]
  },
  {
   "cell_type": "code",
   "execution_count": 4,
   "metadata": {},
   "outputs": [],
   "source": [
    "a = [x if x % 3 == 0 else -x for x in range(1, 100)]"
   ]
  },
  {
   "cell_type": "markdown",
   "metadata": {},
   "source": [
    "#  isinstance 和 type\n",
    "isinstance() 与 type() 区别：\n",
    "\n",
    "- type() 不会认为子类是一种父类类型，不考虑继承关系。\n",
    "\n",
    "- isinstance() 会认为子类是一种父类类型，考虑继承关系。\n",
    "\n",
    "如果要判断两个类型是否相同推荐使用 isinstance()。"
   ]
  },
  {
   "cell_type": "code",
   "execution_count": 5,
   "metadata": {},
   "outputs": [
    {
     "name": "stdout",
     "output_type": "stream",
     "text": [
      "True\n",
      "True\n",
      "True\n",
      "False\n"
     ]
    }
   ],
   "source": [
    "class A:\n",
    "    pass\n",
    "\n",
    "\n",
    "class B(A):\n",
    "    pass\n",
    "\n",
    "\n",
    "print(isinstance(A(), A))  # returns True\n",
    "print(type(A()) == A)  # returns True\n",
    "print(isinstance(B(), A))  # returns True\n",
    "print(type(B()) == A)  # returns False"
   ]
  },
  {
   "cell_type": "markdown",
   "metadata": {},
   "source": [
    "# \\_\\_init\\_\\_.py\n",
    "Python __init__.py 作用详解 https://www.jianshu.com/p/73f7fbf75183"
   ]
  },
  {
   "cell_type": "markdown",
   "metadata": {},
   "source": [
    "# os.mkdir()和os.makedirs()\n",
    " os.mkdir() 创建单个目录  \n",
    " os.makedirs() 递归创建目录，路径中不存在的文件夹都会被创建  "
   ]
  },
  {
   "cell_type": "markdown",
   "metadata": {},
   "source": [
    "# argparse\n",
    "https://docs.python.org/3/library/argparse.html"
   ]
  },
  {
   "cell_type": "code",
   "execution_count": null,
   "metadata": {
    "scrolled": false
   },
   "outputs": [],
   "source": [
    "import argparse\n",
    "import os\n",
    "\n",
    "parser = argparse.ArgumentParser(description='Process some integers.')\n",
    "parser.add_argument('integers', metavar='N', type=int, nargs='+',\n",
    "                    help='an integer for the accumulator')\n",
    "parser.add_argument('--sum', dest='accumulate', action='store_const',\n",
    "                    const=sum, default=max,\n",
    "                    help='sum the integers (default: find the max)')\n",
    "\n",
    "args = parser.parse_args()\n",
    "print(args.accumulate(args.integers))\n",
    "\n",
    "# os.system('python prog.py 1 2 3 4')s\n",
    "# os.system('python prog.py 1 2 3 4 --sum')"
   ]
  },
  {
   "cell_type": "markdown",
   "metadata": {},
   "source": [
    "# deepdish\n",
    "兼容其他语言，将对象保存到HDF5文件中，一定程度上提高了兼容性。一般用于存储字典、值、字符串和numpy序列，一般不用于存储list和tuple。"
   ]
  },
  {
   "cell_type": "code",
   "execution_count": null,
   "metadata": {},
   "outputs": [],
   "source": [
    "import deepdish as dd\n",
    "import numpy as np\n",
    "\n",
    "\n",
    "d = {'foo': np.arange(10), 'bar': np.ones((5, 4, 3))}\n",
    "dd.io.save('test.h5', d)\n",
    "## load\n",
    "d = dd.io.load('test.h5')"
   ]
  },
  {
   "cell_type": "markdown",
   "metadata": {},
   "source": [
    "# string formating\n",
    "%s - String (or any object with a string representation, like numbers)  \n",
    "\n",
    "%d - Integers  \n",
    "\n",
    "%f - Floating point numbers  \n",
    "\n",
    "%.\\<number of digits\\>f - Floating point numbers with a fixed amount of digits to the right of the dot.  \n",
    "\n",
    "%x/%X - Integers in hex representation (lowercase/uppercase)  十六进制 "
   ]
  },
  {
   "cell_type": "code",
   "execution_count": 6,
   "metadata": {
    "scrolled": true
   },
   "outputs": [
    {
     "name": "stdout",
     "output_type": "stream",
     "text": [
      "c8\n",
      "C8\n"
     ]
    }
   ],
   "source": [
    "print('%x'%200)\n",
    "print('%X'%200)"
   ]
  },
  {
   "cell_type": "markdown",
   "metadata": {},
   "source": [
    "# string 操作"
   ]
  },
  {
   "cell_type": "code",
   "execution_count": 10,
   "metadata": {},
   "outputs": [
    {
     "name": "stdout",
     "output_type": "stream",
     "text": [
      "lo w\n",
      "lo w\n",
      "l ol!\n"
     ]
    }
   ],
   "source": [
    "# The general form is [start:stop:step]\n",
    "astring = \"Hello world!\"\n",
    "print(astring[3:7])\n",
    "print(astring[3:7:1])\n",
    "print(astring[3::2])"
   ]
  },
  {
   "cell_type": "markdown",
   "metadata": {},
   "source": [
    "# The \"in\" operation\n",
    "The \"in\" operator could be used to check if a specified object <span class=\"mark\">exists within an iterable object container</span>, <span class=\"mark\">such as a list</span>.    "
   ]
  },
  {
   "cell_type": "code",
   "execution_count": 11,
   "metadata": {},
   "outputs": [
    {
     "name": "stdout",
     "output_type": "stream",
     "text": [
      "Your name is either John or Rick.\n"
     ]
    }
   ],
   "source": [
    "name = \"John\"\n",
    "if name in [\"John\", \"Rick\"]:\n",
    "    print(\"Your name is either John or Rick.\")"
   ]
  },
  {
   "cell_type": "markdown",
   "metadata": {},
   "source": [
    "# The \"is\" operation\n",
    "Unlike the double equals operator \"==\", <span class=\"mark\">the \"is\" operator does not match the values of the variables, but the instances themselves</span>. "
   ]
  },
  {
   "cell_type": "code",
   "execution_count": 12,
   "metadata": {},
   "outputs": [
    {
     "name": "stdout",
     "output_type": "stream",
     "text": [
      "True\n",
      "False\n"
     ]
    }
   ],
   "source": [
    "x = [1,2,3]\n",
    "y = [1,2,3]\n",
    "print(x == y) # Prints out True\n",
    "print(x is y) # Prints out False"
   ]
  },
  {
   "cell_type": "markdown",
   "metadata": {},
   "source": [
    "# Can we use \"else\" clause for loops?\n",
    "Unlike languages like C,CPP.. we can use else for loops. When the loop condition of \"for\" or \"while\" statement fails then code part in \"else\" is executed. If a <span class=\"mark\">break statement is executed</span> inside the for loop then the<span class=\"mark\"> \"else\" part is skipped</span>. Note that the \"else\" part is executed even if there is a continue statement."
   ]
  },
  {
   "cell_type": "code",
   "execution_count": 13,
   "metadata": {
    "scrolled": true
   },
   "outputs": [
    {
     "name": "stdout",
     "output_type": "stream",
     "text": [
      "0\n",
      "1\n",
      "2\n",
      "3\n",
      "4\n",
      "count value reached 5\n",
      "1\n",
      "2\n",
      "3\n",
      "4\n"
     ]
    }
   ],
   "source": [
    "# Prints out 0,1,2,3,4 and then it prints \"count value reached 5\"\n",
    "\n",
    "count=0\n",
    "while(count<5):\n",
    "    print(count)\n",
    "    count +=1\n",
    "else:\n",
    "    print(\"count value reached %d\" %(count))\n",
    "\n",
    "# Prints out 1,2,3,4\n",
    "for i in range(1, 10):\n",
    "    if(i%5==0):\n",
    "        break\n",
    "    print(i)\n",
    "else:\n",
    "    print(\"this is not printed because for loop is terminated because of break but not due to fail in condition\")"
   ]
  },
  {
   "cell_type": "code",
   "execution_count": 14,
   "metadata": {
    "scrolled": true
   },
   "outputs": [
    {
     "name": "stdout",
     "output_type": "stream",
     "text": [
      "blah\n"
     ]
    }
   ],
   "source": [
    "class MyClass:\n",
    "    variable = \"blah\"\n",
    "\n",
    "    def function(self):\n",
    "        print(\"This is a message inside the class.\")\n",
    "\n",
    "myobjectx = MyClass()\n",
    "\n",
    "print(myobjectx.variable)\n"
   ]
  },
  {
   "cell_type": "markdown",
   "metadata": {},
   "source": [
    "# 单斜杠替换双斜杠"
   ]
  },
  {
   "cell_type": "code",
   "execution_count": 1,
   "metadata": {},
   "outputs": [
    {
     "name": "stdout",
     "output_type": "stream",
     "text": [
      "b'\\\\xf6\\\\xff\\\\xf6\\\\xf1'\n"
     ]
    }
   ],
   "source": [
    "s1 = b\"\\xf6\\xff\\xf6\\xf1\"\n",
    "result = eval(repr(s1).replace('\\\\', '\\\\\\\\'))\n",
    "print(result)"
   ]
  },
  {
   "cell_type": "markdown",
   "metadata": {},
   "source": [
    "# 列表推导"
   ]
  },
  {
   "cell_type": "markdown",
   "metadata": {},
   "source": [
    "列表：30~40 所有偶数的平方"
   ]
  },
  {
   "cell_type": "code",
   "execution_count": 7,
   "metadata": {},
   "outputs": [
    {
     "data": {
      "text/plain": [
       "[900, 1024, 1156, 1296, 1444, 1600]"
      ]
     },
     "execution_count": 7,
     "metadata": {},
     "output_type": "execute_result"
    }
   ],
   "source": [
    "[i * i for i in range(30, 41) if i % 2 == 0]"
   ]
  },
  {
   "cell_type": "markdown",
   "metadata": {},
   "source": [
    "# round()\n",
    "四舍五入"
   ]
  },
  {
   "cell_type": "code",
   "execution_count": 7,
   "metadata": {
    "scrolled": false
   },
   "outputs": [
    {
     "data": {
      "text/plain": [
       "8.66"
      ]
     },
     "execution_count": 7,
     "metadata": {},
     "output_type": "execute_result"
    }
   ],
   "source": [
    "round(8.65533,2)"
   ]
  },
  {
   "cell_type": "markdown",
   "metadata": {},
   "source": [
    "# importlib\n",
    "python提供的标准库的一部分  \n",
    "\n",
    "\\__import()__ 和 import   \n",
    "import sys adds the name sys to your namespace (bound to the module), \\__import__('sys') returns the sys module object to the caller, which is then free to ignore that object.  \n"
   ]
  },
  {
   "cell_type": "markdown",
   "metadata": {},
   "source": [
    "Both \\__import__() and importlib.import_module() allow you to import a module when you have the module name as a string."
   ]
  },
  {
   "cell_type": "code",
   "execution_count": 2,
   "metadata": {},
   "outputs": [
    {
     "ename": "ModuleNotFoundError",
     "evalue": "No module named 'x'",
     "output_type": "error",
     "traceback": [
      "\u001b[1;31m---------------------------------------------------------------------------\u001b[0m",
      "\u001b[1;31mModuleNotFoundError\u001b[0m                       Traceback (most recent call last)",
      "\u001b[1;32m<ipython-input-2-689b6721ea95>\u001b[0m in \u001b[0;36m<module>\u001b[1;34m\u001b[0m\n\u001b[0;32m      1\u001b[0m \u001b[0mx\u001b[0m \u001b[1;33m=\u001b[0m \u001b[1;34m're'\u001b[0m\u001b[1;33m\u001b[0m\u001b[1;33m\u001b[0m\u001b[0m\n\u001b[1;32m----> 2\u001b[1;33m \u001b[1;32mimport\u001b[0m \u001b[0mx\u001b[0m\u001b[1;33m\u001b[0m\u001b[1;33m\u001b[0m\u001b[0m\n\u001b[0m",
      "\u001b[1;31mModuleNotFoundError\u001b[0m: No module named 'x'"
     ]
    }
   ],
   "source": [
    "x = 're'\n",
    "import x"
   ]
  },
  {
   "cell_type": "code",
   "execution_count": 1,
   "metadata": {},
   "outputs": [
    {
     "data": {
      "text/plain": [
       "<module 're' from 'D:\\\\ProgramData\\\\anaconda3\\\\envs\\\\ml37\\\\lib\\\\re.py'>"
      ]
     },
     "execution_count": 1,
     "metadata": {},
     "output_type": "execute_result"
    }
   ],
   "source": [
    "x = 're'\n",
    "__import__(x)"
   ]
  },
  {
   "cell_type": "markdown",
   "metadata": {},
   "source": [
    "# property装饰 "
   ]
  },
  {
   "cell_type": "markdown",
   "metadata": {},
   "source": [
    "将 property 函数用作装饰器可以很方便的创建只读属性  \n",
    "方法名字就用属性的名字 "
   ]
  },
  {
   "cell_type": "code",
   "execution_count": 6,
   "metadata": {},
   "outputs": [
    {
     "ename": "AttributeError",
     "evalue": "can't set attribute",
     "output_type": "error",
     "traceback": [
      "\u001b[1;31m---------------------------------------------------------------------------\u001b[0m",
      "\u001b[1;31mAttributeError\u001b[0m                            Traceback (most recent call last)",
      "\u001b[1;32m<ipython-input-6-66bb5d5da2fe>\u001b[0m in \u001b[0;36m<module>\u001b[1;34m\u001b[0m\n\u001b[0;32m      9\u001b[0m \u001b[0mr\u001b[0m \u001b[1;33m=\u001b[0m \u001b[0mSquare\u001b[0m\u001b[1;33m(\u001b[0m\u001b[1;36m5\u001b[0m\u001b[1;33m)\u001b[0m\u001b[1;33m\u001b[0m\u001b[1;33m\u001b[0m\u001b[0m\n\u001b[0;32m     10\u001b[0m \u001b[0mr\u001b[0m\u001b[1;33m.\u001b[0m\u001b[0mlength\u001b[0m\u001b[1;33m\u001b[0m\u001b[1;33m\u001b[0m\u001b[0m\n\u001b[1;32m---> 11\u001b[1;33m \u001b[0mr\u001b[0m\u001b[1;33m.\u001b[0m\u001b[0mlength\u001b[0m\u001b[1;33m=\u001b[0m\u001b[1;36m1\u001b[0m\u001b[1;33m\u001b[0m\u001b[1;33m\u001b[0m\u001b[0m\n\u001b[0m",
      "\u001b[1;31mAttributeError\u001b[0m: can't set attribute"
     ]
    }
   ],
   "source": [
    "class Square(object):\n",
    "    def __init__(self, length):\n",
    "        self._length = length\n",
    "\n",
    "    @property\n",
    "    def length(self):\n",
    "        return self._length\n",
    "    \n",
    "r = Square(5)\n",
    "r.length\n",
    "r.length=1"
   ]
  },
  {
   "cell_type": "markdown",
   "metadata": {},
   "source": [
    "可以在属性的setter里预先进行一些处理"
   ]
  },
  {
   "cell_type": "code",
   "execution_count": 17,
   "metadata": {},
   "outputs": [
    {
     "name": "stdout",
     "output_type": "stream",
     "text": [
      "age can't less than zero.\n"
     ]
    }
   ],
   "source": [
    "class Person(object):\n",
    "    def __init__(self, age):\n",
    "        self._age = age\n",
    "\n",
    "    @property\n",
    "    def age(self):\n",
    "        return self._age\n",
    "\n",
    "    @age.setter\n",
    "    def age(self, age):\n",
    "        if age < 0:\n",
    "            print(\"age can't less than zero.\")\n",
    "            return\n",
    "        self._age = age + 2\n",
    "\n",
    "\n",
    "p = Person(5)\n",
    "p.age = 9\n",
    "p.age\n",
    "p.age = -3"
   ]
  }
 ],
 "metadata": {
  "kernelspec": {
   "display_name": "ml37",
   "language": "python",
   "name": "ml37"
  },
  "language_info": {
   "codemirror_mode": {
    "name": "ipython",
    "version": 3
   },
   "file_extension": ".py",
   "mimetype": "text/x-python",
   "name": "python",
   "nbconvert_exporter": "python",
   "pygments_lexer": "ipython3",
   "version": "3.7.10"
  },
  "toc": {
   "base_numbering": 1,
   "nav_menu": {},
   "number_sections": true,
   "sideBar": true,
   "skip_h1_title": false,
   "title_cell": "Table of Contents",
   "title_sidebar": "Contents",
   "toc_cell": false,
   "toc_position": {
    "height": "calc(100% - 180px)",
    "left": "10px",
    "top": "150px",
    "width": "278.188px"
   },
   "toc_section_display": true,
   "toc_window_display": true
  },
  "varInspector": {
   "cols": {
    "lenName": 16,
    "lenType": 16,
    "lenVar": 40
   },
   "kernels_config": {
    "python": {
     "delete_cmd_postfix": "",
     "delete_cmd_prefix": "del ",
     "library": "var_list.py",
     "varRefreshCmd": "print(var_dic_list())"
    },
    "r": {
     "delete_cmd_postfix": ") ",
     "delete_cmd_prefix": "rm(",
     "library": "var_list.r",
     "varRefreshCmd": "cat(var_dic_list()) "
    }
   },
   "types_to_exclude": [
    "module",
    "function",
    "builtin_function_or_method",
    "instance",
    "_Feature"
   ],
   "window_display": false
  }
 },
 "nbformat": 4,
 "nbformat_minor": 4
}
