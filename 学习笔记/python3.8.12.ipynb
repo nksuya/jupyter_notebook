{
 "cells": [
  {
   "cell_type": "markdown",
   "id": "d7351547",
   "metadata": {},
   "source": [
    "[The Python Standard Library — Python 3.8.12 documentation](https://docs.python.org/3.8/library/)"
   ]
  },
  {
   "cell_type": "markdown",
   "id": "f0e11998",
   "metadata": {},
   "source": [
    "# callable()函数\n",
    "可调用对象\n",
    "1. 函数  \n",
    "2. 类  \n",
    "3. 类里的方法  \n",
    "4. 实现了\\__call__方法的实例对象  "
   ]
  },
  {
   "cell_type": "code",
   "execution_count": 1,
   "id": "9ff417c3",
   "metadata": {},
   "outputs": [
    {
     "name": "stdout",
     "output_type": "stream",
     "text": [
      "True\n",
      "ok\n"
     ]
    }
   ],
   "source": [
    "# 1.函数\n",
    "def test():\n",
    "    print('ok')\n",
    "\n",
    "print(callable(test))   # True\n",
    "test()  # ok"
   ]
  },
  {
   "cell_type": "code",
   "execution_count": 2,
   "id": "9696faab",
   "metadata": {},
   "outputs": [
    {
     "name": "stdout",
     "output_type": "stream",
     "text": [
      "True\n",
      "小明\n"
     ]
    }
   ],
   "source": [
    "# 2.类\n",
    "class Stu(object):\n",
    "    def __init__(self, name):\n",
    "        self.name = name\n",
    "\n",
    "\n",
    "print(callable(Stu))     # True\n",
    "print(Stu('小明').name)   # 小明"
   ]
  },
  {
   "cell_type": "code",
   "execution_count": 3,
   "id": "07a05e32",
   "metadata": {
    "scrolled": true
   },
   "outputs": [
    {
     "name": "stdout",
     "output_type": "stream",
     "text": [
      "True\n",
      "小明 is running\n",
      "True\n"
     ]
    }
   ],
   "source": [
    "# 3.类里的方法\n",
    "from inspect import isfunction, ismethod\n",
    "\n",
    "\n",
    "class Stu(object):\n",
    "    def __init__(self, name):\n",
    "        self.name = name\n",
    "\n",
    "    def run(self):\n",
    "        print('{name} is running'.format(name=self.name))\n",
    "\n",
    "print(isfunction(Stu.run))     # True\n",
    "stu = Stu(\"小明\")\n",
    "stu.run()        # 小明 is running\n",
    "print(callable(stu.run))"
   ]
  },
  {
   "cell_type": "code",
   "execution_count": 4,
   "id": "01b3563d",
   "metadata": {},
   "outputs": [
    {
     "name": "stdout",
     "output_type": "stream",
     "text": [
      "True\n",
      "小明 is running\n"
     ]
    }
   ],
   "source": [
    "# 4.实现了__call__方法的实例对象\n",
    "class Stu(object):\n",
    "\n",
    "    def __init__(self, name):\n",
    "        self.name = name\n",
    "\n",
    "    def __call__(self, *args, **kwargs):\n",
    "        self.run()\n",
    "\n",
    "    def run(self):\n",
    "        print('{name} is running'.format(name=self.name))\n",
    "\n",
    "stu = Stu('小明')\n",
    "print(callable(stu))    # True\n",
    "stu()                   # 小明 is running"
   ]
  },
  {
   "cell_type": "markdown",
   "id": "6c6cdf52",
   "metadata": {},
   "source": [
    "\\__call__()方法类似于在类中重载()"
   ]
  },
  {
   "cell_type": "markdown",
   "id": "2f013d93",
   "metadata": {},
   "source": [
    "# chr()和ord()\n",
    "chr() 将十进制或者十六进制数字转化为ASCII码字符  \n",
    "ord() 将字符转化为十进制数   "
   ]
  },
  {
   "cell_type": "code",
   "execution_count": 5,
   "id": "3e157abb",
   "metadata": {},
   "outputs": [
    {
     "data": {
      "text/plain": [
       "'a'"
      ]
     },
     "execution_count": 5,
     "metadata": {},
     "output_type": "execute_result"
    }
   ],
   "source": [
    "chr(97)"
   ]
  },
  {
   "cell_type": "code",
   "execution_count": 6,
   "id": "08b6585f",
   "metadata": {},
   "outputs": [
    {
     "data": {
      "text/plain": [
       "97"
      ]
     },
     "execution_count": 6,
     "metadata": {},
     "output_type": "execute_result"
    }
   ],
   "source": [
    "ord('a')"
   ]
  },
  {
   "cell_type": "code",
   "execution_count": 7,
   "id": "d6d2360b",
   "metadata": {},
   "outputs": [
    {
     "data": {
      "text/plain": [
       "'a'"
      ]
     },
     "execution_count": 7,
     "metadata": {},
     "output_type": "execute_result"
    }
   ],
   "source": [
    "chr(0x61)"
   ]
  },
  {
   "cell_type": "code",
   "execution_count": 9,
   "id": "6b61cd3e",
   "metadata": {},
   "outputs": [
    {
     "data": {
      "text/plain": [
       "128"
      ]
     },
     "execution_count": 9,
     "metadata": {},
     "output_type": "execute_result"
    }
   ],
   "source": [
    "2**7"
   ]
  },
  {
   "cell_type": "markdown",
   "id": "4b6f51d1",
   "metadata": {},
   "source": [
    "# @classmethod 与 @staticmethod\n",
    "如果在方法中不需要访问任何实例方法和属性，纯粹地通过传入参数并返回数据的功能性方法，那么它就适合用静态方法来定义，它节省了实例化对象的开销成本，往往这种方法放在类外面的模块层作为一个函数存在也是没问题的，而放在类中，仅为这个类服务。  \n",
    "\n",
    "如果希望在方法裡面调用静态类，那么把方法定义成类方法是合适的，因为要是定义成静态方法，那么你就要显示地引用类A，这对继承来说可不是一件好事情。\n",
    "\n",
    "如果在@staticmethod中要调用到这个类的一些属性方法，只能直接类名.属性名或类名.方法名。\n",
    "而@classmethod因为持有cls参数，可以来调用类的属性，类的方法，实例化对象等，避免硬编码。"
   ]
  },
  {
   "cell_type": "code",
   "execution_count": 14,
   "id": "c0512073",
   "metadata": {
    "code_folding": []
   },
   "outputs": [],
   "source": [
    "class A:\n",
    "\n",
    "    @staticmethod\n",
    "    def m1():\n",
    "        passs\n",
    "\n",
    "    @staticmethod\n",
    "    def m2():\n",
    "        A.m1() # bad\n",
    "\n",
    "    @classmethod\n",
    "    def m3(cls):\n",
    "        cls.m1() # good"
   ]
  },
  {
   "cell_type": "markdown",
   "id": "1f0bbc26",
   "metadata": {},
   "source": [
    "# delattr()\n",
    "删除属性"
   ]
  },
  {
   "cell_type": "code",
   "execution_count": 22,
   "id": "d77815a8",
   "metadata": {},
   "outputs": [
    {
     "name": "stdout",
     "output_type": "stream",
     "text": [
      "True\n",
      "Suya\n",
      "-----------\n",
      "False\n"
     ]
    }
   ],
   "source": [
    "class Stu():\n",
    "    def __init__(self,name):\n",
    "        self.name=name\n",
    "        \n",
    "s =Stu(\"Suya\")\n",
    "print(hasattr(s,\"name\"))\n",
    "print(s.name)\n",
    "print('-----------')\n",
    "\n",
    "delattr(s,\"name\")\n",
    "# del s.name\n",
    "print(hasattr(s,\"name\"))"
   ]
  },
  {
   "cell_type": "markdown",
   "id": "16dc6d61",
   "metadata": {},
   "source": [
    "# dict"
   ]
  },
  {
   "cell_type": "code",
   "execution_count": 2,
   "id": "570fb0cb",
   "metadata": {},
   "outputs": [
    {
     "name": "stdout",
     "output_type": "stream",
     "text": [
      "<class 'dict'>\n"
     ]
    },
    {
     "data": {
      "text/plain": [
       "{0: 0, 1: 1, 2: 4, 3: 9, 4: 16, 5: 25, 6: 36, 7: 49, 8: 64, 9: 81}"
      ]
     },
     "execution_count": 2,
     "metadata": {},
     "output_type": "execute_result"
    }
   ],
   "source": [
    "d={x: x ** 2 for x in range(10)}\n",
    "print(type(d))\n",
    "d"
   ]
  },
  {
   "cell_type": "code",
   "execution_count": null,
   "id": "820b7472",
   "metadata": {},
   "outputs": [],
   "source": []
  }
 ],
 "metadata": {
  "kernelspec": {
   "display_name": "py38",
   "language": "python",
   "name": "py38"
  },
  "language_info": {
   "codemirror_mode": {
    "name": "ipython",
    "version": 3
   },
   "file_extension": ".py",
   "mimetype": "text/x-python",
   "name": "python",
   "nbconvert_exporter": "python",
   "pygments_lexer": "ipython3",
   "version": "3.8.12"
  },
  "toc": {
   "base_numbering": 1,
   "nav_menu": {},
   "number_sections": true,
   "sideBar": true,
   "skip_h1_title": false,
   "title_cell": "Table of Contents",
   "title_sidebar": "Contents",
   "toc_cell": false,
   "toc_position": {
    "height": "calc(100% - 180px)",
    "left": "10px",
    "top": "150px",
    "width": "383.991px"
   },
   "toc_section_display": true,
   "toc_window_display": true
  }
 },
 "nbformat": 4,
 "nbformat_minor": 5
}
