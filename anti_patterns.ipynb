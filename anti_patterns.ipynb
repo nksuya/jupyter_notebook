{
 "cells": [
  {
   "cell_type": "markdown",
   "metadata": {},
   "source": [
    "## Only using __init__ to initialize **instance members**."
   ]
  },
  {
   "cell_type": "code",
   "execution_count": 1,
   "metadata": {},
   "outputs": [
    {
     "name": "stdout",
     "output_type": "stream",
     "text": [
      "12\n"
     ]
    }
   ],
   "source": [
    "class Rectangle(object):\n",
    "    def __init__(self, width, height):\n",
    "        self.width = width\n",
    "        self.height = height\n",
    "        self._area = width * height\n",
    "\n",
    "    @property\n",
    "    # moved the logic for returning area to a separate method\n",
    "    def area(self):\n",
    "        return self._area\n",
    "\n",
    "r = Rectangle(3,4)\n",
    "print(r.area)"
   ]
  },
  {
   "cell_type": "markdown",
   "metadata": {},
   "source": [
    "## Use built-in **property decorator**"
   ]
  },
  {
   "cell_type": "code",
   "execution_count": 3,
   "metadata": {},
   "outputs": [],
   "source": [
    "class Square(object):\n",
    "    def __init__(self, length):\n",
    "        self._length = length\n",
    "\n",
    "    @property\n",
    "    def length(self):\n",
    "        return self._length\n",
    "\n",
    "    @length.setter\n",
    "    def length(self, value):\n",
    "        self._length = value\n",
    "\n",
    "    @length.deleter\n",
    "    def length(self):\n",
    "        del self._length\n",
    "\n",
    "r = Square(5)\n",
    "r.length  # automatically calls getter\n",
    "r.length = 6  # automatically calls setter"
   ]
  },
  {
   "cell_type": "markdown",
   "metadata": {},
   "source": [
    "## Add the self parameter to **instance methods**"
   ]
  },
  {
   "cell_type": "code",
   "execution_count": 4,
   "metadata": {},
   "outputs": [],
   "source": [
    "class Rectangle:\n",
    "    def __init__(self, width, height):\n",
    "        self.width = width\n",
    "        self.height = height\n",
    "        self.area = width * height\n",
    "    # instance members now accessible because of \"self\"\n",
    "    def area(self):\n",
    "        return self.area"
   ]
  },
  {
   "cell_type": "markdown",
   "metadata": {},
   "source": [
    "## Add the cls parameter to **class methods**"
   ]
  },
  {
   "cell_type": "code",
   "execution_count": 6,
   "metadata": {},
   "outputs": [
    {
     "name": "stdout",
     "output_type": "stream",
     "text": [
      "Hello, I am <class '__main__.Rectangle'>!\n"
     ]
    }
   ],
   "source": [
    "class Rectangle:\n",
    "    @classmethod\n",
    "    # class members now accessible, thanks to \"cls\"\n",
    "    def print_class_name(cls):\n",
    "        print(\"Hello, I am {0}!\".format(cls))\n",
    "Rectangle.print_class_name()"
   ]
  },
  {
   "cell_type": "markdown",
   "metadata": {},
   "source": [
    "## Add the @staticmethod decorator to **static methods**"
   ]
  },
  {
   "cell_type": "code",
   "execution_count": 7,
   "metadata": {},
   "outputs": [],
   "source": [
    "class Rectangle:\n",
    "    # clarifies that the method does not need any instance members\n",
    "    @staticmethod\n",
    "    def area(width, height):\n",
    "        return width * height"
   ]
  },
  {
   "cell_type": "markdown",
   "metadata": {},
   "source": [
    "## Missing argument to **super()**"
   ]
  },
  {
   "cell_type": "code",
   "execution_count": 14,
   "metadata": {},
   "outputs": [
    {
     "name": "stdout",
     "output_type": "stream",
     "text": [
      "25\n"
     ]
    }
   ],
   "source": [
    "class Rectangle(object):\n",
    "    def __init__(self, width, height):\n",
    "        self.width = width\n",
    "        self.height = height\n",
    "        self.area = width * height\n",
    "\n",
    "class Square(Rectangle):\n",
    "    def __init__(self, length):\n",
    "        super(Square,self).__init__(length, length)\n",
    "\n",
    "s = Square(5)\n",
    "print(s.area)"
   ]
  },
  {
   "cell_type": "markdown",
   "metadata": {},
   "source": [
    "## Using a mutable default value as an argument.<br>\n",
    "用可变的对象做缺省值参数容易引发bug"
   ]
  },
  {
   "cell_type": "code",
   "execution_count": 15,
   "metadata": {},
   "outputs": [
    {
     "name": "stdout",
     "output_type": "stream",
     "text": [
      "[5]\n",
      "[5, 7]\n",
      "[5, 7, 2]\n"
     ]
    },
    {
     "data": {
      "text/plain": [
       "[5, 7, 2]"
      ]
     },
     "execution_count": 15,
     "metadata": {},
     "output_type": "execute_result"
    }
   ],
   "source": [
    "# 反例\n",
    "def append(number, number_list=[]):\n",
    "    number_list.append(number)\n",
    "    print(number_list)\n",
    "    return number_list\n",
    "\n",
    "append(5) # expecting: [5], actual: [5]\n",
    "append(7) # expecting: [7], actual: [5, 7]\n",
    "append(2) # expecting: [2], actual: [5, 7, 2]"
   ]
  },
  {
   "cell_type": "code",
   "execution_count": 16,
   "metadata": {},
   "outputs": [
    {
     "name": "stdout",
     "output_type": "stream",
     "text": [
      "[5]\n",
      "[7]\n",
      "[2]\n"
     ]
    },
    {
     "data": {
      "text/plain": [
       "[2]"
      ]
     },
     "execution_count": 16,
     "metadata": {},
     "output_type": "execute_result"
    }
   ],
   "source": [
    "# 正例\n",
    "# the keyword None is the sentinel value representing empty list\n",
    "def append(number, number_list=None):\n",
    "    if number_list is None:\n",
    "        number_list = []\n",
    "    number_list.append(number)\n",
    "    print(number_list)\n",
    "    return number_list\n",
    "\n",
    "append(5) # expecting: [5], actual: [5]\n",
    "append(7) # expecting: [7], actual: [7]\n",
    "append(2) # expecting: [2], actual: [2]"
   ]
  },
  {
   "cell_type": "markdown",
   "metadata": {},
   "source": [
    "## Handle **exceptions**"
   ]
  },
  {
   "cell_type": "code",
   "execution_count": 26,
   "metadata": {},
   "outputs": [
    {
     "name": "stdout",
     "output_type": "stream",
     "text": [
      "Type error: division by 'fjf'.\n"
     ]
    },
    {
     "data": {
      "text/plain": [
       "0"
      ]
     },
     "execution_count": 26,
     "metadata": {},
     "output_type": "execute_result"
    }
   ],
   "source": [
    "def divide(a, b):\n",
    "\n",
    "    result = None\n",
    "\n",
    "    try:\n",
    "        result = a / b\n",
    "    except ZeroDivisionError:\n",
    "        print(\"Type error: division by 0.\")\n",
    "    except TypeError:\n",
    "        # E.g., if b is a string\n",
    "        print(\"Type error: division by '{0}'.\".format(b))\n",
    "    except Exception as e:\n",
    "        # handle any other exception\n",
    "        print(\"Error '{0}' occured. Arguments {1}.\".format(e.message, e.args))\n",
    "    else:\n",
    "        # Excecutes if no exception occured\n",
    "        print(\"No errors\")\n",
    "    finally:\n",
    "        # Executes always\n",
    "        if result is None:\n",
    "            result = 0\n",
    "\n",
    "    return result\n",
    "\n",
    "divide(11,'fjf')"
   ]
  },
  {
   "cell_type": "markdown",
   "metadata": {},
   "source": [
    "## **defaultdict**接受一个工厂函数作为参数，当key不存在时，返回的是工厂函数的默认值。"
   ]
  },
  {
   "cell_type": "code",
   "execution_count": 27,
   "metadata": {},
   "outputs": [
    {
     "name": "stdout",
     "output_type": "stream",
     "text": [
      "0\n",
      "set()\n",
      "\n",
      "[]\n"
     ]
    }
   ],
   "source": [
    "from collections import defaultdict\n",
    "\n",
    "dict1 = defaultdict(int)\n",
    "dict2 = defaultdict(set)\n",
    "dict3 = defaultdict(str)\n",
    "dict4 = defaultdict(list)\n",
    "\n",
    "print(dict1[1])\n",
    "print(dict2[1])\n",
    "print(dict3[1])\n",
    "print(dict4[1])"
   ]
  },
  {
   "cell_type": "code",
   "execution_count": 28,
   "metadata": {},
   "outputs": [
    {
     "name": "stdout",
     "output_type": "stream",
     "text": [
      "7\n"
     ]
    }
   ],
   "source": [
    "from collections import defaultdict\n",
    "\n",
    "d = defaultdict(lambda : 6)\n",
    "d[\"k\"] += 1\n",
    "\n",
    "print(d[\"k\"])  # 7"
   ]
  },
  {
   "cell_type": "markdown",
   "metadata": {},
   "source": [
    "## Use **dict.get(key[, default])** to assign default values"
   ]
  },
  {
   "cell_type": "code",
   "execution_count": 32,
   "metadata": {
    "scrolled": true
   },
   "outputs": [
    {
     "name": "stdout",
     "output_type": "stream",
     "text": [
      "Hello, World!\n",
      "no link\n"
     ]
    }
   ],
   "source": [
    "dictionary = {\"message\": \"Hello, World!\"}\n",
    "\n",
    "data = dictionary.get(\"message\", \"\")\n",
    "data2 = dictionary.get(\"link\", \"no link\")\n",
    "\n",
    "print(data)  # Hello, World!\n",
    "print(data2)  "
   ]
  },
  {
   "cell_type": "markdown",
   "metadata": {},
   "source": [
    "## Use **setdefault()** to initialize a dictionary<br>\n",
    "The modified code below uses setdefault() to initialize the dictionary. When setdefault() is called, it will check if the key already exists. If it does exist, then setdefault() does nothing. If the key does not exist, then setdefault() creates it and sets it to the value specified in the second argument."
   ]
  },
  {
   "cell_type": "code",
   "execution_count": 33,
   "metadata": {},
   "outputs": [],
   "source": [
    "dictionary = {}\n",
    "\n",
    "dictionary.setdefault(\"list\", []).append(\"list_item\")"
   ]
  },
  {
   "cell_type": "markdown",
   "metadata": {},
   "source": [
    "## 一个数与None比较，使用is进行比较，而不是==\n",
    "和像None这样的单例对象进行比较的时候应该始终用 is 或者 is not，永远不要用等号运算符"
   ]
  },
  {
   "cell_type": "code",
   "execution_count": 17,
   "metadata": {
    "scrolled": false
   },
   "outputs": [
    {
     "name": "stdout",
     "output_type": "stream",
     "text": [
      "This works, but is not the preferred PEP 8 pattern\n"
     ]
    }
   ],
   "source": [
    "number = None\n",
    "\n",
    "if number == None:\n",
    "    print(\"This works, but is not the preferred PEP 8 pattern\")"
   ]
  },
  {
   "cell_type": "code",
   "execution_count": 18,
   "metadata": {
    "scrolled": true
   },
   "outputs": [
    {
     "name": "stdout",
     "output_type": "stream",
     "text": [
      "PEP 8 Style Guide prefers this pattern\n"
     ]
    }
   ],
   "source": [
    "number = None\n",
    "\n",
    "if number is None:\n",
    "    print(\"PEP 8 Style Guide prefers this pattern\")"
   ]
  },
  {
   "cell_type": "markdown",
   "metadata": {},
   "source": [
    "## 一个数与true比较，推荐使用if cond is True: or if cond:，而不是=="
   ]
  },
  {
   "cell_type": "code",
   "execution_count": 4,
   "metadata": {
    "scrolled": true
   },
   "outputs": [
    {
     "name": "stdout",
     "output_type": "stream",
     "text": [
      "PEP 8 Style Guide prefers this pattern\n"
     ]
    }
   ],
   "source": [
    "flag = True\n",
    "\n",
    "if flag:\n",
    "    print(\"PEP 8 Style Guide prefers this pattern\")"
   ]
  },
  {
   "cell_type": "markdown",
   "metadata": {},
   "source": [
    "## 使用isinstance来判断一个对象是否是一个已知的类型。\n",
    "\n",
    "isinstance() 与 type() 区别：\n",
    "\n",
    "type() 不会认为子类是一种父类类型，不考虑继承关系。\n",
    "\n",
    "isinstance() 会认为子类是一种父类类型，考虑继承关系。\n",
    "\n",
    "如果要判断两个类型是否相同推荐使用 isinstance()。"
   ]
  },
  {
   "cell_type": "markdown",
   "metadata": {},
   "source": [
    "其它注意的：\n",
    "1. from math import * 引用太广泛了，最好使用 from math import ceil 这种具体的，或者引入整个模块:\n",
    "```\n",
    "import math\n",
    "x = math.ceil(y)\n",
    "```\n",
    "2. 读文件最好使用with进行上下文管理。\n",
    "3. 推荐使用EAFP编程风格\n",
    "\n",
    "```\n",
    "# 反例\n",
    "import os\n",
    "\n",
    "# violates EAFP coding style\n",
    "if os.path.exists(\"file.txt\"):\n",
    "    os.unlink(\"file.txt\")\n",
    "    \n",
    "# 正例   \n",
    "import os\n",
    "\n",
    "try:\n",
    "    os.unlink(\"file.txt\")\n",
    "# raised when file does not exist\n",
    "except OSError:\n",
    "    pass\n",
    "```\n",
    "\n",
    "EAFP (easier to ask for forgiveness than permission) ：首先相信程序会正确执行，然后如果出错了我们再处理错误。<br>\n",
    "LBYL 的意思是“Look before you leap.” 指在程序执行之前做好检查。<br>\n",
    "Python 鼓励 EAFP。原因是这种方法的可读性更高，速度也更快（只有在出错的时候才需要处理，而 LBYL 需要每次运行都检查）。"
   ]
  },
  {
   "cell_type": "markdown",
   "metadata": {},
   "source": [
    "## 使用dict的key去格式化字符串"
   ]
  },
  {
   "cell_type": "code",
   "execution_count": 7,
   "metadata": {},
   "outputs": [
    {
     "name": "stdout",
     "output_type": "stream",
     "text": [
      "Tobin is 20 years old\n",
      "Tobin Brown is 20 years old\n"
     ]
    }
   ],
   "source": [
    "person = {\n",
    "    'first': 'Tobin',\n",
    "    'age':20\n",
    "}\n",
    "\n",
    "print('{first} is {age} years old'.format(**person))\n",
    "# Output: Tobin is 20 years old\n",
    "\n",
    "person = {\n",
    "    'first':'Tobin',\n",
    "    'last': 'Brown',\n",
    "    'age':20\n",
    "}\n",
    "print('{first} {last} is {age} years old'.format(**person))\n",
    "# Output: Tobin Brown is 20 years old"
   ]
  },
  {
   "cell_type": "markdown",
   "metadata": {},
   "source": [
    "此外类里也可以使用。 <br/>\n",
    "类\\__dict__中存储了类的静态函数、类函数、普通函数、全局变量以及一些内置的属性<br/>\n",
    "对象的\\__dict__中存储了一些self.xxx的一些东西"
   ]
  },
  {
   "cell_type": "code",
   "execution_count": 10,
   "metadata": {},
   "outputs": [
    {
     "name": "stdout",
     "output_type": "stream",
     "text": [
      "Tobin Brown is 20 years old\n",
      "{'first': 'Tobin', 'last': 'Brown', 'age': 20}\n",
      "{'__module__': '__main__', '__init__': <function Person.__init__ at 0x0000000005192168>, '__str__': <function Person.__str__ at 0x00000000051921F8>, '__dict__': <attribute '__dict__' of 'Person' objects>, '__weakref__': <attribute '__weakref__' of 'Person' objects>, '__doc__': None}\n"
     ]
    }
   ],
   "source": [
    "class Person(object):\n",
    "\n",
    "    def __init__(self, first, last, age):\n",
    "        self.first = first\n",
    "        self.last = last\n",
    "        self.age = age\n",
    "\n",
    "    def __str__(self):\n",
    "        return '{first} {last} is {age} years old'.format(**self.__dict__)\n",
    "\n",
    "\n",
    "person = Person('Tobin', 'Brown', 20)\n",
    "print(person)\n",
    "# Output: Tobin Brown is 20 years old\n",
    "print(person.__dict__)\n",
    "print(Person.__dict__)"
   ]
  },
  {
   "cell_type": "markdown",
   "metadata": {},
   "source": [
    "## 使用items()遍历字典，自动得到解压后的key，value值"
   ]
  },
  {
   "cell_type": "code",
   "execution_count": 12,
   "metadata": {},
   "outputs": [
    {
     "name": "stdout",
     "output_type": "stream",
     "text": [
      "first_name = Alfred\n",
      "last_name = Hitchcock\n"
     ]
    }
   ],
   "source": [
    "d = {\"first_name\": \"Alfred\", \"last_name\":\"Hitchcock\"}\n",
    "\n",
    "for key,val in d.items():\n",
    "    print(\"{} = {}\".format(key, val))"
   ]
  },
  {
   "cell_type": "markdown",
   "metadata": {},
   "source": [
    "## named tuples\n",
    "you should use **named tuples** instead of tuples anywhere you think **object notation** will make your code more pythonic and more easily readable.<br/>\n",
    "\n",
    "Namedtuple比普通tuple具有更好的可读性，可以使代码更易于维护。同时与字典相比，又更加的轻量和高效。但是有一点需要注意，就是namedtuple中的属性都是不可变的。任何尝试改变其属性值的操作都是非法的。"
   ]
  },
  {
   "cell_type": "code",
   "execution_count": 16,
   "metadata": {},
   "outputs": [
    {
     "name": "stdout",
     "output_type": "stream",
     "text": [
      "Name is Monica, age is 7.\n"
     ]
    }
   ],
   "source": [
    "from collections import namedtuple\n",
    "\n",
    "Person = namedtuple('Person','name age')\n",
    "p = Person('Monica',7)\n",
    "print(f'Name is {p.name}, age is {p.age}.')"
   ]
  },
  {
   "cell_type": "code",
   "execution_count": 20,
   "metadata": {},
   "outputs": [
    {
     "name": "stdout",
     "output_type": "stream",
     "text": [
      "Name is Monica, age is 7.\n"
     ]
    },
    {
     "data": {
      "text/plain": [
       "OrderedDict([('name', 'Monica'), ('age', 7)])"
      ]
     },
     "execution_count": 20,
     "metadata": {},
     "output_type": "execute_result"
    }
   ],
   "source": [
    "# 从字典创建namedtuple\n",
    "d= {'name':'Monica','age':7}\n",
    "Pson = namedtuple('Pson',d)\n",
    "p = Pson(**d)\n",
    "print(f'Name is {p.name}, age is {p.age}.')\n",
    "\n",
    "# namedtuple 转化为字典\n",
    "p._asdict()"
   ]
  },
  {
   "cell_type": "markdown",
   "metadata": {},
   "source": [
    "## 使用**zip**打包数据"
   ]
  },
  {
   "cell_type": "code",
   "execution_count": 49,
   "metadata": {},
   "outputs": [
    {
     "name": "stdout",
     "output_type": "stream",
     "text": [
      "(1, 4)\n",
      "(2, 5)\n",
      "(3, 6)\n",
      "(1, 2, 3)\n",
      "(4, 5, 6)\n"
     ]
    }
   ],
   "source": [
    "a=[1,2,3]\n",
    "b=[4,5,6]\n",
    "\n",
    "for i in zip(a,b):\n",
    "    print(i)\n",
    "    \n",
    "zipped= zip(a,b)\n",
    "c,d=zip(*zipped)  # 解压\n",
    "print(c)\n",
    "print(d)"
   ]
  },
  {
   "cell_type": "markdown",
   "metadata": {},
   "source": [
    "## 使用列表生成式，而不是map() filter()这种复杂方式。"
   ]
  },
  {
   "cell_type": "code",
   "execution_count": 53,
   "metadata": {},
   "outputs": [
    {
     "name": "stdout",
     "output_type": "stream",
     "text": [
      "[2, 4, 6]\n",
      "[2, 4, 6]\n"
     ]
    }
   ],
   "source": [
    "# 反例\n",
    "values = [1, 2, 3]\n",
    "doubles = map(lambda x: x * 2, values)\n",
    "print(list(doubles))\n",
    "\n",
    "# 正例\n",
    "values = [1,2,3]\n",
    "doubles = [x * 2 for x in values]\n",
    "print(doubles)"
   ]
  },
  {
   "cell_type": "markdown",
   "metadata": {},
   "source": [
    "## Use a set or dictionary instead of a list.<br/>\n",
    "使用set而不是list进行元素查找，是一种更加效率的方式。"
   ]
  },
  {
   "cell_type": "code",
   "execution_count": 9,
   "metadata": {},
   "outputs": [
    {
     "name": "stdout",
     "output_type": "stream",
     "text": [
      "Timer unit: 2.84436e-07 s\n",
      "\n",
      "Total time: 0.0888831 s\n",
      "File: <ipython-input-9-b644c017d461>\n",
      "Function: find_in_list at line 6\n",
      "\n",
      "Line #      Hits         Time  Per Hit   % Time  Line Contents\n",
      "==============================================================\n",
      "     6                                           @lp\n",
      "     7                                           def find_in_list():\n",
      "     8         1         13.0     13.0      0.0      a = range(100000)\n",
      "     9    100001      94050.0      0.9     30.1      for i in range(100000):\n",
      "    10    100000     126933.0      1.3     40.6          if i in a:\n",
      "    11    100000      91493.0      0.9     29.3              pass\n",
      "\n",
      "Total time: 0.0124788 s\n",
      "File: <ipython-input-9-b644c017d461>\n",
      "Function: find_in_set at line 14\n",
      "\n",
      "Line #      Hits         Time  Per Hit   % Time  Line Contents\n",
      "==============================================================\n",
      "    14                                           @lp\n",
      "    15                                           def find_in_set():\n",
      "    16         1      16905.0  16905.0     38.5      a = set(range(100000))\n",
      "    17     10001       9045.0      0.9     20.6      for i in range(10000):\n",
      "    18     10000       9802.0      1.0     22.3          if i in a:\n",
      "    19     10000       8120.0      0.8     18.5              pass\n",
      "\n"
     ]
    }
   ],
   "source": [
    "from line_profiler import LineProfiler\n",
    "\n",
    "lp = LineProfiler()\n",
    "\n",
    "\n",
    "@lp\n",
    "def find_in_list():\n",
    "    a = range(100000)\n",
    "    for i in range(100000):\n",
    "        if i in a:\n",
    "            pass\n",
    "\n",
    "\n",
    "@lp\n",
    "def find_in_set():\n",
    "    a = set(range(100000))\n",
    "    for i in range(10000):\n",
    "        if i in a:\n",
    "            pass\n",
    "\n",
    "            \n",
    "            \n",
    "find_in_list()\n",
    "find_in_set()\n",
    "lp.print_stats()"
   ]
  }
 ],
 "metadata": {
  "kernelspec": {
   "display_name": "ml37",
   "language": "python",
   "name": "ml37"
  },
  "language_info": {
   "codemirror_mode": {
    "name": "ipython",
    "version": 3
   },
   "file_extension": ".py",
   "mimetype": "text/x-python",
   "name": "python",
   "nbconvert_exporter": "python",
   "pygments_lexer": "ipython3",
   "version": "3.7.10"
  },
  "toc": {
   "base_numbering": 1,
   "nav_menu": {},
   "number_sections": true,
   "sideBar": true,
   "skip_h1_title": false,
   "title_cell": "Table of Contents",
   "title_sidebar": "Contents",
   "toc_cell": false,
   "toc_position": {
    "height": "calc(100% - 180px)",
    "left": "10px",
    "top": "150px",
    "width": "307.188px"
   },
   "toc_section_display": true,
   "toc_window_display": true
  },
  "varInspector": {
   "cols": {
    "lenName": 16,
    "lenType": 16,
    "lenVar": 40
   },
   "kernels_config": {
    "python": {
     "delete_cmd_postfix": "",
     "delete_cmd_prefix": "del ",
     "library": "var_list.py",
     "varRefreshCmd": "print(var_dic_list())"
    },
    "r": {
     "delete_cmd_postfix": ") ",
     "delete_cmd_prefix": "rm(",
     "library": "var_list.r",
     "varRefreshCmd": "cat(var_dic_list()) "
    }
   },
   "types_to_exclude": [
    "module",
    "function",
    "builtin_function_or_method",
    "instance",
    "_Feature"
   ],
   "window_display": false
  }
 },
 "nbformat": 4,
 "nbformat_minor": 4
}
