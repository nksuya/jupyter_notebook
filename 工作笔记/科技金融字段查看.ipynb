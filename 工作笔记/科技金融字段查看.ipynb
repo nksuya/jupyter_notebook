{
 "cells": [
  {
   "cell_type": "markdown",
   "id": "51ca8a33",
   "metadata": {},
   "source": [
    "# 读数据"
   ]
  },
  {
   "cell_type": "code",
   "execution_count": 1,
   "id": "6866af3b",
   "metadata": {},
   "outputs": [],
   "source": [
    "import matplotlib.pyplot as plt\n",
    "plt.rcParams['font.sans-serif'] = ['SimHei']\n",
    "%matplotlib inline\n",
    "# plt.rcParams['figure.subplot.left'] = 0\n",
    "# plt.rcParams['figure.subplot.bottom'] = 0\n",
    "# plt.rcParams['figure.subplot.right'] = 1\n",
    "# plt.rcParams['figure.subplot.top'] = 1"
   ]
  },
  {
   "cell_type": "code",
   "execution_count": 2,
   "id": "806dd1df",
   "metadata": {
    "scrolled": false
   },
   "outputs": [
    {
     "data": {
      "text/html": [
       "<div>\n",
       "<style scoped>\n",
       "    .dataframe tbody tr th:only-of-type {\n",
       "        vertical-align: middle;\n",
       "    }\n",
       "\n",
       "    .dataframe tbody tr th {\n",
       "        vertical-align: top;\n",
       "    }\n",
       "\n",
       "    .dataframe thead th {\n",
       "        text-align: right;\n",
       "    }\n",
       "</style>\n",
       "<table border=\"1\" class=\"dataframe\">\n",
       "  <thead>\n",
       "    <tr style=\"text-align: right;\">\n",
       "      <th></th>\n",
       "      <th>Unnamed: 0</th>\n",
       "      <th>产品名称</th>\n",
       "      <th>产品内容</th>\n",
       "      <th>主营业务收入</th>\n",
       "      <th>纳税申报收入</th>\n",
       "      <th>净利润</th>\n",
       "      <th>毛利润</th>\n",
       "      <th>主营业务占比</th>\n",
       "      <th>经营期限</th>\n",
       "      <th>资产负债率</th>\n",
       "      <th>...</th>\n",
       "      <th>注册地</th>\n",
       "      <th>实际经营地</th>\n",
       "      <th>其他还款来源</th>\n",
       "      <th>纳税情况</th>\n",
       "      <th>实控人户口</th>\n",
       "      <th>实控人缴存社保</th>\n",
       "      <th>企业征信查询情况</th>\n",
       "      <th>法人变更情况</th>\n",
       "      <th>抵押物情况</th>\n",
       "      <th>实际控股人持股年限</th>\n",
       "    </tr>\n",
       "  </thead>\n",
       "  <tbody>\n",
       "    <tr>\n",
       "      <th>0</th>\n",
       "      <td>武清村镇银行</td>\n",
       "      <td>薪资贷</td>\n",
       "      <td>1.额度：最高可达500万元                     \\n2.担保方式：信用...</td>\n",
       "      <td>1000.0</td>\n",
       "      <td>NaN</td>\n",
       "      <td>NaN</td>\n",
       "      <td>NaN</td>\n",
       "      <td>NaN</td>\n",
       "      <td>NaN</td>\n",
       "      <td>0.7</td>\n",
       "      <td>...</td>\n",
       "      <td>2.0</td>\n",
       "      <td>2.0</td>\n",
       "      <td>NaN</td>\n",
       "      <td>NaN</td>\n",
       "      <td>NaN</td>\n",
       "      <td>NaN</td>\n",
       "      <td>NaN</td>\n",
       "      <td>NaN</td>\n",
       "      <td>NaN</td>\n",
       "      <td>NaN</td>\n",
       "    </tr>\n",
       "    <tr>\n",
       "      <th>1</th>\n",
       "      <td>武清村镇银行</td>\n",
       "      <td>小微易捷贷</td>\n",
       "      <td>1.额度：最高可达3000万元                     \\n2.担保方式：信...</td>\n",
       "      <td>500.0</td>\n",
       "      <td>NaN</td>\n",
       "      <td>0.0</td>\n",
       "      <td>NaN</td>\n",
       "      <td>NaN</td>\n",
       "      <td>NaN</td>\n",
       "      <td>0.7</td>\n",
       "      <td>...</td>\n",
       "      <td>2.0</td>\n",
       "      <td>2.0</td>\n",
       "      <td>1.0</td>\n",
       "      <td>NaN</td>\n",
       "      <td>NaN</td>\n",
       "      <td>NaN</td>\n",
       "      <td>NaN</td>\n",
       "      <td>NaN</td>\n",
       "      <td>NaN</td>\n",
       "      <td>NaN</td>\n",
       "    </tr>\n",
       "    <tr>\n",
       "      <th>2</th>\n",
       "      <td>武清村镇银行</td>\n",
       "      <td>应收账款质押</td>\n",
       "      <td>1.额度：最高可达1000万元                     \\n2.担保方式：质...</td>\n",
       "      <td>2000.0</td>\n",
       "      <td>NaN</td>\n",
       "      <td>NaN</td>\n",
       "      <td>NaN</td>\n",
       "      <td>NaN</td>\n",
       "      <td>NaN</td>\n",
       "      <td>NaN</td>\n",
       "      <td>...</td>\n",
       "      <td>NaN</td>\n",
       "      <td>NaN</td>\n",
       "      <td>NaN</td>\n",
       "      <td>2.0</td>\n",
       "      <td>NaN</td>\n",
       "      <td>NaN</td>\n",
       "      <td>NaN</td>\n",
       "      <td>NaN</td>\n",
       "      <td>NaN</td>\n",
       "      <td>NaN</td>\n",
       "    </tr>\n",
       "    <tr>\n",
       "      <th>3</th>\n",
       "      <td>邮储银行</td>\n",
       "      <td>房地产抵押贷</td>\n",
       "      <td>1.额度：最高额可到3000万且不超过营业收入45%                    ...</td>\n",
       "      <td>NaN</td>\n",
       "      <td>NaN</td>\n",
       "      <td>NaN</td>\n",
       "      <td>NaN</td>\n",
       "      <td>NaN</td>\n",
       "      <td>12.0</td>\n",
       "      <td>0.7</td>\n",
       "      <td>...</td>\n",
       "      <td>NaN</td>\n",
       "      <td>NaN</td>\n",
       "      <td>NaN</td>\n",
       "      <td>NaN</td>\n",
       "      <td>NaN</td>\n",
       "      <td>NaN</td>\n",
       "      <td>NaN</td>\n",
       "      <td>NaN</td>\n",
       "      <td>NaN</td>\n",
       "      <td>NaN</td>\n",
       "    </tr>\n",
       "    <tr>\n",
       "      <th>4</th>\n",
       "      <td>邮储银行</td>\n",
       "      <td>快捷贷</td>\n",
       "      <td>1.期限：单笔贷款最长期限不超过1年\\n2.担保方式：担保公司担保（主要是科技型企业）\\n3...</td>\n",
       "      <td>NaN</td>\n",
       "      <td>NaN</td>\n",
       "      <td>NaN</td>\n",
       "      <td>NaN</td>\n",
       "      <td>NaN</td>\n",
       "      <td>12.0</td>\n",
       "      <td>0.7</td>\n",
       "      <td>...</td>\n",
       "      <td>NaN</td>\n",
       "      <td>NaN</td>\n",
       "      <td>NaN</td>\n",
       "      <td>1.0</td>\n",
       "      <td>NaN</td>\n",
       "      <td>NaN</td>\n",
       "      <td>NaN</td>\n",
       "      <td>NaN</td>\n",
       "      <td>NaN</td>\n",
       "      <td>NaN</td>\n",
       "    </tr>\n",
       "  </tbody>\n",
       "</table>\n",
       "<p>5 rows × 31 columns</p>\n",
       "</div>"
      ],
      "text/plain": [
       "  Unnamed: 0    产品名称                                               产品内容  \\\n",
       "0     武清村镇银行     薪资贷  1.额度：最高可达500万元                     \\n2.担保方式：信用...   \n",
       "1     武清村镇银行   小微易捷贷  1.额度：最高可达3000万元                     \\n2.担保方式：信...   \n",
       "2     武清村镇银行  应收账款质押  1.额度：最高可达1000万元                     \\n2.担保方式：质...   \n",
       "3       邮储银行  房地产抵押贷  1.额度：最高额可到3000万且不超过营业收入45%                    ...   \n",
       "4       邮储银行     快捷贷  1.期限：单笔贷款最长期限不超过1年\\n2.担保方式：担保公司担保（主要是科技型企业）\\n3...   \n",
       "\n",
       "   主营业务收入  纳税申报收入  净利润  毛利润  主营业务占比  经营期限  资产负债率  ...  注册地  实际经营地  其他还款来源  \\\n",
       "0  1000.0     NaN  NaN  NaN     NaN   NaN    0.7  ...  2.0    2.0     NaN   \n",
       "1   500.0     NaN  0.0  NaN     NaN   NaN    0.7  ...  2.0    2.0     1.0   \n",
       "2  2000.0     NaN  NaN  NaN     NaN   NaN    NaN  ...  NaN    NaN     NaN   \n",
       "3     NaN     NaN  NaN  NaN     NaN  12.0    0.7  ...  NaN    NaN     NaN   \n",
       "4     NaN     NaN  NaN  NaN     NaN  12.0    0.7  ...  NaN    NaN     NaN   \n",
       "\n",
       "   纳税情况  实控人户口  实控人缴存社保  企业征信查询情况  法人变更情况  抵押物情况  实际控股人持股年限  \n",
       "0   NaN    NaN      NaN       NaN     NaN    NaN        NaN  \n",
       "1   NaN    NaN      NaN       NaN     NaN    NaN        NaN  \n",
       "2   2.0    NaN      NaN       NaN     NaN    NaN        NaN  \n",
       "3   NaN    NaN      NaN       NaN     NaN    NaN        NaN  \n",
       "4   1.0    NaN      NaN       NaN     NaN    NaN        NaN  \n",
       "\n",
       "[5 rows x 31 columns]"
      ]
     },
     "execution_count": 2,
     "metadata": {},
     "output_type": "execute_result"
    }
   ],
   "source": [
    "import pandas as pd\n",
    "\n",
    "# 读取产品信息及对企业的要求dataframe\n",
    "df = pd.read_excel(\"../dataset/金融科技平台-企业填写数据.xlsx\",\n",
    "                   sheet_name='Sheet1',\n",
    "                   skiprows=1)\n",
    "# 修改列名，精简\n",
    "cols = []\n",
    "col_ls = df.columns.tolist()\n",
    "for c in col_ls:\n",
    "    cols.append(c.split('（')[0])\n",
    "df.columns = cols\n",
    "df.head()"
   ]
  },
  {
   "cell_type": "markdown",
   "id": "175a17b1",
   "metadata": {},
   "source": [
    "# 分析字段"
   ]
  },
  {
   "cell_type": "code",
   "execution_count": 2,
   "id": "2f4b2d8e",
   "metadata": {
    "scrolled": true
   },
   "outputs": [
    {
     "data": {
      "text/html": [
       "<div>\n",
       "<style scoped>\n",
       "    .dataframe tbody tr th:only-of-type {\n",
       "        vertical-align: middle;\n",
       "    }\n",
       "\n",
       "    .dataframe tbody tr th {\n",
       "        vertical-align: top;\n",
       "    }\n",
       "\n",
       "    .dataframe thead th {\n",
       "        text-align: right;\n",
       "    }\n",
       "</style>\n",
       "<table border=\"1\" class=\"dataframe\">\n",
       "  <thead>\n",
       "    <tr style=\"text-align: right;\">\n",
       "      <th></th>\n",
       "      <th>主营业务收入</th>\n",
       "      <th>纳税申报收入</th>\n",
       "      <th>净利润</th>\n",
       "      <th>毛利润</th>\n",
       "      <th>主营业务占比</th>\n",
       "      <th>经营期限</th>\n",
       "      <th>资产负债率</th>\n",
       "      <th>年收入增长率</th>\n",
       "      <th>实收资本</th>\n",
       "      <th>企业或者实际控制人资产</th>\n",
       "      <th>...</th>\n",
       "      <th>注册地</th>\n",
       "      <th>实际经营地</th>\n",
       "      <th>其他还款来源</th>\n",
       "      <th>纳税情况</th>\n",
       "      <th>实控人户口</th>\n",
       "      <th>实控人缴存社保</th>\n",
       "      <th>企业征信查询情况</th>\n",
       "      <th>法人变更情况</th>\n",
       "      <th>抵押物情况</th>\n",
       "      <th>实际控股人持股年限</th>\n",
       "    </tr>\n",
       "  </thead>\n",
       "  <tbody>\n",
       "    <tr>\n",
       "      <th>count</th>\n",
       "      <td>10.000000</td>\n",
       "      <td>1.0</td>\n",
       "      <td>9.000000</td>\n",
       "      <td>1.0</td>\n",
       "      <td>1.0</td>\n",
       "      <td>12.000000</td>\n",
       "      <td>10.00000</td>\n",
       "      <td>5.0</td>\n",
       "      <td>1.0</td>\n",
       "      <td>10.000000</td>\n",
       "      <td>...</td>\n",
       "      <td>5.000000</td>\n",
       "      <td>5.000000</td>\n",
       "      <td>1.0</td>\n",
       "      <td>4.00</td>\n",
       "      <td>1.0</td>\n",
       "      <td>1.0</td>\n",
       "      <td>1.0</td>\n",
       "      <td>2.0</td>\n",
       "      <td>1.0</td>\n",
       "      <td>3.000000</td>\n",
       "    </tr>\n",
       "    <tr>\n",
       "      <th>mean</th>\n",
       "      <td>860.000000</td>\n",
       "      <td>200.0</td>\n",
       "      <td>11.111111</td>\n",
       "      <td>0.1</td>\n",
       "      <td>0.7</td>\n",
       "      <td>16.500000</td>\n",
       "      <td>0.70000</td>\n",
       "      <td>0.0</td>\n",
       "      <td>500.0</td>\n",
       "      <td>2.700000</td>\n",
       "      <td>...</td>\n",
       "      <td>1.600000</td>\n",
       "      <td>1.600000</td>\n",
       "      <td>1.0</td>\n",
       "      <td>1.75</td>\n",
       "      <td>1.0</td>\n",
       "      <td>3.0</td>\n",
       "      <td>1.0</td>\n",
       "      <td>1.0</td>\n",
       "      <td>1.0</td>\n",
       "      <td>1.333333</td>\n",
       "    </tr>\n",
       "    <tr>\n",
       "      <th>std</th>\n",
       "      <td>512.510163</td>\n",
       "      <td>NaN</td>\n",
       "      <td>22.047928</td>\n",
       "      <td>NaN</td>\n",
       "      <td>NaN</td>\n",
       "      <td>8.533357</td>\n",
       "      <td>0.08165</td>\n",
       "      <td>0.0</td>\n",
       "      <td>NaN</td>\n",
       "      <td>0.674949</td>\n",
       "      <td>...</td>\n",
       "      <td>0.547723</td>\n",
       "      <td>0.547723</td>\n",
       "      <td>NaN</td>\n",
       "      <td>0.50</td>\n",
       "      <td>NaN</td>\n",
       "      <td>NaN</td>\n",
       "      <td>NaN</td>\n",
       "      <td>0.0</td>\n",
       "      <td>NaN</td>\n",
       "      <td>0.577350</td>\n",
       "    </tr>\n",
       "    <tr>\n",
       "      <th>min</th>\n",
       "      <td>100.000000</td>\n",
       "      <td>200.0</td>\n",
       "      <td>0.000000</td>\n",
       "      <td>0.1</td>\n",
       "      <td>0.7</td>\n",
       "      <td>6.000000</td>\n",
       "      <td>0.50000</td>\n",
       "      <td>0.0</td>\n",
       "      <td>500.0</td>\n",
       "      <td>1.000000</td>\n",
       "      <td>...</td>\n",
       "      <td>1.000000</td>\n",
       "      <td>1.000000</td>\n",
       "      <td>1.0</td>\n",
       "      <td>1.00</td>\n",
       "      <td>1.0</td>\n",
       "      <td>3.0</td>\n",
       "      <td>1.0</td>\n",
       "      <td>1.0</td>\n",
       "      <td>1.0</td>\n",
       "      <td>1.000000</td>\n",
       "    </tr>\n",
       "    <tr>\n",
       "      <th>25%</th>\n",
       "      <td>500.000000</td>\n",
       "      <td>200.0</td>\n",
       "      <td>0.000000</td>\n",
       "      <td>0.1</td>\n",
       "      <td>0.7</td>\n",
       "      <td>12.000000</td>\n",
       "      <td>0.70000</td>\n",
       "      <td>0.0</td>\n",
       "      <td>500.0</td>\n",
       "      <td>3.000000</td>\n",
       "      <td>...</td>\n",
       "      <td>1.000000</td>\n",
       "      <td>1.000000</td>\n",
       "      <td>1.0</td>\n",
       "      <td>1.75</td>\n",
       "      <td>1.0</td>\n",
       "      <td>3.0</td>\n",
       "      <td>1.0</td>\n",
       "      <td>1.0</td>\n",
       "      <td>1.0</td>\n",
       "      <td>1.000000</td>\n",
       "    </tr>\n",
       "    <tr>\n",
       "      <th>50%</th>\n",
       "      <td>1000.000000</td>\n",
       "      <td>200.0</td>\n",
       "      <td>0.000000</td>\n",
       "      <td>0.1</td>\n",
       "      <td>0.7</td>\n",
       "      <td>12.000000</td>\n",
       "      <td>0.70000</td>\n",
       "      <td>0.0</td>\n",
       "      <td>500.0</td>\n",
       "      <td>3.000000</td>\n",
       "      <td>...</td>\n",
       "      <td>2.000000</td>\n",
       "      <td>2.000000</td>\n",
       "      <td>1.0</td>\n",
       "      <td>2.00</td>\n",
       "      <td>1.0</td>\n",
       "      <td>3.0</td>\n",
       "      <td>1.0</td>\n",
       "      <td>1.0</td>\n",
       "      <td>1.0</td>\n",
       "      <td>1.000000</td>\n",
       "    </tr>\n",
       "    <tr>\n",
       "      <th>75%</th>\n",
       "      <td>1000.000000</td>\n",
       "      <td>200.0</td>\n",
       "      <td>0.000000</td>\n",
       "      <td>0.1</td>\n",
       "      <td>0.7</td>\n",
       "      <td>24.000000</td>\n",
       "      <td>0.70000</td>\n",
       "      <td>0.0</td>\n",
       "      <td>500.0</td>\n",
       "      <td>3.000000</td>\n",
       "      <td>...</td>\n",
       "      <td>2.000000</td>\n",
       "      <td>2.000000</td>\n",
       "      <td>1.0</td>\n",
       "      <td>2.00</td>\n",
       "      <td>1.0</td>\n",
       "      <td>3.0</td>\n",
       "      <td>1.0</td>\n",
       "      <td>1.0</td>\n",
       "      <td>1.0</td>\n",
       "      <td>1.500000</td>\n",
       "    </tr>\n",
       "    <tr>\n",
       "      <th>max</th>\n",
       "      <td>2000.000000</td>\n",
       "      <td>200.0</td>\n",
       "      <td>50.000000</td>\n",
       "      <td>0.1</td>\n",
       "      <td>0.7</td>\n",
       "      <td>36.000000</td>\n",
       "      <td>0.80000</td>\n",
       "      <td>0.0</td>\n",
       "      <td>500.0</td>\n",
       "      <td>3.000000</td>\n",
       "      <td>...</td>\n",
       "      <td>2.000000</td>\n",
       "      <td>2.000000</td>\n",
       "      <td>1.0</td>\n",
       "      <td>2.00</td>\n",
       "      <td>1.0</td>\n",
       "      <td>3.0</td>\n",
       "      <td>1.0</td>\n",
       "      <td>1.0</td>\n",
       "      <td>1.0</td>\n",
       "      <td>2.000000</td>\n",
       "    </tr>\n",
       "  </tbody>\n",
       "</table>\n",
       "<p>8 rows × 28 columns</p>\n",
       "</div>"
      ],
      "text/plain": [
       "            主营业务收入  纳税申报收入        净利润  毛利润  主营业务占比       经营期限     资产负债率  \\\n",
       "count    10.000000     1.0   9.000000  1.0     1.0  12.000000  10.00000   \n",
       "mean    860.000000   200.0  11.111111  0.1     0.7  16.500000   0.70000   \n",
       "std     512.510163     NaN  22.047928  NaN     NaN   8.533357   0.08165   \n",
       "min     100.000000   200.0   0.000000  0.1     0.7   6.000000   0.50000   \n",
       "25%     500.000000   200.0   0.000000  0.1     0.7  12.000000   0.70000   \n",
       "50%    1000.000000   200.0   0.000000  0.1     0.7  12.000000   0.70000   \n",
       "75%    1000.000000   200.0   0.000000  0.1     0.7  24.000000   0.70000   \n",
       "max    2000.000000   200.0  50.000000  0.1     0.7  36.000000   0.80000   \n",
       "\n",
       "       年收入增长率   实收资本  企业或者实际控制人资产  ...       注册地     实际经营地  其他还款来源  纳税情况  \\\n",
       "count     5.0    1.0    10.000000  ...  5.000000  5.000000     1.0  4.00   \n",
       "mean      0.0  500.0     2.700000  ...  1.600000  1.600000     1.0  1.75   \n",
       "std       0.0    NaN     0.674949  ...  0.547723  0.547723     NaN  0.50   \n",
       "min       0.0  500.0     1.000000  ...  1.000000  1.000000     1.0  1.00   \n",
       "25%       0.0  500.0     3.000000  ...  1.000000  1.000000     1.0  1.75   \n",
       "50%       0.0  500.0     3.000000  ...  2.000000  2.000000     1.0  2.00   \n",
       "75%       0.0  500.0     3.000000  ...  2.000000  2.000000     1.0  2.00   \n",
       "max       0.0  500.0     3.000000  ...  2.000000  2.000000     1.0  2.00   \n",
       "\n",
       "       实控人户口  实控人缴存社保  企业征信查询情况  法人变更情况  抵押物情况  实际控股人持股年限  \n",
       "count    1.0      1.0       1.0     2.0    1.0   3.000000  \n",
       "mean     1.0      3.0       1.0     1.0    1.0   1.333333  \n",
       "std      NaN      NaN       NaN     0.0    NaN   0.577350  \n",
       "min      1.0      3.0       1.0     1.0    1.0   1.000000  \n",
       "25%      1.0      3.0       1.0     1.0    1.0   1.000000  \n",
       "50%      1.0      3.0       1.0     1.0    1.0   1.000000  \n",
       "75%      1.0      3.0       1.0     1.0    1.0   1.500000  \n",
       "max      1.0      3.0       1.0     1.0    1.0   2.000000  \n",
       "\n",
       "[8 rows x 28 columns]"
      ]
     },
     "execution_count": 2,
     "metadata": {},
     "output_type": "execute_result"
    }
   ],
   "source": [
    "df.describe()"
   ]
  },
  {
   "cell_type": "code",
   "execution_count": 13,
   "id": "361b69fb",
   "metadata": {
    "scrolled": true
   },
   "outputs": [
    {
     "data": {
      "text/plain": [
       "(19, 31)"
      ]
     },
     "execution_count": 13,
     "metadata": {},
     "output_type": "execute_result"
    }
   ],
   "source": [
    "df.shape"
   ]
  },
  {
   "cell_type": "code",
   "execution_count": 15,
   "id": "4e99b41c",
   "metadata": {},
   "outputs": [
    {
     "data": {
      "text/plain": [
       "28"
      ]
     },
     "execution_count": 15,
     "metadata": {},
     "output_type": "execute_result"
    }
   ],
   "source": [
    "len(df.describe().columns)"
   ]
  },
  {
   "cell_type": "code",
   "execution_count": 19,
   "id": "efeab539",
   "metadata": {
    "scrolled": false
   },
   "outputs": [
    {
     "data": {
      "text/plain": [
       "Unnamed: 0       0\n",
       "产品名称             0\n",
       "产品内容             0\n",
       "主营业务收入           9\n",
       "纳税申报收入          18\n",
       "净利润             10\n",
       "毛利润             18\n",
       "主营业务占比          18\n",
       "经营期限             7\n",
       "资产负债率            9\n",
       "年收入增长率          14\n",
       "实收资本            18\n",
       "企业或者实际控制人资产      9\n",
       "企业技术/产品         18\n",
       "下游客户            19\n",
       "他行贷款数           15\n",
       "征信情况             4\n",
       "实控人当地住所         17\n",
       "核心人员同业从业年限      17\n",
       "荣誉资质            15\n",
       "实控人名下经营性负债金额    18\n",
       "注册地             14\n",
       "实际经营地           14\n",
       "其他还款来源          18\n",
       "纳税情况            15\n",
       "实控人户口           18\n",
       "实控人缴存社保         18\n",
       "企业征信查询情况        18\n",
       "法人变更情况          17\n",
       "抵押物情况           18\n",
       "实际控股人持股年限       16\n",
       "dtype: int64"
      ]
     },
     "execution_count": 19,
     "metadata": {},
     "output_type": "execute_result"
    }
   ],
   "source": [
    "df.isna().sum()"
   ]
  },
  {
   "cell_type": "code",
   "execution_count": 22,
   "id": "d3a339ba",
   "metadata": {
    "scrolled": true
   },
   "outputs": [
    {
     "data": {
      "text/plain": [
       "Unnamed: 0      19\n",
       "产品名称            19\n",
       "产品内容            19\n",
       "征信情况            15\n",
       "经营期限            12\n",
       "主营业务收入          10\n",
       "资产负债率           10\n",
       "企业或者实际控制人资产     10\n",
       "净利润              9\n",
       "实际经营地            5\n",
       "注册地              5\n",
       "年收入增长率           5\n",
       "纳税情况             4\n",
       "荣誉资质             4\n",
       "他行贷款数            4\n",
       "实际控股人持股年限        3\n",
       "实控人当地住所          2\n",
       "核心人员同业从业年限       2\n",
       "法人变更情况           2\n",
       "企业技术/产品          1\n",
       "实收资本             1\n",
       "实控人名下经营性负债金额     1\n",
       "主营业务占比           1\n",
       "毛利润              1\n",
       "其他还款来源           1\n",
       "纳税申报收入           1\n",
       "实控人户口            1\n",
       "实控人缴存社保          1\n",
       "企业征信查询情况         1\n",
       "抵押物情况            1\n",
       "下游客户             0\n",
       "dtype: int64"
      ]
     },
     "execution_count": 22,
     "metadata": {},
     "output_type": "execute_result"
    }
   ],
   "source": [
    "df.count().sort_values(ascending=False)"
   ]
  },
  {
   "cell_type": "code",
   "execution_count": 35,
   "id": "42b545c7",
   "metadata": {},
   "outputs": [
    {
     "data": {
      "text/plain": [
       "0     0.7\n",
       "1     0.7\n",
       "2     NaN\n",
       "3     0.7\n",
       "4     0.7\n",
       "5     NaN\n",
       "6     NaN\n",
       "7     NaN\n",
       "8     NaN\n",
       "9     NaN\n",
       "10    NaN\n",
       "11    0.7\n",
       "12    0.8\n",
       "13    0.8\n",
       "14    0.5\n",
       "15    0.7\n",
       "16    NaN\n",
       "17    NaN\n",
       "18    0.7\n",
       "Name: 资产负债率, dtype: float64"
      ]
     },
     "execution_count": 35,
     "metadata": {},
     "output_type": "execute_result"
    }
   ],
   "source": [
    "df['资产负债率']"
   ]
  },
  {
   "cell_type": "code",
   "execution_count": 48,
   "id": "20469a5c",
   "metadata": {
    "scrolled": true
   },
   "outputs": [
    {
     "data": {
      "text/plain": [
       "1.0    2\n",
       "2.0    1\n",
       "Name: 实际控股人持股年限, dtype: int64"
      ]
     },
     "execution_count": 48,
     "metadata": {},
     "output_type": "execute_result"
    }
   ],
   "source": [
    "df['实际控股人持股年限'].value_counts()"
   ]
  },
  {
   "cell_type": "markdown",
   "id": "a8f37c7e",
   "metadata": {},
   "source": [
    "# 可视化"
   ]
  },
  {
   "cell_type": "code",
   "execution_count": 24,
   "id": "3dff6581",
   "metadata": {
    "scrolled": false
   },
   "outputs": [
    {
     "data": {
      "image/png": "[encoded data removed]",
      "text/plain": [
       "<Figure size 720x864 with 1 Axes>"
      ]
     },
     "metadata": {
      "needs_background": "light"
     },
     "output_type": "display_data"
    }
   ],
   "source": [
    "ax = df.count().sort_values(ascending=True)[:-3].plot.barh(figsize=(10,12),color='c')\n",
    "pd.DataFrame(len(df))\n",
    "plt.savefig('../dataset/fintech_field_importance.png')"
   ]
  },
  {
   "cell_type": "code",
   "execution_count": 80,
   "id": "61a9c6a6",
   "metadata": {
    "scrolled": false
   },
   "outputs": [
    {
     "name": "stdout",
     "output_type": "stream",
     "text": [
      "          count  NaN\n",
      "下游客户          0   19\n",
      "企业征信查询情况      1   18\n",
      "实控人缴存社保       1   18\n",
      "纳税申报收入        1   18\n",
      "实控人户口         1   18\n"
     ]
    },
    {
     "data": {
      "image/png": "[encoded data removed]",
      "text/plain": [
       "<Figure size 720x864 with 1 Axes>"
      ]
     },
     "metadata": {
      "needs_background": "light"
     },
     "output_type": "display_data"
    }
   ],
   "source": [
    "ser_total = pd.Series([len(df)] * 28)\n",
    "ser_total.index = df.count().sort_values(ascending=True)[:-3].index\n",
    "# ser_total.plot.barh(figsize=(10,12),color='lightgray')\n",
    "df_all = pd.DataFrame()\n",
    "df_all['total'] = ser_total\n",
    "df_all['count'] = df.count().sort_values(ascending=True)[:-3]\n",
    "df_all['NaN'] = df_all['total'] - df_all['count']\n",
    "df_all = df_all[['count', 'NaN']]\n",
    "print(df_all.head())\n",
    "df_all.plot.barh(figsize=(10, 12), color=['c', 'lightgray'], stacked=True)\n",
    "plt.xticks(list(range(20)))\n",
    "plt.savefig('../dataset/fintech_field_importance.png')"
   ]
  },
  {
   "cell_type": "code",
   "execution_count": 25,
   "id": "c69ad2f1",
   "metadata": {
    "scrolled": false
   },
   "outputs": [
    {
     "name": "stdout",
     "output_type": "stream",
     "text": [
      "['下游客户', '企业征信查询情况', '实控人缴存社保', '纳税申报收入', '实控人户口', '毛利润', '主营业务占比', '其他还款来源', '实控人名下经营性负债金额', '实收资本', '抵押物情况', '企业技术/产品', '实控人当地住所', '法人变更情况', '核心人员同业从业年限', '实际控股人持股年限', '荣誉资质', '纳税情况', '他行贷款数', '年收入增长率', '注册地', '实际经营地', '净利润', '企业或者实际控制人资产', '资产负债率', '主营业务收入', '经营期限', '征信情况']\n",
      "[0, 1, 1, 1, 1, 1, 1, 1, 1, 1, 1, 1, 2, 2, 2, 3, 4, 4, 4, 5, 5, 5, 9, 10, 10, 10, 12, 15]\n"
     ]
    },
    {
     "data": {
      "image/png": "[encoded data removed]",
      "text/plain": [
       "<Figure size 720x864 with 1 Axes>"
      ]
     },
     "metadata": {
      "needs_background": "light"
     },
     "output_type": "display_data"
    }
   ],
   "source": [
    "import matplotlib.pyplot as plt\n",
    "\n",
    "ser = df.count().sort_values(ascending=True)[:-3]\n",
    "x = list(ser.index)\n",
    "y = list(ser.values)\n",
    "print(x)\n",
    "print(y)\n",
    "plt.figure(figsize=(10, 12))\n",
    "plt.barh(x, y, color='c')\n",
    "\n",
    "for a, b in zip(x, y):\n",
    "#     print(a, b)\n",
    "    plt.text(b + 0.5, a, b, ha='center', va='bottom', fontsize=10)\n",
    "plt.savefig('../dataset/fintech_field_importance.png')"
   ]
  }
 ],
 "metadata": {
  "kernelspec": {
   "display_name": "ml37",
   "language": "python",
   "name": "ml37"
  },
  "language_info": {
   "codemirror_mode": {
    "name": "ipython",
    "version": 3
   },
   "file_extension": ".py",
   "mimetype": "text/x-python",
   "name": "python",
   "nbconvert_exporter": "python",
   "pygments_lexer": "ipython3",
   "version": "3.7.10"
  },
  "toc": {
   "base_numbering": 1,
   "nav_menu": {},
   "number_sections": true,
   "sideBar": true,
   "skip_h1_title": false,
   "title_cell": "Table of Contents",
   "title_sidebar": "Contents",
   "toc_cell": false,
   "toc_position": {
    "height": "calc(100% - 180px)",
    "left": "10px",
    "top": "150px",
    "width": "218.475px"
   },
   "toc_section_display": true,
   "toc_window_display": true
  }
 },
 "nbformat": 4,
 "nbformat_minor": 5
}
