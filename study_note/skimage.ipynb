{
 "cells": [
  {
   "cell_type": "markdown",
   "id": "6a894f1f",
   "metadata": {},
   "source": [
    "# scikit-image \n",
    "全称：scikit-image SciKit (toolkit for SciPy) 数字图像处理的包  \n",
    "安装：`pip install scikit-image`  \n",
    "block_reduce网络示例：https://programtalk.com/python-examples/skimage.measure.block_reduce/"
   ]
  },
  {
   "cell_type": "code",
   "execution_count": 7,
   "id": "a2de0e06",
   "metadata": {},
   "outputs": [
    {
     "name": "stdout",
     "output_type": "stream",
     "text": [
      "[[ 0  1  2  3  4  5]\n",
      " [ 6  7  8  9 10 11]\n",
      " [12 13 14 15 16 17]\n",
      " [18 19 20 21 22 23]]\n",
      "\n",
      "[[ 24  42]\n",
      " [ 96 114]]\n",
      "\n",
      "[[ 4.  7.]\n",
      " [16. 19.]]\n",
      "\n",
      "[[ 8 11]\n",
      " [20 23]]\n",
      "\n",
      "[[ 4.  7.]\n",
      " [16. 19.]]\n"
     ]
    }
   ],
   "source": [
    "import numpy as np\n",
    "from skimage.measure import block_reduce\n",
    "\n",
    "image1 = np.arange(4 * 6).reshape(4, 6)\n",
    "out1 = block_reduce(image1, (2, 3))  # 不指定func默认sum\n",
    "out2 = block_reduce(image1, (2, 3), func=np.mean)\n",
    "out3 = block_reduce(image1, (2, 3), func=np.max)\n",
    "out4 = block_reduce(image1, (2, 3), func=np.median)\n",
    "print(image1)\n",
    "print()\n",
    "print(out1)\n",
    "print()\n",
    "print(out2)\n",
    "print()\n",
    "print(out3)\n",
    "print()\n",
    "print(out4)"
   ]
  }
 ],
 "metadata": {
  "kernelspec": {
   "display_name": "d2l",
   "language": "python",
   "name": "d2l"
  },
  "language_info": {
   "codemirror_mode": {
    "name": "ipython",
    "version": 3
   },
   "file_extension": ".py",
   "mimetype": "text/x-python",
   "name": "python",
   "nbconvert_exporter": "python",
   "pygments_lexer": "ipython3",
   "version": "3.6.13"
  },
  "toc": {
   "base_numbering": 1,
   "nav_menu": {},
   "number_sections": true,
   "sideBar": true,
   "skip_h1_title": false,
   "title_cell": "Table of Contents",
   "title_sidebar": "Contents",
   "toc_cell": false,
   "toc_position": {},
   "toc_section_display": true,
   "toc_window_display": true
  }
 },
 "nbformat": 4,
 "nbformat_minor": 5
}
