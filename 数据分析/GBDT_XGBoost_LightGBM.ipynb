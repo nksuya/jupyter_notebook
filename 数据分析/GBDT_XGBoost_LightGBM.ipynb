{
 "cells": [
  {
   "cell_type": "markdown",
   "metadata": {},
   "source": [
    "## GBDT Xgboost LightGBM对比\n"
   ]
  },
  {
   "cell_type": "markdown",
   "metadata": {},
   "source": [
    "数据集：dataset/mnist.pkl.gz"
   ]
  },
  {
   "cell_type": "markdown",
   "metadata": {},
   "source": [
    "# Mnist数据集识别\n",
    "### 使用Sklearn的GBDT\n",
    "\n",
    "[GradientBoostingClassifier](http://scikit-learn.org/stable/modules/generated/sklearn.ensemble.GradientBoostingClassifier.html)\n",
    "\n",
    "[GradientBoostingRegressor](http://scikit-learn.org/stable/modules/generated/sklearn.ensemble.GradientBoostingRegressor.html)"
   ]
  },
  {
   "cell_type": "code",
   "execution_count": 4,
   "metadata": {
    "scrolled": true
   },
   "outputs": [
    {
     "name": "stdout",
     "output_type": "stream",
     "text": [
      "(5000, 784) (5000,) (1000, 784) (1000,)\n"
     ]
    }
   ],
   "source": [
    "import gzip\n",
    "import pickle as pkl\n",
    "from sklearn.model_selection import train_test_split\n",
    "\n",
    "def load_data(path):\n",
    "    f = gzip.open(path, 'rb')\n",
    "    try:\n",
    "        #Python3\n",
    "        train_set, valid_set, test_set = pkl.load(f, encoding='latin1')\n",
    "    except:\n",
    "        #Python2\n",
    "        train_set, valid_set, test_set = pkl.load(f)\n",
    "    f.close()\n",
    "    return(train_set,valid_set,test_set)\n",
    "\n",
    "path = 'mnist.pkl.gz' \n",
    "train_set,valid_set,test_set = load_data(path)\n",
    "\n",
    "Xtrain,_,ytrain,_ = train_test_split(train_set[0],train_set[1],test_size=0.9) # 拆分数据集，测试集比例为90%\n",
    "Xtest,_,ytest,_ = train_test_split(test_set[0],test_set[1],test_size=0.9) # 拆分数据集，测试集比例为90%\n",
    "print(Xtrain.shape, ytrain.shape, Xtest.shape, ytest.shape)"
   ]
  },
  {
   "cell_type": "markdown",
   "metadata": {},
   "source": [
    "参数说明：\n",
    "\n",
    "- **learning_rate**: The learning parameter controls the magnitude of this change in the estimates. (default=0.1)\n",
    "- **n_extimators**: The number of sequential trees to be modeled. (default=100)\n",
    "- **max_depth**: The maximum depth of a tree. (default=3)\n",
    "- **min_samples_split**: Tthe minimum number of samples (or observations) which are required in a node to be considered for splitting. (default=2)\n",
    "- **min_samples_leaf**: The minimum samples (or observations) required in a terminal node or leaf. (default=1)\n",
    "- **min_weight_fraction_leaf**: Similar to min_samples_leaf but defined as a fraction of the total number of observations instead of an integer. (default=0.)\n",
    "- **subsample**: The fraction of observations to be selected for each tree. Selection is done by random sampling. (default=1.0)\n",
    "- **max_features**: The number of features to consider while searching for a best split. These will be randomly selected. (default=None)\n",
    "- **max_leaf_nodes**: The maximum number of terminal nodes or leaves in a tree. (default=None)\n",
    "- **min_impurity_decrease**: A node will be split if this split induces a decrease of the impurity greater than or equal to this value. (default=0.)\n"
   ]
  },
  {
   "cell_type": "code",
   "execution_count": 5,
   "metadata": {
    "scrolled": true
   },
   "outputs": [
    {
     "name": "stdout",
     "output_type": "stream",
     "text": [
      "The training time = 17.43635106086731\n",
      "Test accuracy = 0.843\n"
     ]
    }
   ],
   "source": [
    "from sklearn.ensemble import GradientBoostingClassifier\n",
    "import numpy as np\n",
    "import time\n",
    "\n",
    "# 建模，GBDT的分类类，最大迭代次数为10，学习率为0.1，决策树最大深度为3\n",
    "clf = GradientBoostingClassifier(n_estimators=10, learning_rate=0.1,max_depth=3)\n",
    "\n",
    "# start training\n",
    "# 获取开始的时间\n",
    "start_time = time.time()\n",
    "clf.fit(Xtrain, ytrain)  # 训练\n",
    "end_time = time.time()  # 结束时间\n",
    "print('The training time = {}'.format(end_time - start_time))\n",
    "\n",
    "# prediction and evaluation\n",
    "pred = clf.predict(Xtest)\n",
    "accuracy = np.sum(pred == ytest) / pred.shape[0]\n",
    "print('Test accuracy = {}'.format(accuracy))"
   ]
  },
  {
   "cell_type": "markdown",
   "metadata": {},
   "source": [
    "集成算法可以得出特征重要性，说白了就是看各个树使用特征的情况，使用的多当然就重要了,这是分类器告诉我们的。"
   ]
  },
  {
   "cell_type": "code",
   "execution_count": 7,
   "metadata": {},
   "outputs": [
    {
     "name": "stdout",
     "output_type": "stream",
     "text": [
      "0.041733194789293146 0.0\n"
     ]
    },
    {
     "data": {
      "image/png": "[encoded data removed]",
      "text/plain": [
       "<Figure size 432x288 with 1 Axes>"
      ]
     },
     "metadata": {
      "needs_background": "light"
     },
     "output_type": "display_data"
    }
   ],
   "source": [
    "%matplotlib inline\n",
    "import matplotlib.pyplot as plt\n",
    "plt.hist(clf.feature_importances_) # 使用直方图展示各个特征的重要性\n",
    "print(np.max(clf.feature_importances_),np.min(clf.feature_importances_)) # 打印特征重要性最高的和最低的两组"
   ]
  },
  {
   "cell_type": "markdown",
   "metadata": {},
   "source": [
    "一般情况下，我们还可以筛选一下。 "
   ]
  },
  {
   "cell_type": "code",
   "execution_count": 8,
   "metadata": {},
   "outputs": [
    {
     "data": {
      "image/png": "[encoded data removed]",
      "text/plain": [
       "<Figure size 432x288 with 1 Axes>"
      ]
     },
     "metadata": {
      "needs_background": "light"
     },
     "output_type": "display_data"
    }
   ],
   "source": [
    "from collections import OrderedDict\n",
    "d = {}\n",
    "for i in range(len(clf.feature_importances_)):\n",
    "    if clf.feature_importances_[i] > 0.01:\n",
    "        d[i] = clf.feature_importances_[i]\n",
    "\n",
    "sorted_feature_importances = OrderedDict(\n",
    "    sorted(d.items(), key=lambda x: x[1], reverse=True))\n",
    "D = sorted_feature_importances\n",
    "rects = plt.bar(range(len(D)), D.values())  # 绘制柱状图，柱子的对齐方式为居中\n",
    "plt.xticks(range(len(D)), D.keys(), rotation='vertical')  # 设置x轴\n",
    "plt.show()"
   ]
  },
  {
   "cell_type": "markdown",
   "metadata": {},
   "source": [
    "由于是像素点，所以看的没那么直观，正常特征看起来其实蛮直接的。"
   ]
  },
  {
   "cell_type": "markdown",
   "metadata": {},
   "source": [
    "## XGBoost\n",
    "\n",
    "加入了更多的剪枝策略和正则项，控制过拟合风险。传统的GBDT用的是CART，Xgboost能支持的分类器更多，也可以是线性的。GBDT只用了一阶导，但是xgboost对损失函数做了二阶的泰勒展开，并且还可以自定义损失函数。\n",
    "\n",
    "\n",
    "\n",
    "<img src=\"https://raw.githubusercontent.com/dmlc/web-data/master/xgboost/model/struct_score.png\" width=\"500\" height=\"500\" />\n",
    "\n",
    " \n",
    "pip install xgboost"
   ]
  },
  {
   "cell_type": "code",
   "execution_count": 10,
   "metadata": {},
   "outputs": [
    {
     "name": "stdout",
     "output_type": "stream",
     "text": [
      "[17:42:46] WARNING: C:/Users/Administrator/workspace/xgboost-win64_release_1.5.1/src/learner.cc:1115: Starting in XGBoost 1.3.0, the default evaluation metric used with the objective 'multi:softmax' was changed from 'merror' to 'mlogloss'. Explicitly set eval_metric if you'd like to restore the old behavior.\n",
      "The training time = 5.305847406387329\n",
      "Test accuracy = 0.845\n"
     ]
    }
   ],
   "source": [
    "import xgboost as xgb\n",
    "import numpy as np\n",
    "import time\n",
    "\n",
    "# read data into Xgboost DMatrix format\n",
    "dtrain = xgb.DMatrix(Xtrain,ytrain) # 将训练集转为DMatrix格式\n",
    "dtest = xgb.DMatrix(Xtest,ytest)  # 将测试集转为DMatrix格式\n",
    "\n",
    "# specify parameters via map\n",
    "params = {\n",
    "    'booster':'gbtree',     #  tree-based models\n",
    "    'objective': 'multi:softmax', \n",
    "    'num_class':10, \n",
    "    'eta': 0.1,             # Same to learning rate\n",
    "    'gamma':0,              # Similar to min_impurity_decrease in GBDT\n",
    "    'alpha': 0,             # L1 regularization term on weight (analogous to Lasso regression)\n",
    "    'lambda': 2,            # L2 regularization term on weights (analogous to Ridge regression)\n",
    "    'max_depth': 3,         # Same as the max_depth of GBDT\n",
    "    'subsample': 1,         # Same as the subsample of GBDT\n",
    "    'colsample_bytree': 1,  # Similar to max_features in GBM\n",
    "    'min_child_weight': 1,  # minimum sum of instance weight (Hessian) needed in a child\n",
    "    'nthread':1,            # default to maximum number of threads available if not set\n",
    "}\n",
    "num_round = 10\n",
    "\n",
    "# start training\n",
    "start_time = time.time() #获取开始时间\n",
    "bst = xgb.train(params,dtrain,num_boost_round=num_round)  # 训练模型\n",
    "end_time = time.time() # 获取结束时间\n",
    "print('The training time = {}'.format(end_time - start_time))\n",
    "\n",
    "# get prediction and evaluate\n",
    "ypred = bst.predict(dtest) # 预测\n",
    "accuracy = np.sum(ypred == ytest) / ypred.shape[0]\n",
    "print('Test accuracy = {}'.format(accuracy))\n"
   ]
  },
  {
   "cell_type": "markdown",
   "metadata": {
    "collapsed": true
   },
   "source": [
    " [Xgboost参数](https://github.com/dmlc/xgboost/blob/master/doc/parameter.md)."
   ]
  },
  {
   "cell_type": "markdown",
   "metadata": {},
   "source": [
    "## LightGBM"
   ]
  },
  {
   "cell_type": "markdown",
   "metadata": {},
   "source": [
    "放到最后肯定有一堆优点的：\n",
    "\n",
    "- 更快的训练效率\n",
    "\n",
    "- 低内存使用\n",
    "\n",
    "- 更好的准确率\n",
    "\n",
    "- 支持并行学习\n",
    "\n",
    "- 可处理大规模数据\n",
    "\n",
    "它摒弃了现在大部分GBDT使用的按层生长（level-wise）的决策树生长策略，使用带有深度限制的按叶子生长（leaf-wise）的策略。level-wise过一次数据可以同时分裂同一层的叶子，容易进行多线程优化，也好控制模型复杂度，不容易过拟合。但实际上level-wise是一种低效的算法，因为它不加区分的对待同一层的叶子，带来了很多没必要的开销，因为实际上很多叶子的分裂增益较低，没必要进行搜索和分裂。 \n",
    "\n",
    "Leaf-wise则是一种更为高效的策略，每次从当前所有叶子中，找到分裂增益最大的一个叶子，然后分裂，如此循环。因此同Level-wise相比，在分裂次数相同的情况下，Leaf-wise可以降低更多的误差，得到更好的精度。Leaf-wise的缺点是可能会长出比较深的决策树，产生过拟合。因此LightGBM在Leaf-wise之上增加了一个最大深度的限制，在保证高效率的同时防止过拟合。 \n",
    "\n",
    "<img src=\"https://lightgbm.readthedocs.io/en/latest/_images/level-wise.png\" width=\"400\" height=\"400\" />\n",
    "<img src=\"https://lightgbm.readthedocs.io/en/latest/_images/leaf-wise.png\" width=\"500\" height=\"500\" />\n",
    "\n",
    "\n",
    "\n",
    " [安装指引](https://github.com/Microsoft/LightGBM/tree/master/python-package)\n",
    "pip install lightgbm"
   ]
  },
  {
   "cell_type": "code",
   "execution_count": 21,
   "metadata": {},
   "outputs": [
    {
     "name": "stdout",
     "output_type": "stream",
     "text": [
      "[LightGBM] [Warning] Auto-choosing col-wise multi-threading, the overhead of testing was 0.027883 seconds.\n",
      "You can set `force_col_wise=true` to remove the overhead.\n",
      "[LightGBM] [Info] Total Bins 76486\n",
      "[LightGBM] [Info] Number of data points in the train set: 5000, number of used features: 532\n",
      "[LightGBM] [Info] Start training from score -2.353878\n",
      "[LightGBM] [Info] Start training from score -2.187472\n",
      "[LightGBM] [Info] Start training from score -2.339249\n",
      "[LightGBM] [Info] Start training from score -2.312635\n",
      "[LightGBM] [Info] Start training from score -2.278869\n",
      "[LightGBM] [Info] Start training from score -2.453408\n",
      "[LightGBM] [Info] Start training from score -2.341326\n",
      "[LightGBM] [Info] Start training from score -2.253795\n",
      "[LightGBM] [Info] Start training from score -2.263364\n",
      "[LightGBM] [Info] Start training from score -2.265289\n",
      "[1]\tvalid_0's multi_logloss: 1.72525\n",
      "[2]\tvalid_0's multi_logloss: 1.43237\n",
      "[3]\tvalid_0's multi_logloss: 1.22472\n",
      "[4]\tvalid_0's multi_logloss: 1.06682\n",
      "[5]\tvalid_0's multi_logloss: 0.939923\n",
      "[6]\tvalid_0's multi_logloss: 0.839964\n",
      "[7]\tvalid_0's multi_logloss: 0.75539\n",
      "[8]\tvalid_0's multi_logloss: 0.686533\n",
      "[9]\tvalid_0's multi_logloss: 0.625884\n",
      "[10]\tvalid_0's multi_logloss: 0.571761\n",
      "The training time = 2.252977132797241\n",
      "Test accuracy = 0.921\n"
     ]
    }
   ],
   "source": [
    "import lightgbm as lgb\n",
    "train_data = lgb.Dataset(Xtrain, label=ytrain)  # 将训练集数据放到Dataset中\n",
    "test_data = lgb.Dataset(Xtest, label=ytest) # 将测试集数据放到Dataset中\n",
    "\n",
    "# specify parameters via map\n",
    "params = {\n",
    "    'num_leaves':31,                # Same to max_leaf_nodes in GBDT, but GBDT's default value is None\n",
    "    'max_depth': -1,                # Same to max_depth of xgboost\n",
    "    'tree_learner': 'serial', \n",
    "    'application':'multiclass',     # Same to objective of xgboost\n",
    "    'num_class':10,                 # Same to num_class of xgboost\n",
    "    'learning_rate': 0.1,           # Same to eta of xgboost\n",
    "    'min_split_gain': 0,            # Same to gamma of xgboost\n",
    "    'lambda_l1': 0,                 # Same to alpha of xgboost\n",
    "    'lambda_l2': 0,                 # Same to lambda of xgboost\n",
    "    'min_data_in_leaf': 20,         # Same to min_samples_leaf of GBDT\n",
    "    'bagging_fraction': 1.0,        # Same to subsample of xgboost\n",
    "    'bagging_freq': 0,\n",
    "    'bagging_seed': 0,\n",
    "    'feature_fraction': 1.0,         # Same to colsample_bytree of xgboost\n",
    "    'feature_fraction_seed': 2,\n",
    "    'min_sum_hessian_in_leaf': 1e-3, # Same to min_child_weight of xgboost\n",
    "    'num_threads': 1\n",
    "}\n",
    "num_round = 10\n",
    "\n",
    "# start training\n",
    "start_time = time.time()  # 开始时间\n",
    "bst = lgb.train(params=params,train_set= train_data,valid_sets=test_data,num_boost_round=num_round) # 训练\n",
    "end_time = time.time()  # 结束时间\n",
    "print('The training time = {}'.format(end_time - start_time))\n",
    "\n",
    "# get prediction and evaluate\n",
    "ypred_onehot = bst.predict(Xtest)  # 预测\n",
    "ypred = []\n",
    "for i in range(len(ypred_onehot)):\n",
    "    ypred.append(ypred_onehot[i].argmax())\n",
    "\n",
    "accuracy = np.sum(ypred == ytest) / len(ypred)\n",
    "print('Test accuracy = {}'.format(accuracy))"
   ]
  },
  {
   "cell_type": "markdown",
   "metadata": {},
   "source": [
    " [参数解释](https://github.com/Microsoft/LightGBM/blob/master/docs/Parameters.rst) "
   ]
  },
  {
   "cell_type": "markdown",
   "metadata": {},
   "source": [
    "## 结果对比\n",
    " \n",
    "\n",
    "|          | time(s) | accuracy(%) |\n",
    "|----------|---------|-------------|\n",
    "| GBDT     | 11.98   | 0.825       |\n",
    "| XGBoost  | 13.49   | 0.821       |\n",
    "| LightGBM | 4.89    | 0.902       |\n",
    "\n",
    "\n",
    "\n",
    "http://lightgbm.apachecn.org/cn/latest/Parameters-Tuning.html"
   ]
  },
  {
   "cell_type": "code",
   "execution_count": null,
   "metadata": {},
   "outputs": [],
   "source": []
  }
 ],
 "metadata": {
  "kernelspec": {
   "display_name": "ml37",
   "language": "python",
   "name": "ml37"
  },
  "language_info": {
   "codemirror_mode": {
    "name": "ipython",
    "version": 3
   },
   "file_extension": ".py",
   "mimetype": "text/x-python",
   "name": "python",
   "nbconvert_exporter": "python",
   "pygments_lexer": "ipython3",
   "version": "3.7.10"
  },
  "toc": {
   "base_numbering": 1,
   "nav_menu": {},
   "number_sections": true,
   "sideBar": true,
   "skip_h1_title": false,
   "title_cell": "Table of Contents",
   "title_sidebar": "Contents",
   "toc_cell": false,
   "toc_position": {},
   "toc_section_display": true,
   "toc_window_display": true
  }
 },
 "nbformat": 4,
 "nbformat_minor": 2
}
