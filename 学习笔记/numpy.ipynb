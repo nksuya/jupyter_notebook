{
 "cells": [
  {
   "cell_type": "markdown",
   "id": "f03667f0",
   "metadata": {},
   "source": [
    "# ndarray  \n",
    "ndarray要求所有元素类型相同  \n",
    "创建：  \n",
    "np.array()  \n",
    "np.zeros((2, 3), int)  \n",
    "np.ones((4,2),float)  \n",
    "\n",
    "arr.ndim 秩，也就是维度   \n",
    "arr.shape 每个维度上的大小  \n",
    "arr.dtype 查看数据类型  "
   ]
  },
  {
   "cell_type": "code",
   "execution_count": 21,
   "id": "a0f3e250",
   "metadata": {},
   "outputs": [],
   "source": [
    "import numpy as np"
   ]
  },
  {
   "cell_type": "code",
   "execution_count": 3,
   "id": "52799c9c",
   "metadata": {},
   "outputs": [
    {
     "data": {
      "text/plain": [
       "dtype('int32')"
      ]
     },
     "execution_count": 3,
     "metadata": {},
     "output_type": "execute_result"
    }
   ],
   "source": [
    "a = np.array([1, 2, 3, 4])\n",
    "b = np.array([5, 6, 7, 8])\n",
    "a + b\n",
    "a.dtype"
   ]
  },
  {
   "cell_type": "code",
   "execution_count": 4,
   "id": "b32d2d3b",
   "metadata": {},
   "outputs": [
    {
     "data": {
      "text/plain": [
       "(2, 3)"
      ]
     },
     "execution_count": 4,
     "metadata": {},
     "output_type": "execute_result"
    }
   ],
   "source": [
    "c = np.array([[1, 2, 3], [4, 5, 6]])\n",
    "c.shape"
   ]
  },
  {
   "cell_type": "code",
   "execution_count": 9,
   "id": "89cae972",
   "metadata": {},
   "outputs": [
    {
     "data": {
      "text/plain": [
       "array([[0, 0, 0],\n",
       "       [0, 0, 0]])"
      ]
     },
     "execution_count": 9,
     "metadata": {},
     "output_type": "execute_result"
    }
   ],
   "source": [
    "np.zeros((2, 3), int)"
   ]
  },
  {
   "cell_type": "code",
   "execution_count": 8,
   "id": "379c8336",
   "metadata": {},
   "outputs": [
    {
     "data": {
      "text/plain": [
       "array([[1., 1.],\n",
       "       [1., 1.],\n",
       "       [1., 1.],\n",
       "       [1., 1.]])"
      ]
     },
     "execution_count": 8,
     "metadata": {},
     "output_type": "execute_result"
    }
   ],
   "source": [
    "np.ones((4,2),float)"
   ]
  },
  {
   "cell_type": "code",
   "execution_count": 8,
   "id": "b6372f13",
   "metadata": {
    "scrolled": true
   },
   "outputs": [
    {
     "name": "stdout",
     "output_type": "stream",
     "text": [
      "(1, 3, 2)\n"
     ]
    },
    {
     "data": {
      "text/plain": [
       "array([[[1, 2],\n",
       "        [3, 4],\n",
       "        [5, 6]]])"
      ]
     },
     "execution_count": 8,
     "metadata": {},
     "output_type": "execute_result"
    }
   ],
   "source": [
    "c = np.array([[[1, 2], [3, 4], [5, 6]]])\n",
    "print(c.shape)\n",
    "c"
   ]
  },
  {
   "cell_type": "code",
   "execution_count": 5,
   "id": "8907563e",
   "metadata": {
    "scrolled": true
   },
   "outputs": [
    {
     "data": {
      "text/plain": [
       "array([False,  True,  True, False])"
      ]
     },
     "execution_count": 5,
     "metadata": {},
     "output_type": "execute_result"
    }
   ],
   "source": [
    "a = np.array([1, 22, 55, 34])\n",
    "b = np.array([35, 2, 25, 84])\n",
    "c = a > b\n",
    "c"
   ]
  },
  {
   "cell_type": "markdown",
   "id": "a62bbbfa",
   "metadata": {},
   "source": [
    "# Lists vs. vectors (arrays)\n",
    "In signal processing, vectors are often used instead of lists to store the signal values, because they are more efficient and allow to do some cool stuff with it"
   ]
  },
  {
   "cell_type": "code",
   "execution_count": 13,
   "id": "30d8c816",
   "metadata": {},
   "outputs": [
    {
     "name": "stdout",
     "output_type": "stream",
     "text": [
      "[2 3 4]\n",
      "<class 'numpy.ndarray'>\n"
     ]
    }
   ],
   "source": [
    "myvector = np.array([1, 2, 3])\n",
    "myvector = myvector + 1\n",
    "print(myvector)\n",
    "print(type(myvector))"
   ]
  },
  {
   "cell_type": "markdown",
   "id": "aca931dc",
   "metadata": {},
   "source": [
    "# ndarray 按条件索引  布尔索引"
   ]
  },
  {
   "cell_type": "code",
   "execution_count": 14,
   "id": "0c714838",
   "metadata": {},
   "outputs": [
    {
     "name": "stdout",
     "output_type": "stream",
     "text": [
      "[ True  True False  True  True]\n"
     ]
    }
   ],
   "source": [
    "# 按条件索引\n",
    "myvector = np.array([1, 2, 3, 2, 1])\n",
    "vector_of_bools = myvector <= 2  # <= means inferior OR equal\n",
    "print(vector_of_bools)"
   ]
  },
  {
   "cell_type": "code",
   "execution_count": 17,
   "id": "9aaaf6c5",
   "metadata": {},
   "outputs": [
    {
     "name": "stdout",
     "output_type": "stream",
     "text": [
      "[1 2 2 1]\n"
     ]
    }
   ],
   "source": [
    "#  And this new vector can be used as a mask to index and subset the original vector.\n",
    "myvector = np.array([1, 2, 3, 2, 1])\n",
    "mask = myvector <= 2\n",
    "subset = myvector[mask]\n",
    "print(subset)"
   ]
  },
  {
   "cell_type": "code",
   "execution_count": 18,
   "id": "648f4a5b",
   "metadata": {},
   "outputs": [
    {
     "name": "stdout",
     "output_type": "stream",
     "text": [
      "[6 6 3 6 6]\n"
     ]
    }
   ],
   "source": [
    "# Additionaly, we can also modify a subset of values on the fly:\n",
    "# 按条件查找替换值\n",
    "myvector = np.array([1, 2, 3, 2, 1])\n",
    "myvector[myvector <= 2] = 6\n",
    "print(myvector)"
   ]
  },
  {
   "cell_type": "code",
   "execution_count": 25,
   "id": "51db13b6",
   "metadata": {},
   "outputs": [
    {
     "name": "stdout",
     "output_type": "stream",
     "text": [
      "[0 1 2 3 4 5 6 7 8 9]\n",
      "[False False False False False False  True  True  True  True]\n",
      "[6 7 8 9]\n"
     ]
    }
   ],
   "source": [
    "# 按索引取值\n",
    "a = np.array(range(10))\n",
    "print(a)\n",
    "idcs = np.logical_and(a > 5, a < len(a))\n",
    "print(idcs)\n",
    "print(a[idcs])"
   ]
  },
  {
   "cell_type": "markdown",
   "id": "cc575453",
   "metadata": {},
   "source": [
    "# numpy.linspace() 返回等差数列"
   ]
  },
  {
   "cell_type": "code",
   "execution_count": 20,
   "id": "d42602b9",
   "metadata": {},
   "outputs": [
    {
     "data": {
      "text/plain": [
       "array([ 0.        ,  0.52631579,  1.05263158,  1.57894737,  2.10526316,\n",
       "        2.63157895,  3.15789474,  3.68421053,  4.21052632,  4.73684211,\n",
       "        5.26315789,  5.78947368,  6.31578947,  6.84210526,  7.36842105,\n",
       "        7.89473684,  8.42105263,  8.94736842,  9.47368421, 10.        ])"
      ]
     },
     "execution_count": 20,
     "metadata": {},
     "output_type": "execute_result"
    }
   ],
   "source": [
    "np.linspace(0, 10, 20)"
   ]
  },
  {
   "cell_type": "markdown",
   "id": "9ce7997d",
   "metadata": {},
   "source": [
    "# numpy.poly1d()\n",
    "　参数1：为一个数组，若没有参数2，则生成一个多项式，例如：  \n",
    "\n",
    "　　　　　　p = np.poly1d([2,3,5,7])    \n",
    "\n",
    "　　　　　　print(p)    ==>>2x3 + 3x2 + 5x + 7    数组中的数值为coefficient（系数），从后往前 0，1，2.。。为位置书的次数\n",
    "\n",
    "       参数2：若参数2为True，则表示把数组中的值作为根，然后反推多项式，例如：\n",
    "\n",
    "　　　　　　q = np.poly1d([2,3,5],True)\n",
    "\n",
    "　　　　　　print(q)   ===>>(x - 2)*(x - 3)*(x - 5)  = x3 - 10x2 + 31x -30\n",
    "\n",
    "　　参数3：variable=‘z’表示改变未知数的字母，例如：\n",
    "\n",
    "　　　　　　q = np.poly1d([2,3,5],True,varibale = 'z')\n",
    "\n",
    "　　　　　　print(q)   ===>>(z - 2)*(z - 3)*(z - 5)  = z3 - 10z2 + 31z -30"
   ]
  },
  {
   "cell_type": "markdown",
   "id": "9fb39323",
   "metadata": {},
   "source": [
    "# polyfit()多项式拟合"
   ]
  },
  {
   "cell_type": "code",
   "execution_count": 22,
   "id": "eda15b4a",
   "metadata": {
    "scrolled": true
   },
   "outputs": [
    {
     "name": "stdout",
     "output_type": "stream",
     "text": [
      "[1.         1.49333333]\n",
      " \n",
      "1 x + 1.493\n"
     ]
    }
   ],
   "source": [
    "import numpy as np\n",
    "\n",
    "X = [1, 2, 3, 4, 5, 6]\n",
    "Y = [2.5, 3.51, 4.45, 5.52, 6.47, 7.51]\n",
    "z1 = np.polyfit(X, Y, 1)  # 一次多项式拟合，相当于线性拟合\n",
    "p1 = np.poly1d(z1)\n",
    "print(z1)\n",
    "print(p1)  # 指数输出时没显示"
   ]
  },
  {
   "cell_type": "markdown",
   "id": "4280d51e",
   "metadata": {},
   "source": [
    "# 绘制函数"
   ]
  },
  {
   "cell_type": "code",
   "execution_count": 23,
   "id": "db5328ba",
   "metadata": {},
   "outputs": [
    {
     "data": {
      "image/png": "[encoded data removed]",
      "text/plain": [
       "<Figure size 432x288 with 1 Axes>"
      ]
     },
     "metadata": {
      "needs_background": "light"
     },
     "output_type": "display_data"
    }
   ],
   "source": [
    "import numpy as np\n",
    "import matplotlib.pyplot as plt\n",
    "\n",
    "\n",
    "def f(x):\n",
    "    y = -x**2 + x * 4 + 99\n",
    "    return y\n",
    "\n",
    "\n",
    "x = np.linspace(0, 100)\n",
    "plt.plot(x, f(x))\n",
    "plt.show()"
   ]
  },
  {
   "cell_type": "markdown",
   "id": "331f734f",
   "metadata": {},
   "source": [
    "# np.concatenate()\n",
    "多个数组拼接 numpy.concatenate((a1,a2,...), axis=0)"
   ]
  },
  {
   "cell_type": "code",
   "execution_count": 25,
   "id": "428e537f",
   "metadata": {},
   "outputs": [
    {
     "data": {
      "text/plain": [
       "array([[ 1,  2,  3],\n",
       "       [ 4,  5,  6],\n",
       "       [11, 21, 31],\n",
       "       [ 7,  8,  9]])"
      ]
     },
     "execution_count": 25,
     "metadata": {},
     "output_type": "execute_result"
    }
   ],
   "source": [
    "a = np.array([[1, 2, 3], [4, 5, 6]])\n",
    "b = np.array([[11, 21, 31], [7, 8, 9]])\n",
    "np.concatenate((a, b), axis=0)"
   ]
  },
  {
   "cell_type": "code",
   "execution_count": 26,
   "id": "e2daa889",
   "metadata": {},
   "outputs": [
    {
     "data": {
      "text/plain": [
       "array([[ 1,  2,  3, 11, 21, 31],\n",
       "       [ 4,  5,  6,  7,  8,  9]])"
      ]
     },
     "execution_count": 26,
     "metadata": {},
     "output_type": "execute_result"
    }
   ],
   "source": [
    "np.concatenate((a, b), axis=1)"
   ]
  },
  {
   "cell_type": "markdown",
   "id": "aaf3e31a",
   "metadata": {},
   "source": [
    "# np.argmin()\n",
    "返回最小值的下标，会将数组展平。"
   ]
  },
  {
   "cell_type": "code",
   "execution_count": 31,
   "id": "ae65b319",
   "metadata": {},
   "outputs": [
    {
     "name": "stdout",
     "output_type": "stream",
     "text": [
      "2\n",
      "2\n",
      "3\n",
      "3\n"
     ]
    }
   ],
   "source": [
    "a = [6, 3, 2, 99, 5]\n",
    "print(np.argmin(a))\n",
    "\n",
    "np.array(a)\n",
    "print(np.argmin(a))\n",
    "\n",
    "b = [[367, 5, 53], [4, 67, 34]]\n",
    "print(np.argmin(b))\n",
    "\n",
    "np.array(b)\n",
    "print(np.argmin(b))"
   ]
  },
  {
   "cell_type": "markdown",
   "id": "b6044f17",
   "metadata": {},
   "source": [
    "# np.asarray() \n",
    "与np.array()区别：  \n",
    "np.array（默认情况下）将会copy该对象，而 np.asarray除非必要，否则不会copy该对象。  "
   ]
  },
  {
   "cell_type": "code",
   "execution_count": 34,
   "id": "7d179996",
   "metadata": {},
   "outputs": [
    {
     "name": "stdout",
     "output_type": "stream",
     "text": [
      "[1 2]\n",
      "[1, 2]\n",
      "True\n",
      "True\n",
      "False\n"
     ]
    }
   ],
   "source": [
    "# 将list转换为ndarray\n",
    "a = [1, 2]\n",
    "print(np.asarray(a))  # array([1, 2])\n",
    "\n",
    "# 将ndarray转换为list\n",
    "print(list(a))  # [1, 2]\n",
    "\n",
    "# 如果对象本身即为ndarray，且不改变dtype，则不会copy之\n",
    "a = np.array([1, 2])\n",
    "print(np.asarray(a) is a)  # True\n",
    "\n",
    "# 如果对象本身即为ndarray，且改变dtype，则还是会copy之\n",
    "a = np.array([1, 2], dtype=np.float32)\n",
    "print(np.asarray(a, dtype=np.float32) is a)  # True\n",
    "print(np.asarray(a, dtype=np.float64) is a)  # False"
   ]
  },
  {
   "cell_type": "markdown",
   "id": "3332ebe5",
   "metadata": {},
   "source": [
    "# np.diff()\n",
    "沿着指定轴计算第N维的离散差值"
   ]
  },
  {
   "cell_type": "code",
   "execution_count": 37,
   "id": "0cee9435",
   "metadata": {},
   "outputs": [
    {
     "name": "stdout",
     "output_type": "stream",
     "text": [
      "[2 1 2]\n"
     ]
    }
   ],
   "source": [
    "a = np.array([3, 5, 6, 8])\n",
    "np.diff(a)"
   ]
  },
  {
   "cell_type": "code",
   "execution_count": 44,
   "id": "17bd1a3b",
   "metadata": {},
   "outputs": [
    {
     "data": {
      "text/plain": [
       "array([[  2,   1,   2],\n",
       "       [-40,   2,  -5]])"
      ]
     },
     "execution_count": 44,
     "metadata": {},
     "output_type": "execute_result"
    }
   ],
   "source": [
    "a = np.array([[3, 5, 6, 8], [46, 6, 8, 3]])\n",
    "np.diff(a)  # 默认最后一个轴，axis = -1"
   ]
  },
  {
   "cell_type": "code",
   "execution_count": 46,
   "id": "662aa242",
   "metadata": {
    "scrolled": true
   },
   "outputs": [
    {
     "data": {
      "text/plain": [
       "array([[43,  1,  2, -5]])"
      ]
     },
     "execution_count": 46,
     "metadata": {},
     "output_type": "execute_result"
    }
   ],
   "source": [
    "np.diff(a, axis=0)"
   ]
  },
  {
   "cell_type": "markdown",
   "id": "9ad69ff0",
   "metadata": {},
   "source": [
    "# np.ediff1d\n",
    "ary.flat\\[1:\\] - ary.flat\\[:-1\\]  \n",
    "to_begin 加在返回值前面的数，to_end 加在返回值后面的数。"
   ]
  },
  {
   "cell_type": "markdown",
   "id": "f49874f4",
   "metadata": {},
   "source": [
    "# np.median()"
   ]
  },
  {
   "cell_type": "code",
   "execution_count": 53,
   "id": "ed16632a",
   "metadata": {},
   "outputs": [
    {
     "data": {
      "text/plain": [
       "3.5"
      ]
     },
     "execution_count": 53,
     "metadata": {},
     "output_type": "execute_result"
    }
   ],
   "source": [
    "a = np.array([[10, 7, 4], [3, 2, 1]])\n",
    "np.median(a)"
   ]
  },
  {
   "cell_type": "code",
   "execution_count": 52,
   "id": "9c15e448",
   "metadata": {},
   "outputs": [
    {
     "data": {
      "text/plain": [
       "array([ 7.,  2., 15.])"
      ]
     },
     "execution_count": 52,
     "metadata": {},
     "output_type": "execute_result"
    }
   ],
   "source": [
    "a = np.array([[10, 7, 4], [3, 2, 1], [6, 25, 15]])\n",
    "np.median(a, axis=1)"
   ]
  },
  {
   "cell_type": "markdown",
   "id": "008af227",
   "metadata": {},
   "source": [
    "# np.gradient()\n",
    "计算梯度.  \n",
    "#一维数组：存在俩侧值 斜率=（右侧值-左侧值）/ 2  \n",
    "只存在一侧值 斜率=（本身-左侧值） 或者 （右侧值-本身）  \n",
    "\n",
    "一阶导数的3种近似：前向差分，后向差分，中心差分  \n",
    "<span class=\"mark\">结论就是从误差的角度来看，forward，backward是一样的，但是central最好，因此结论就是“尽量使用central”It is best to use central differences whenever possible</span>"
   ]
  },
  {
   "cell_type": "code",
   "execution_count": 35,
   "id": "04162b5b",
   "metadata": {},
   "outputs": [
    {
     "data": {
      "text/plain": [
       "array([1. , 1.5, 2.5, 3.5, 4.5, 5. ])"
      ]
     },
     "execution_count": 35,
     "metadata": {},
     "output_type": "execute_result"
    }
   ],
   "source": [
    "f = np.array([1, 2, 4, 7, 11, 16], dtype=float)\n",
    "np.gradient(f)"
   ]
  },
  {
   "cell_type": "code",
   "execution_count": 36,
   "id": "71b36e8d",
   "metadata": {},
   "outputs": [
    {
     "data": {
      "text/plain": [
       "array([0.33333333, 0.5       , 0.83333333, 1.16666667, 1.5       ,\n",
       "       1.66666667])"
      ]
     },
     "execution_count": 36,
     "metadata": {},
     "output_type": "execute_result"
    }
   ],
   "source": [
    "np.gradient(f,3)"
   ]
  },
  {
   "cell_type": "markdown",
   "id": "8e50697c",
   "metadata": {},
   "source": [
    "# np.abs()"
   ]
  },
  {
   "cell_type": "code",
   "execution_count": 6,
   "id": "58f3b1f1",
   "metadata": {},
   "outputs": [
    {
     "data": {
      "text/plain": [
       "array([[ 1,  2, 54]])"
      ]
     },
     "execution_count": 6,
     "metadata": {},
     "output_type": "execute_result"
    }
   ],
   "source": [
    "a = np.array([[-1, 2, -54]])\n",
    "np.abs(a)"
   ]
  },
  {
   "cell_type": "code",
   "execution_count": 7,
   "id": "93df92e8",
   "metadata": {},
   "outputs": [
    {
     "data": {
      "text/plain": [
       "array([[ 1,  2, 54]])"
      ]
     },
     "execution_count": 7,
     "metadata": {},
     "output_type": "execute_result"
    }
   ],
   "source": [
    "np.absolute(a)"
   ]
  },
  {
   "cell_type": "markdown",
   "id": "2901e81d",
   "metadata": {},
   "source": [
    "# np.convolve()\n",
    "np.convolve(a,v,mode='full')  \n",
    "<span class=\"mark\">Note how the convolution operator flips the second array before “sliding” the two across one another</span>  \n",
    "<span class=\"mark\">第二个array在计算之前会先进行翻转！！</span> \n",
    "\n",
    "mode:   \n",
    "full 完全卷积，卷积核数组必须有一个元素与原数组配对  \n",
    "same 同维卷积，卷积核中间的元素与原数组配对  \n",
    "valid 有效卷积，卷积核全部与原数组配对   "
   ]
  },
  {
   "cell_type": "code",
   "execution_count": 25,
   "id": "ce3f2e4b",
   "metadata": {},
   "outputs": [
    {
     "name": "stdout",
     "output_type": "stream",
     "text": [
      "[ 8 23 44 65 86 59 30]\n",
      "[23 44 65 86 59]\n",
      "[44 65 86]\n"
     ]
    }
   ],
   "source": [
    "a = [1, 2, 3, 4, 5]\n",
    "b = [8, 7, 6]\n",
    "print(np.convolve(a, b, 'full'))\n",
    "print(np.convolve(a, b, 'same'))\n",
    "print(np.convolve(a, b, 'valid'))"
   ]
  },
  {
   "cell_type": "code",
   "execution_count": 1,
   "id": "67e306ed",
   "metadata": {
    "scrolled": false
   },
   "outputs": [
    {
     "data": {
      "text/html": [
       "<img src='../img/convolve_example.png', width=400, height=80>\n"
      ],
      "text/plain": [
       "<IPython.core.display.HTML object>"
      ]
     },
     "metadata": {},
     "output_type": "display_data"
    }
   ],
   "source": [
    "%%html  \n",
    "<img src='../img/convolve_example.png', width=400, height=80>"
   ]
  },
  {
   "cell_type": "markdown",
   "id": "5e84eea4",
   "metadata": {},
   "source": [
    "# range() 和 np.arrange()"
   ]
  },
  {
   "cell_type": "code",
   "execution_count": 7,
   "id": "c3d9312d",
   "metadata": {
    "scrolled": true
   },
   "outputs": [
    {
     "data": {
      "text/plain": [
       "range(0, 10)"
      ]
     },
     "execution_count": 7,
     "metadata": {},
     "output_type": "execute_result"
    }
   ],
   "source": [
    "range(10)"
   ]
  },
  {
   "cell_type": "code",
   "execution_count": 11,
   "id": "48338b34",
   "metadata": {},
   "outputs": [
    {
     "data": {
      "text/plain": [
       "array([0. , 1.5, 3. , 4.5, 6. , 7.5, 9. ])"
      ]
     },
     "execution_count": 11,
     "metadata": {},
     "output_type": "execute_result"
    }
   ],
   "source": [
    "np.arange(0,10,1.5)"
   ]
  },
  {
   "cell_type": "markdown",
   "id": "9f73fbf1",
   "metadata": {},
   "source": [
    "# astype(type)\n",
    "改变整个array的数据类型。"
   ]
  },
  {
   "cell_type": "code",
   "execution_count": 46,
   "id": "4a6983b1",
   "metadata": {},
   "outputs": [
    {
     "name": "stdout",
     "output_type": "stream",
     "text": [
      "['1.3' '34.6' '676.4']\n",
      "<U5\n"
     ]
    },
    {
     "data": {
      "text/plain": [
       "array([  1.3,  34.6, 676.5], dtype=float16)"
      ]
     },
     "execution_count": 46,
     "metadata": {},
     "output_type": "execute_result"
    }
   ],
   "source": [
    "a = np.array(['1.3', '34.6', '676.4'])\n",
    "print(a)\n",
    "print(a.dtype)\n",
    "b = a.astype(np.float16)\n",
    "b"
   ]
  },
  {
   "cell_type": "code",
   "execution_count": 8,
   "id": "c3672526",
   "metadata": {},
   "outputs": [
    {
     "data": {
      "text/plain": [
       "array(['AAAAAAAAAAAA'], dtype='<U12')"
      ]
     },
     "execution_count": 8,
     "metadata": {},
     "output_type": "execute_result"
    }
   ],
   "source": [
    "a = np.array(['A' * 12])  # dtype='<U12'是numpy中表示长度为12位的unicode类型数据。\n",
    "a"
   ]
  },
  {
   "cell_type": "code",
   "execution_count": 2,
   "id": "6665491c",
   "metadata": {},
   "outputs": [
    {
     "name": "stdout",
     "output_type": "stream",
     "text": [
      "[ True  True False  True  True]\n"
     ]
    }
   ],
   "source": [
    "import numpy as np\n",
    "\n",
    "myvector = np.array([1, 2, 3, 2, 1])\n",
    "vector_of_bools = myvector <= 2  # <= means inferior OR equal\n",
    "print(vector_of_bools)"
   ]
  },
  {
   "cell_type": "markdown",
   "id": "cfccdcb3",
   "metadata": {},
   "source": [
    "#  np.where(condition[, x, y])\n",
    "满足条件输出x，不满足输出y"
   ]
  },
  {
   "cell_type": "code",
   "execution_count": 54,
   "id": "15a5e667",
   "metadata": {},
   "outputs": [
    {
     "name": "stdout",
     "output_type": "stream",
     "text": [
      "[ 3  4  5  6  7  8  9 10 11 12]\n"
     ]
    },
    {
     "data": {
      "text/plain": [
       "(array([0, 1], dtype=int64),)"
      ]
     },
     "execution_count": 54,
     "metadata": {},
     "output_type": "execute_result"
    }
   ],
   "source": [
    "import numpy as np\n",
    "\n",
    "a = np.arange(10)\n",
    "a = a + 3\n",
    "print(a)\n",
    "np.where(a < 5, a, a * 10)\n",
    "np.where(a < 5)"
   ]
  },
  {
   "cell_type": "markdown",
   "id": "5ca08dd5",
   "metadata": {},
   "source": [
    "# np.pad()\n",
    "pad_width是在各维度的各个方向上想要填补的长度,如（（1，2），（2，2）），表示在第一个维度上水平方向上padding=1,垂直方向上padding=2,在第二个维度上水平方向上padding=2,垂直方向上padding=2。如果直接输入一个整数，则说明各个维度和各个方向所填补的长度都一样。  \n",
    "\n",
    "- 参数mode：  \n",
    "‘constant’——表示连续填充相同的值，每个轴可以分别指定填充值，constant_values=（x, y）时前面用x填充，后面用y填充，缺省值填充0  \n",
    "‘edge’——表示用边缘值填充  \n",
    "‘linear_ramp’——表示用边缘递减的方式填充  \n",
    "‘maximum’——表示最大值填充  \n",
    "‘mean’——表示均值填充  \n",
    "‘median’——表示中位数填充  \n",
    "‘minimum’——表示最小值填充  \n",
    "‘reflect’——表示对称填充  \n",
    "‘symmetric’——表示对称填充  \n",
    "‘wrap’——表示用原数组后面的值填充前面，前面的值填充后面  "
   ]
  },
  {
   "cell_type": "markdown",
   "id": "0ce4c79d",
   "metadata": {},
   "source": [
    "# np._s\n",
    "**slice** arr_name\\[start: end: step\\]  不包括停止索引  "
   ]
  },
  {
   "cell_type": "code",
   "execution_count": 4,
   "id": "d4f74951",
   "metadata": {},
   "outputs": [
    {
     "name": "stdout",
     "output_type": "stream",
     "text": [
      "[2 4 6]\n"
     ]
    }
   ],
   "source": [
    "a = np.arange(10)\n",
    "s = slice(2,7,2)   # 从索引 2 开始到索引 7 停止，间隔为2\n",
    "print (a[s])"
   ]
  },
  {
   "cell_type": "code",
   "execution_count": 3,
   "id": "c7ab85b8",
   "metadata": {
    "scrolled": true
   },
   "outputs": [
    {
     "data": {
      "text/plain": [
       "slice(2, None, 2)"
      ]
     },
     "execution_count": 3,
     "metadata": {},
     "output_type": "execute_result"
    }
   ],
   "source": [
    "np.s_[2::2]"
   ]
  },
  {
   "cell_type": "markdown",
   "id": "226e7cc4",
   "metadata": {},
   "source": [
    "#  np.delete(arr, obj, axis=None)\n",
    "array:需要处理的矩阵  \n",
    "obj:需要处理的位置  \n",
    "axis:  \n",
    "    如果输入为0：按行删除  \n",
    "    如果输入为1：按列删除  \n",
    "    为None: applied to the flattened array."
   ]
  },
  {
   "cell_type": "code",
   "execution_count": 6,
   "id": "8f490c70",
   "metadata": {},
   "outputs": [
    {
     "name": "stdout",
     "output_type": "stream",
     "text": [
      "[[ 1  2  3  4]\n",
      " [ 5  6  7  8]\n",
      " [ 9 10 11 12]]\n"
     ]
    },
    {
     "data": {
      "text/plain": [
       "array([ 1,  3,  5,  7,  8,  9, 10, 11, 12])"
      ]
     },
     "execution_count": 6,
     "metadata": {},
     "output_type": "execute_result"
    }
   ],
   "source": [
    "arr = np.array([[1,2,3,4], [5,6,7,8], [9,10,11,12]])\n",
    "print(arr)\n",
    "np.delete(arr, [1,3,5], None)"
   ]
  },
  {
   "cell_type": "markdown",
   "id": "a8fcbc45",
   "metadata": {},
   "source": [
    "#  np.insert(arr, obj, values, axis=None)"
   ]
  },
  {
   "cell_type": "code",
   "execution_count": 11,
   "id": "ea2ee16b",
   "metadata": {},
   "outputs": [
    {
     "name": "stdout",
     "output_type": "stream",
     "text": [
      "[[1 2]\n",
      " [3 4]\n",
      " [5 6]]\n"
     ]
    },
    {
     "data": {
      "text/plain": [
       "array([1, 2, 6, 2, 3, 4, 5, 6])"
      ]
     },
     "execution_count": 11,
     "metadata": {},
     "output_type": "execute_result"
    }
   ],
   "source": [
    "a = np.array([[1,2],[3,4],[5,6]])\n",
    "print(a)\n",
    "np.insert(a,1,11,axis = 1)\n",
    "np.insert(a,1,[2,6],axis = 0)\n",
    "np.insert(a,1,[2,6])"
   ]
  },
  {
   "cell_type": "markdown",
   "id": "ec4a60dc",
   "metadata": {},
   "source": [
    "# np.logical_and(x1, x2, *args, **kwargs)   \n",
    "\n",
    "x1、 x2 是列表、数组一类的可以转换成 array 结构的数据容器。  \n",
    "x1、x2 的形状大小需相同。  \n",
    "x1、x2 的数据类型需是 int、float, bool。  \n",
    "返回的结果是有 True 或 False 组成的形状和 x1、x2 相同的 Numpy 数组。  "
   ]
  },
  {
   "cell_type": "code",
   "execution_count": 21,
   "id": "ca9b6408",
   "metadata": {
    "scrolled": true
   },
   "outputs": [
    {
     "data": {
      "text/plain": [
       "array([ True, False])"
      ]
     },
     "execution_count": 21,
     "metadata": {},
     "output_type": "execute_result"
    }
   ],
   "source": [
    "np.logical_and(True, False)\n",
    "np.logical_and([True, False], [True, False])\n",
    "np.logical_and((True, False), (True, False))\n",
    "np.logical_and([54,0],[6,1])"
   ]
  },
  {
   "cell_type": "markdown",
   "id": "55515685",
   "metadata": {},
   "source": [
    "# 花式索引：通过整型数组进行索引\n",
    "记住：花式索引跟切片不一样，它总是将数据复制到新数组中。"
   ]
  },
  {
   "cell_type": "code",
   "execution_count": 44,
   "id": "e4b74682",
   "metadata": {
    "scrolled": true
   },
   "outputs": [
    {
     "name": "stdout",
     "output_type": "stream",
     "text": [
      "[[ 0  1  2  3  4]\n",
      " [ 5  6  7  8  9]\n",
      " [10 11 12 13 14]\n",
      " [15 16 17 18 19]\n",
      " [20 21 22 23 24]]\n"
     ]
    },
    {
     "data": {
      "text/plain": [
       "array([ 1, 11])"
      ]
     },
     "execution_count": 44,
     "metadata": {},
     "output_type": "execute_result"
    }
   ],
   "source": [
    "# a = np.array(range(25))\n",
    "# a = a.reshape(5, 5)\n",
    "# 上面两句写法太繁琐了，用下面一句\n",
    "a = np.arange(25).reshape(5, 5)\n",
    "print(a)\n",
    "\n",
    "# 索引单行或者单个值\n",
    "a[0]\n",
    "a[0,3]\n",
    "\n",
    "# 花式索引：通过整型数组进行索引\n",
    "a[[2, 3, 0]]\n",
    "a[[0,2],[1,1]]"
   ]
  },
  {
   "cell_type": "markdown",
   "id": "40340943",
   "metadata": {},
   "source": [
    "# np.rint\n",
    "四舍五入到最接近的整数"
   ]
  },
  {
   "cell_type": "code",
   "execution_count": 45,
   "id": "ec8ac44b",
   "metadata": {
    "scrolled": true
   },
   "outputs": [
    {
     "name": "stdout",
     "output_type": "stream",
     "text": [
      "[-2. -2. -0.  0.  2.  2.  2.]\n"
     ]
    },
    {
     "data": {
      "text/plain": [
       "numpy.float64"
      ]
     },
     "execution_count": 45,
     "metadata": {},
     "output_type": "execute_result"
    }
   ],
   "source": [
    "print(np.rint([-1.7, -1.5, -0.2, 0.2, 1.5, 1.7, 2.0]))\n",
    "type(np.rint(5.5))"
   ]
  },
  {
   "cell_type": "markdown",
   "id": "7e792f8a",
   "metadata": {},
   "source": [
    "# ndarray.tolist()\n",
    "For a 1D array, <span class=\"burk\">a.tolist()</span> is almost the same as <span class=\"burk\">list(a)</span>, except that tolist changes numpy scalars to Python scalars:"
   ]
  },
  {
   "cell_type": "code",
   "execution_count": 5,
   "id": "032e13fb",
   "metadata": {},
   "outputs": [
    {
     "name": "stdout",
     "output_type": "stream",
     "text": [
      "[1, 2]\n",
      "<class 'numpy.uint32'>\n",
      "[1, 2]\n",
      "<class 'int'>\n"
     ]
    }
   ],
   "source": [
    "a = np.uint32([1, 2])\n",
    "a_list = list(a)\n",
    "print(a_list)\n",
    "print(type(a_list[0]))\n",
    "\n",
    "a_tolist=a.tolist()\n",
    "print(a_tolist)\n",
    "print(type(a_tolist[0]))"
   ]
  },
  {
   "cell_type": "markdown",
   "id": "e01d4730",
   "metadata": {},
   "source": [
    "# np.random.shuffle\n",
    "实验可得每次shuffle后数据都被打乱，这个方法可以在机器学习训练的时候在每个epoch结束后将数据重新洗牌进入下一个epoch的学习.  \n",
    "多维度的话只沿着第一个维度shuffle。"
   ]
  },
  {
   "cell_type": "code",
   "execution_count": 7,
   "id": "51d7e972",
   "metadata": {},
   "outputs": [
    {
     "name": "stdout",
     "output_type": "stream",
     "text": [
      "[0 1 2 3 4 5 6 7 8 9]\n",
      "[1 7 6 2 0 3 5 9 8 4]\n",
      "[4 1 8 6 5 2 7 9 0 3]\n",
      "[7 3 1 8 0 4 5 9 6 2]\n",
      "\n",
      "[[0 1 2]\n",
      " [3 4 5]\n",
      " [6 7 8]]\n",
      "[[6 7 8]\n",
      " [0 1 2]\n",
      " [3 4 5]]\n",
      "[[0 1 2]\n",
      " [3 4 5]\n",
      " [6 7 8]]\n",
      "[[0 1 2]\n",
      " [6 7 8]\n",
      " [3 4 5]]\n"
     ]
    }
   ],
   "source": [
    "num = np.arange(10)\n",
    "print(num)\n",
    "np.random.shuffle(num)\n",
    "print(num)\n",
    "np.random.shuffle(num)\n",
    "print(num)\n",
    "np.random.shuffle(num)\n",
    "print(num)\n",
    "print('')\n",
    "\n",
    "# Multi-dimensional arrays are only shuffled along the first axis:\n",
    "arr = np.arange(9).reshape((3, 3))\n",
    "print(arr)\n",
    "np.random.shuffle(arr)\n",
    "print(arr)\n",
    "np.random.shuffle(arr)\n",
    "print(arr)\n",
    "np.random.shuffle(arr)\n",
    "print(arr)"
   ]
  },
  {
   "cell_type": "markdown",
   "id": "12123701",
   "metadata": {},
   "source": [
    "# np.expand_dims\n",
    "作用是通过在指定位置插入新的轴来扩展数组形状"
   ]
  },
  {
   "cell_type": "code",
   "execution_count": 13,
   "id": "207e55af",
   "metadata": {},
   "outputs": [
    {
     "name": "stdout",
     "output_type": "stream",
     "text": [
      "[1 2]\n",
      "[[1]\n",
      " [2]]\n"
     ]
    },
    {
     "data": {
      "text/plain": [
       "(2, 1)"
      ]
     },
     "execution_count": 13,
     "metadata": {},
     "output_type": "execute_result"
    }
   ],
   "source": [
    "x = np.array([1, 2])\n",
    "print(x)\n",
    "\n",
    "y = np.expand_dims(x, axis=1)\n",
    "print(y)\n",
    "y.shape"
   ]
  },
  {
   "cell_type": "markdown",
   "id": "1759ff77",
   "metadata": {},
   "source": [
    "#  np.tile()\n",
    "https://www.jianshu.com/p/9519f1984c70   \n",
    "将矩阵铺开，横向或者纵向地复制。"
   ]
  },
  {
   "cell_type": "markdown",
   "id": "c26215ea",
   "metadata": {},
   "source": [
    "# np.newaxis  \n",
    "None的别名，用于增加维度。"
   ]
  },
  {
   "cell_type": "code",
   "execution_count": 1,
   "id": "1293882f",
   "metadata": {
    "scrolled": true
   },
   "outputs": [
    {
     "data": {
      "text/plain": [
       "True"
      ]
     },
     "execution_count": 1,
     "metadata": {},
     "output_type": "execute_result"
    }
   ],
   "source": [
    "import numpy as np\n",
    "np.newaxis is None"
   ]
  },
  {
   "cell_type": "code",
   "execution_count": 4,
   "id": "71905acf",
   "metadata": {},
   "outputs": [
    {
     "data": {
      "text/plain": [
       "array([0, 1, 2])"
      ]
     },
     "execution_count": 4,
     "metadata": {},
     "output_type": "execute_result"
    }
   ],
   "source": [
    "x=np.arange(3)\n",
    "x"
   ]
  },
  {
   "cell_type": "code",
   "execution_count": 5,
   "id": "e80ae88c",
   "metadata": {},
   "outputs": [
    {
     "data": {
      "text/plain": [
       "array([[0],\n",
       "       [1],\n",
       "       [2]])"
      ]
     },
     "execution_count": 5,
     "metadata": {},
     "output_type": "execute_result"
    }
   ],
   "source": [
    "x[:,np.newaxis]"
   ]
  },
  {
   "cell_type": "code",
   "execution_count": 6,
   "id": "fd8d0e88",
   "metadata": {
    "scrolled": true
   },
   "outputs": [
    {
     "data": {
      "text/plain": [
       "array([[[0]],\n",
       "\n",
       "       [[1]],\n",
       "\n",
       "       [[2]]])"
      ]
     },
     "execution_count": 6,
     "metadata": {},
     "output_type": "execute_result"
    }
   ],
   "source": [
    "x[:,np.newaxis,np.newaxis]"
   ]
  },
  {
   "cell_type": "markdown",
   "id": "0acc23ed",
   "metadata": {},
   "source": [
    "# numpy 三个点的使用[...]"
   ]
  },
  {
   "cell_type": "code",
   "execution_count": 9,
   "id": "5dbfdab6",
   "metadata": {
    "scrolled": true
   },
   "outputs": [
    {
     "data": {
      "text/plain": [
       "array([[ 0,  1,  2,  3,  4],\n",
       "       [ 5,  6,  7,  8,  9],\n",
       "       [10, 11, 12, 13, 14],\n",
       "       [15, 16, 17, 18, 19]])"
      ]
     },
     "execution_count": 9,
     "metadata": {},
     "output_type": "execute_result"
    }
   ],
   "source": [
    "a=np.arange(20).reshape(4,5)\n",
    "a"
   ]
  },
  {
   "cell_type": "code",
   "execution_count": 10,
   "id": "cc6c3928",
   "metadata": {},
   "outputs": [
    {
     "data": {
      "text/plain": [
       "array([ 2,  7, 12, 17])"
      ]
     },
     "execution_count": 10,
     "metadata": {},
     "output_type": "execute_result"
    }
   ],
   "source": [
    "a[:,2]"
   ]
  },
  {
   "cell_type": "code",
   "execution_count": 13,
   "id": "5380342a",
   "metadata": {},
   "outputs": [
    {
     "data": {
      "text/plain": [
       "array([ 2,  7, 12, 17])"
      ]
     },
     "execution_count": 13,
     "metadata": {},
     "output_type": "execute_result"
    }
   ],
   "source": [
    "# 遍历每一行的第二列\n",
    "a[...,2]"
   ]
  },
  {
   "cell_type": "code",
   "execution_count": 14,
   "id": "66eb886b",
   "metadata": {
    "scrolled": false
   },
   "outputs": [
    {
     "data": {
      "text/plain": [
       "array([[ 0,  1],\n",
       "       [ 5,  6],\n",
       "       [10, 11],\n",
       "       [15, 16]])"
      ]
     },
     "execution_count": 14,
     "metadata": {},
     "output_type": "execute_result"
    }
   ],
   "source": [
    "# 遍历每一行前两列\n",
    "a[...,:2]"
   ]
  },
  {
   "cell_type": "code",
   "execution_count": 16,
   "id": "60d930ee",
   "metadata": {},
   "outputs": [
    {
     "data": {
      "text/plain": [
       "array([[ 0,  2,  4],\n",
       "       [ 5,  7,  9],\n",
       "       [10, 12, 14],\n",
       "       [15, 17, 19]])"
      ]
     },
     "execution_count": 16,
     "metadata": {},
     "output_type": "execute_result"
    }
   ],
   "source": [
    "# 遍历每一行，列步长2\n",
    "a[...,::2]"
   ]
  },
  {
   "cell_type": "code",
   "execution_count": 23,
   "id": "cbeacdc2",
   "metadata": {},
   "outputs": [
    {
     "data": {
      "text/plain": [
       "array([[[ 0,  1,  2,  3,  4],\n",
       "        [ 5,  6,  7,  8,  9],\n",
       "        [10, 11, 12, 13, 14],\n",
       "        [15, 16, 17, 18, 19]]])"
      ]
     },
     "execution_count": 23,
     "metadata": {},
     "output_type": "execute_result"
    }
   ],
   "source": [
    "# 在前面增加一个维度\n",
    "a[None,...]"
   ]
  },
  {
   "cell_type": "code",
   "execution_count": 22,
   "id": "0bae25e8",
   "metadata": {},
   "outputs": [
    {
     "name": "stdout",
     "output_type": "stream",
     "text": [
      "(4, 5)\n",
      "(1, 4, 5)\n"
     ]
    }
   ],
   "source": [
    "print(a.shape)\n",
    "print(a[None,...].shape)"
   ]
  },
  {
   "cell_type": "code",
   "execution_count": 25,
   "id": "15ac0216",
   "metadata": {
    "scrolled": true
   },
   "outputs": [
    {
     "data": {
      "text/plain": [
       "array([[[ 0,  1,  2,  3,  4],\n",
       "        [ 5,  6,  7,  8,  9],\n",
       "        [10, 11, 12, 13, 14],\n",
       "        [15, 16, 17, 18, 19]]])"
      ]
     },
     "execution_count": 25,
     "metadata": {},
     "output_type": "execute_result"
    }
   ],
   "source": [
    "# 也可以使用newaxis\n",
    "a[np.newaxis,...]"
   ]
  },
  {
   "cell_type": "markdown",
   "id": "6ee0d251",
   "metadata": {},
   "source": [
    "# np.emtpy\n",
    "产生的是随机数"
   ]
  },
  {
   "cell_type": "code",
   "execution_count": 3,
   "id": "c93d787e",
   "metadata": {
    "scrolled": true
   },
   "outputs": [
    {
     "data": {
      "text/plain": [
       "array([[0., 0., 0., 0.],\n",
       "       [0., 0., 0., 0.],\n",
       "       [0., 0., 0., 0.]])"
      ]
     },
     "execution_count": 3,
     "metadata": {},
     "output_type": "execute_result"
    }
   ],
   "source": [
    "import numpy as np\n",
    "np.empty((3,4))"
   ]
  },
  {
   "cell_type": "markdown",
   "id": "96a5257c",
   "metadata": {},
   "source": [
    "# 随机数\n",
    "np.random.randn() 浮点数，标准正态分布N(0,1)    \n",
    "np.random.rand()  给出\\[0,1)之间均匀分布的随机样本    \n",
    "np.random.randint() \\[low,high)之间的整数，指定数据维度       \n",
    "np.random.choice() 给定范围内的值随机"
   ]
  },
  {
   "cell_type": "code",
   "execution_count": 23,
   "id": "89644344",
   "metadata": {},
   "outputs": [
    {
     "data": {
      "text/plain": [
       "array([ 1.62434536, -0.61175641, -0.52817175, -1.07296862,  0.86540763])"
      ]
     },
     "execution_count": 23,
     "metadata": {},
     "output_type": "execute_result"
    }
   ],
   "source": [
    "np.random.seed(1)     #使用随机种子，这样每次运行random结果一致，\n",
    "np.random.randn(5)  # 以给定的形状创建一个数组，数组元素来符合标准正态分布N(0,1)"
   ]
  },
  {
   "cell_type": "code",
   "execution_count": 22,
   "id": "2160a63c",
   "metadata": {},
   "outputs": [
    {
     "data": {
      "text/plain": [
       "array([0.87222873, 0.6107616 , 0.22310035, 0.16105321, 0.45786948])"
      ]
     },
     "execution_count": 22,
     "metadata": {},
     "output_type": "execute_result"
    }
   ],
   "source": [
    "np.random.rand(5)  # 给出[0,1)之间均匀分布的随机样本"
   ]
  },
  {
   "cell_type": "markdown",
   "id": "59234779",
   "metadata": {},
   "source": [
    "**np.random.randint**  \n",
    "random.randint(low, high=None, size=None, dtype=int)\n",
    "如果只有low,范围就是\\[0,low)  \n",
    "如果有high, 范围就是\\[low, high) 左闭右开\n",
    "\n",
    "与random.randint()区别在于，random.randint()是左右都包括的。"
   ]
  },
  {
   "cell_type": "code",
   "execution_count": 24,
   "id": "bc96e1c3",
   "metadata": {
    "scrolled": true
   },
   "outputs": [
    {
     "name": "stdout",
     "output_type": "stream",
     "text": [
      "[[ 5 18 11 10 14]\n",
      " [18  4  9 17  0]\n",
      " [13  9  9  7  1]]\n"
     ]
    }
   ],
   "source": [
    "print(np.random.randint(0, 20, (3, 5)))"
   ]
  },
  {
   "cell_type": "code",
   "execution_count": 26,
   "id": "b937e0f0",
   "metadata": {},
   "outputs": [
    {
     "name": "stdout",
     "output_type": "stream",
     "text": [
      "[0 4 1 0 0 3 2 1 0 3]\n",
      "[1 2 2]\n"
     ]
    }
   ],
   "source": [
    "print(np.random.randint(5, size=10))\n",
    "print(np.random.randint(1, [3, 5, 10])) # Generate a 1 x 3 array with 3 different upper bounds"
   ]
  },
  {
   "cell_type": "code",
   "execution_count": 17,
   "id": "1e1521a5",
   "metadata": {},
   "outputs": [
    {
     "data": {
      "text/plain": [
       "5"
      ]
     },
     "execution_count": 17,
     "metadata": {},
     "output_type": "execute_result"
    }
   ],
   "source": [
    "import random\n",
    "random.randint(0,5)"
   ]
  },
  {
   "cell_type": "code",
   "execution_count": 22,
   "id": "21dce0e8",
   "metadata": {},
   "outputs": [
    {
     "data": {
      "text/plain": [
       "'y'"
      ]
     },
     "execution_count": 22,
     "metadata": {},
     "output_type": "execute_result"
    }
   ],
   "source": [
    "np.random.choice([\"x\", \"y\", \"z\"])"
   ]
  },
  {
   "cell_type": "markdown",
   "id": "942bd63a",
   "metadata": {},
   "source": [
    "# 最大值/最小值"
   ]
  },
  {
   "cell_type": "code",
   "execution_count": 11,
   "id": "3d012173",
   "metadata": {
    "scrolled": true
   },
   "outputs": [
    {
     "name": "stdout",
     "output_type": "stream",
     "text": [
      "[[ 0  1  2  3  4]\n",
      " [ 5  6  7  8  9]\n",
      " [10 11 12 13 14]\n",
      " [15 16 17 18 19]]\n",
      "19\n",
      "[15 16 17 18 19]\n",
      "[ 4  9 14 19]\n"
     ]
    }
   ],
   "source": [
    "a = np.arange(20).reshape(4, 5)\n",
    "print(a)\n",
    "print(a.max())\n",
    "print(a.max(axis=0))  # 每列的最大值\n",
    "print(a.max(axis=1))  # 每行的最大值"
   ]
  },
  {
   "cell_type": "markdown",
   "id": "0a44de00",
   "metadata": {},
   "source": [
    "# 乘法"
   ]
  },
  {
   "cell_type": "code",
   "execution_count": 12,
   "id": "defb1bfa",
   "metadata": {},
   "outputs": [
    {
     "name": "stdout",
     "output_type": "stream",
     "text": [
      "[[0 1]\n",
      " [1 2]]\n",
      "[[2 5]\n",
      " [3 4]]\n",
      "对应元素相乘：\n",
      " [[0 5]\n",
      " [3 8]]\n",
      "矩阵点乘：\n",
      " [[ 3  4]\n",
      " [ 8 13]]\n",
      "矩阵点乘：\n",
      " [[ 3  4]\n",
      " [ 8 13]]\n",
      "横向相加：\n",
      " [[0 1 2 5]\n",
      " [1 2 3 4]]\n",
      "纵向相加：\n",
      " [[0 1]\n",
      " [1 2]\n",
      " [2 5]\n",
      " [3 4]]\n"
     ]
    }
   ],
   "source": [
    "A = np.array([[0,1], [1,2]])  #数组\n",
    "B = np.array([[2,5],[3,4]])   #数组\n",
    "print(A)\n",
    "print(B)\n",
    "print(\"对应元素相乘：\\n\",A*B)\n",
    "print(\"矩阵点乘：\\n\",A.dot(B))\n",
    "print(\"矩阵点乘：\\n\",np.dot(A,B))  #(M行, N列) * (N行, Z列) = (M行, Z列)\n",
    "print(\"横向相加：\\n\",np.hstack((A,B)))  \n",
    "print(\"纵向相加：\\n\",np.vstack((A,B)))"
   ]
  },
  {
   "cell_type": "markdown",
   "id": "ed41c804",
   "metadata": {},
   "source": [
    "# matrix 矩阵"
   ]
  },
  {
   "cell_type": "code",
   "execution_count": 18,
   "id": "b4f6e2bc",
   "metadata": {},
   "outputs": [
    {
     "name": "stdout",
     "output_type": "stream",
     "text": [
      "<class 'numpy.matrix'>\n",
      "[[0 1 2]\n",
      " [3 4 5]]\n",
      "<class 'numpy.matrix'>\n",
      "[[1. 2. 3.]\n",
      " [4. 5. 6.]]\n",
      "[[ 8. 17.]\n",
      " [26. 62.]]\n"
     ]
    }
   ],
   "source": [
    "A = np.arange(6).reshape(2, 3)\n",
    "A = np.asmatrix(A)  #将数组转化成矩阵\n",
    "print(type(A))\n",
    "print(A)\n",
    "B = np.matrix('1.0 2.0 3.0;4.0 5.0 6.0')  #直接生成矩阵\n",
    "print(type(B))\n",
    "print(B)\n",
    "print(A*B.T)"
   ]
  },
  {
   "cell_type": "markdown",
   "id": "4d3f3a69",
   "metadata": {},
   "source": [
    "np.mat() 生成 matrix"
   ]
  },
  {
   "cell_type": "code",
   "execution_count": 35,
   "id": "d95bb6c7",
   "metadata": {},
   "outputs": [
    {
     "data": {
      "text/plain": [
       "matrix([[1, 2, 3],\n",
       "        [4, 5, 6]])"
      ]
     },
     "execution_count": 35,
     "metadata": {},
     "output_type": "execute_result"
    }
   ],
   "source": [
    "np.matrix('1,2,3;4,5,6')\n",
    "np.mat('1,2,3;4,5,6')"
   ]
  },
  {
   "cell_type": "code",
   "execution_count": 29,
   "id": "336b1b55",
   "metadata": {},
   "outputs": [
    {
     "name": "stdout",
     "output_type": "stream",
     "text": [
      "[[0.53316528 0.69187711]\n",
      " [0.31551563 0.68650093]]\n",
      "a的逆:\n",
      " [[ 4.64729883 -4.68369316]\n",
      " [-2.13589722  3.60928631]]\n"
     ]
    }
   ],
   "source": [
    "import numpy.linalg as nlg  #线性代数函数\n",
    "import numpy as np\n",
    "a=np.random.rand(2,2)\n",
    "a=np.mat(a)\n",
    "print(a)\n",
    "ia=nlg.inv(a)\n",
    "print(\"a的逆:\\n\",ia)"
   ]
  },
  {
   "cell_type": "code",
   "execution_count": 36,
   "id": "ecbda9e2",
   "metadata": {},
   "outputs": [
    {
     "name": "stdout",
     "output_type": "stream",
     "text": [
      "特征值: [10.48331477 -4.48331477 -1.        ]\n",
      "特征向量: [[-0.50772731 -0.36224208 -0.28571429]\n",
      " [-0.69600716  0.85881392 -0.42857143]\n",
      " [-0.50772731 -0.36224208  0.85714286]]\n"
     ]
    }
   ],
   "source": [
    "a=np.array([2,4,3,9,1,4,3,4,2]).reshape(3,3)\n",
    "eig_value,eig_vector=nlg.eig(a)\n",
    "print(\"特征值:\",eig_value)\n",
    "print(\"特征向量:\",eig_vector)"
   ]
  }
 ],
 "metadata": {
  "kernelspec": {
   "display_name": "ml37",
   "language": "python",
   "name": "ml37"
  },
  "language_info": {
   "codemirror_mode": {
    "name": "ipython",
    "version": 3
   },
   "file_extension": ".py",
   "mimetype": "text/x-python",
   "name": "python",
   "nbconvert_exporter": "python",
   "pygments_lexer": "ipython3",
   "version": "3.7.10"
  },
  "toc": {
   "base_numbering": 1,
   "nav_menu": {},
   "number_sections": true,
   "sideBar": true,
   "skip_h1_title": false,
   "title_cell": "Table of Contents",
   "title_sidebar": "Contents",
   "toc_cell": false,
   "toc_position": {
    "height": "calc(100% - 180px)",
    "left": "10px",
    "top": "150px",
    "width": "242.188px"
   },
   "toc_section_display": true,
   "toc_window_display": true
  },
  "varInspector": {
   "cols": {
    "lenName": 16,
    "lenType": 16,
    "lenVar": 40
   },
   "kernels_config": {
    "python": {
     "delete_cmd_postfix": "",
     "delete_cmd_prefix": "del ",
     "library": "var_list.py",
     "varRefreshCmd": "print(var_dic_list())"
    },
    "r": {
     "delete_cmd_postfix": ") ",
     "delete_cmd_prefix": "rm(",
     "library": "var_list.r",
     "varRefreshCmd": "cat(var_dic_list()) "
    }
   },
   "types_to_exclude": [
    "module",
    "function",
    "builtin_function_or_method",
    "instance",
    "_Feature"
   ],
   "window_display": false
  }
 },
 "nbformat": 4,
 "nbformat_minor": 5
}
