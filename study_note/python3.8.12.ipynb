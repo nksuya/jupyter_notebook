{
 "cells": [
  {
   "cell_type": "markdown",
   "id": "d7351547",
   "metadata": {},
   "source": [
    "[The Python Standard Library — Python 3.8.12 documentation](https://docs.python.org/3.8/library/)"
   ]
  },
  {
   "cell_type": "markdown",
   "id": "71af71fd",
   "metadata": {},
   "source": [
    "# 内置函数"
   ]
  },
  {
   "cell_type": "markdown",
   "id": "f0e11998",
   "metadata": {},
   "source": [
    "## callable()函数\n",
    "可调用对象\n",
    "1. 函数  \n",
    "2. 类  \n",
    "3. 类里的方法  \n",
    "4. 实现了\\__call__方法的实例对象  "
   ]
  },
  {
   "cell_type": "code",
   "execution_count": 1,
   "id": "9ff417c3",
   "metadata": {},
   "outputs": [
    {
     "name": "stdout",
     "output_type": "stream",
     "text": [
      "True\n",
      "ok\n"
     ]
    }
   ],
   "source": [
    "# 1.函数\n",
    "def test():\n",
    "    print('ok')\n",
    "\n",
    "print(callable(test))   # True\n",
    "test()  # ok"
   ]
  },
  {
   "cell_type": "code",
   "execution_count": 2,
   "id": "9696faab",
   "metadata": {},
   "outputs": [
    {
     "name": "stdout",
     "output_type": "stream",
     "text": [
      "True\n",
      "小明\n"
     ]
    }
   ],
   "source": [
    "# 2.类\n",
    "class Stu(object):\n",
    "    def __init__(self, name):\n",
    "        self.name = name\n",
    "\n",
    "\n",
    "print(callable(Stu))     # True\n",
    "print(Stu('小明').name)   # 小明"
   ]
  },
  {
   "cell_type": "code",
   "execution_count": 3,
   "id": "07a05e32",
   "metadata": {
    "scrolled": true
   },
   "outputs": [
    {
     "name": "stdout",
     "output_type": "stream",
     "text": [
      "True\n",
      "小明 is running\n",
      "True\n"
     ]
    }
   ],
   "source": [
    "# 3.类里的方法\n",
    "from inspect import isfunction, ismethod\n",
    "\n",
    "\n",
    "class Stu(object):\n",
    "    def __init__(self, name):\n",
    "        self.name = name\n",
    "\n",
    "    def run(self):\n",
    "        print('{name} is running'.format(name=self.name))\n",
    "\n",
    "print(isfunction(Stu.run))     # True\n",
    "stu = Stu(\"小明\")\n",
    "stu.run()        # 小明 is running\n",
    "print(callable(stu.run))"
   ]
  },
  {
   "cell_type": "code",
   "execution_count": 4,
   "id": "01b3563d",
   "metadata": {},
   "outputs": [
    {
     "name": "stdout",
     "output_type": "stream",
     "text": [
      "True\n",
      "小明 is running\n"
     ]
    }
   ],
   "source": [
    "# 4.实现了__call__方法的实例对象\n",
    "class Stu(object):\n",
    "\n",
    "    def __init__(self, name):\n",
    "        self.name = name\n",
    "\n",
    "    def __call__(self, *args, **kwargs):\n",
    "        self.run()\n",
    "\n",
    "    def run(self):\n",
    "        print('{name} is running'.format(name=self.name))\n",
    "\n",
    "stu = Stu('小明')\n",
    "print(callable(stu))    # True\n",
    "stu()                   # 小明 is running"
   ]
  },
  {
   "cell_type": "markdown",
   "id": "6c6cdf52",
   "metadata": {},
   "source": [
    "\\__call__()方法类似于在类中重载()"
   ]
  },
  {
   "cell_type": "markdown",
   "id": "2f013d93",
   "metadata": {},
   "source": [
    "## chr()和ord()\n",
    "chr() 将十进制或者十六进制数字转化为ASCII码字符  \n",
    "ord() 将字符转化为十进制数   "
   ]
  },
  {
   "cell_type": "code",
   "execution_count": 5,
   "id": "3e157abb",
   "metadata": {},
   "outputs": [
    {
     "data": {
      "text/plain": [
       "'a'"
      ]
     },
     "execution_count": 5,
     "metadata": {},
     "output_type": "execute_result"
    }
   ],
   "source": [
    "chr(97)"
   ]
  },
  {
   "cell_type": "code",
   "execution_count": 7,
   "id": "d6d2360b",
   "metadata": {},
   "outputs": [
    {
     "data": {
      "text/plain": [
       "'a'"
      ]
     },
     "execution_count": 7,
     "metadata": {},
     "output_type": "execute_result"
    }
   ],
   "source": [
    "chr(0x61)"
   ]
  },
  {
   "cell_type": "code",
   "execution_count": 6,
   "id": "08b6585f",
   "metadata": {},
   "outputs": [
    {
     "data": {
      "text/plain": [
       "97"
      ]
     },
     "execution_count": 6,
     "metadata": {},
     "output_type": "execute_result"
    }
   ],
   "source": [
    "ord('a')"
   ]
  },
  {
   "cell_type": "markdown",
   "id": "4b6f51d1",
   "metadata": {},
   "source": [
    "## @classmethod 与 @staticmethod\n",
    "如果在方法中不需要访问任何实例方法和属性，纯粹地通过传入参数并返回数据的功能性方法，那么它就适合用静态方法来定义，它节省了实例化对象的开销成本，往往这种方法放在类外面的模块层作为一个函数存在也是没问题的，而放在类中，仅为这个类服务。  \n",
    "\n",
    "如果希望在方法裡面调用类的静态方法，那么把方法定义成类方法是合适的，因为要是定义成静态方法，那么你就要显示地引用类A，这对继承来说可不是一件好事情。\n",
    "\n",
    "如果在@staticmethod中要调用到这个类的一些属性方法，只能直接类名.属性名或类名.方法名。\n",
    "而<span class=\"mark\">@classmethod因为持有cls参数，可以来调用类的属性，类的方法，实例化对象等，避免硬编码</span>。"
   ]
  },
  {
   "cell_type": "code",
   "execution_count": 14,
   "id": "c0512073",
   "metadata": {
    "code_folding": []
   },
   "outputs": [],
   "source": [
    "class A:\n",
    "\n",
    "    @staticmethod\n",
    "    def m1():\n",
    "        passs\n",
    "\n",
    "    @staticmethod\n",
    "    def m2():\n",
    "        A.m1() # bad\n",
    "\n",
    "    @classmethod\n",
    "    def m3(cls):\n",
    "        cls.m1() # good"
   ]
  },
  {
   "cell_type": "markdown",
   "id": "1f0bbc26",
   "metadata": {},
   "source": [
    "## delattr()\n",
    "删除属性"
   ]
  },
  {
   "cell_type": "code",
   "execution_count": 22,
   "id": "d77815a8",
   "metadata": {},
   "outputs": [
    {
     "name": "stdout",
     "output_type": "stream",
     "text": [
      "True\n",
      "Suya\n",
      "-----------\n",
      "False\n"
     ]
    }
   ],
   "source": [
    "class Stu():\n",
    "    def __init__(self,name):\n",
    "        self.name=name\n",
    "        \n",
    "s =Stu(\"Suya\")\n",
    "print(hasattr(s,\"name\"))\n",
    "print(s.name)\n",
    "print('-----------')\n",
    "\n",
    "delattr(s,\"name\")\n",
    "# del s.name\n",
    "print(hasattr(s,\"name\"))"
   ]
  },
  {
   "cell_type": "markdown",
   "id": "16dc6d61",
   "metadata": {},
   "source": [
    "## dict"
   ]
  },
  {
   "cell_type": "code",
   "execution_count": 2,
   "id": "570fb0cb",
   "metadata": {},
   "outputs": [
    {
     "name": "stdout",
     "output_type": "stream",
     "text": [
      "<class 'dict'>\n"
     ]
    },
    {
     "data": {
      "text/plain": [
       "{0: 0, 1: 1, 2: 4, 3: 9, 4: 16, 5: 25, 6: 36, 7: 49, 8: 64, 9: 81}"
      ]
     },
     "execution_count": 2,
     "metadata": {},
     "output_type": "execute_result"
    }
   ],
   "source": [
    "d={x: x ** 2 for x in range(10)}\n",
    "print(type(d))\n",
    "d"
   ]
  },
  {
   "cell_type": "markdown",
   "id": "7513e060",
   "metadata": {},
   "source": [
    "## divmod()\n",
    "返回商和余数，//向下取整"
   ]
  },
  {
   "cell_type": "code",
   "execution_count": 4,
   "id": "1c385e2d",
   "metadata": {},
   "outputs": [
    {
     "data": {
      "text/plain": [
       "(2.0, 1.2000000000000002)"
      ]
     },
     "execution_count": 4,
     "metadata": {},
     "output_type": "execute_result"
    }
   ],
   "source": [
    "divmod(5,1.9)"
   ]
  },
  {
   "cell_type": "code",
   "execution_count": 8,
   "id": "48b12523",
   "metadata": {
    "scrolled": false
   },
   "outputs": [
    {
     "name": "stdout",
     "output_type": "stream",
     "text": [
      "2.6315789473684212\n",
      "2.0\n"
     ]
    }
   ],
   "source": [
    "print(5/1.9)\n",
    "print(5//1.9)"
   ]
  },
  {
   "cell_type": "markdown",
   "id": "2d704abc",
   "metadata": {},
   "source": [
    "## enumerate() 枚举\n",
    "可以设定开始值"
   ]
  },
  {
   "cell_type": "code",
   "execution_count": 16,
   "id": "aa7167f4",
   "metadata": {},
   "outputs": [
    {
     "data": {
      "text/plain": [
       "[(2, 'Spring'), (3, 'Summer'), (4, 'Fall'), (5, 'Winter')]"
      ]
     },
     "execution_count": 16,
     "metadata": {},
     "output_type": "execute_result"
    }
   ],
   "source": [
    "seasons = ['Spring', 'Summer', 'Fall', 'Winter']\n",
    "list(enumerate(seasons, start=2))"
   ]
  },
  {
   "cell_type": "markdown",
   "id": "323cc3ad",
   "metadata": {},
   "source": [
    "## format()"
   ]
  },
  {
   "cell_type": "code",
   "execution_count": 25,
   "id": "b7cf0932",
   "metadata": {},
   "outputs": [
    {
     "name": "stdout",
     "output_type": "stream",
     "text": [
      "网站名：菜鸟教程, 地址 www.runoob.com\n",
      "网站名：菜鸟教程, 地址 www.runoob.com\n",
      "value 为: 6\n"
     ]
    }
   ],
   "source": [
    "# 通过字典设置参数\n",
    "site = {'name': \"菜鸟教程\", 'url': \"www.runoob.com\"}\n",
    "print(\"网站名：{name}, 地址 {url}\".format(**site))\n",
    "\n",
    "# 通过列表索引设置参数\n",
    "my_list = ['菜鸟教程', 'www.runoob.com']\n",
    "print(\"网站名：{0[0]}, 地址 {0[1]}\".format(my_list))\n",
    "\n",
    "# 传入对象\n",
    "class AssignValue(object):\n",
    "    def __init__(self, value):\n",
    "        self.value = value\n",
    "my_value = AssignValue(6)\n",
    "print('value 为: {0.value}'.format(my_value))  # \"0\" 是可选的"
   ]
  },
  {
   "cell_type": "markdown",
   "id": "efe4a6d8",
   "metadata": {},
   "source": [
    "数字格式化"
   ]
  },
  {
   "cell_type": "code",
   "execution_count": 39,
   "id": "3a0e8b3e",
   "metadata": {
    "scrolled": true
   },
   "outputs": [
    {
     "name": "stdout",
     "output_type": "stream",
     "text": [
      "3.14\n",
      "+3.14\n",
      "XXXX5\n",
      "2.30000\n",
      "12,000,000\n",
      "36.61%\n",
      "1.20e+07\n"
     ]
    }
   ],
   "source": [
    "import numpy as np\n",
    "print('{:.2f}'.format(np.pi))\n",
    "print('{:+.2f}'.format(np.pi))\n",
    "print('{:X>5d}'.format(5))\n",
    "print('{:0<7}'.format(2.3))\n",
    "print('{:,}'.format(12000000))\n",
    "print('{:.2%}'.format(0.3661))\n",
    "print('{:.2e}'.format(12000000))"
   ]
  },
  {
   "cell_type": "markdown",
   "id": "3e32f585",
   "metadata": {},
   "source": [
    "## help()\n",
    "直接输入help可以得到一个交互的环境"
   ]
  },
  {
   "cell_type": "code",
   "execution_count": 40,
   "id": "ee14cb69",
   "metadata": {
    "scrolled": true
   },
   "outputs": [
    {
     "name": "stdout",
     "output_type": "stream",
     "text": [
      "\n",
      "Welcome to Python 3.8's help utility!\n",
      "\n",
      "If this is your first time using Python, you should definitely check out\n",
      "the tutorial on the Internet at https://docs.python.org/3.8/tutorial/.\n",
      "\n",
      "Enter the name of any module, keyword, or topic to get help on writing\n",
      "Python programs and using Python modules.  To quit this help utility and\n",
      "return to the interpreter, just type \"quit\".\n",
      "\n",
      "To get a list of available modules, keywords, symbols, or topics, type\n",
      "\"modules\", \"keywords\", \"symbols\", or \"topics\".  Each module also comes\n",
      "with a one-line summary of what it does; to list the modules whose name\n",
      "or summary contain a given string such as \"spam\", type \"modules spam\".\n",
      "\n",
      "help> enumerate\n",
      "Help on class enumerate in module builtins:\n",
      "\n",
      "class enumerate(object)\n",
      " |  enumerate(iterable, start=0)\n",
      " |  \n",
      " |  Return an enumerate object.\n",
      " |  \n",
      " |    iterable\n",
      " |      an object supporting iteration\n",
      " |  \n",
      " |  The enumerate object yields pairs containing a count (from start, which\n",
      " |  defaults to zero) and a value yielded by the iterable argument.\n",
      " |  \n",
      " |  enumerate is useful for obtaining an indexed list:\n",
      " |      (0, seq[0]), (1, seq[1]), (2, seq[2]), ...\n",
      " |  \n",
      " |  Methods defined here:\n",
      " |  \n",
      " |  __getattribute__(self, name, /)\n",
      " |      Return getattr(self, name).\n",
      " |  \n",
      " |  __iter__(self, /)\n",
      " |      Implement iter(self).\n",
      " |  \n",
      " |  __next__(self, /)\n",
      " |      Implement next(self).\n",
      " |  \n",
      " |  __reduce__(...)\n",
      " |      Return state information for pickling.\n",
      " |  \n",
      " |  ----------------------------------------------------------------------\n",
      " |  Static methods defined here:\n",
      " |  \n",
      " |  __new__(*args, **kwargs) from builtins.type\n",
      " |      Create and return a new object.  See help(type) for accurate signature.\n",
      "\n",
      "help> eval\n",
      "Help on built-in function eval in module builtins:\n",
      "\n",
      "eval(source, globals=None, locals=None, /)\n",
      "    Evaluate the given source in the context of globals and locals.\n",
      "    \n",
      "    The source may be a string representing a Python expression\n",
      "    or a code object as returned by compile().\n",
      "    The globals must be a dictionary and locals can be any mapping,\n",
      "    defaulting to the current globals and locals.\n",
      "    If only globals is given, locals defaults to it.\n",
      "\n",
      "help> exit\n",
      "No Python documentation found for 'exit'.\n",
      "Use help() to get the interactive help utility.\n",
      "Use help(str) for help on the str class.\n",
      "\n",
      "\n",
      "You are now leaving help and returning to the Python interpreter.\n",
      "If you want to ask for help on a particular object directly from the\n",
      "interpreter, you can type \"help(object)\".  Executing \"help('string')\"\n",
      "has the same effect as typing a particular string at the help> prompt.\n"
     ]
    }
   ],
   "source": [
    "help()"
   ]
  },
  {
   "cell_type": "markdown",
   "id": "489046bd",
   "metadata": {},
   "source": [
    "## id()\n",
    "id() 函数返回对象的唯一标识符，标识符是一个整数。CPython 中 id() 函数用于获取对象的内存地址。"
   ]
  },
  {
   "cell_type": "code",
   "execution_count": 49,
   "id": "934a7d63",
   "metadata": {},
   "outputs": [
    {
     "name": "stdout",
     "output_type": "stream",
     "text": [
      "a: 140724378412096\n",
      "b: 140724378412096\n",
      "44\n",
      "43\n",
      "a: 140724378412128\n",
      "b: 140724378412096\n"
     ]
    }
   ],
   "source": [
    "a = 43\n",
    "b = a\n",
    "print('a:', id(a))\n",
    "print('b:', id(b))\n",
    "a += 1\n",
    "print(a)\n",
    "print(b)\n",
    "print('a:', id(a))\n",
    "print('b:', id(b))"
   ]
  },
  {
   "cell_type": "markdown",
   "id": "4fdba65c",
   "metadata": {},
   "source": [
    "## issubclass()\n",
    "判断一个类是否是另一个类的子类（继承）"
   ]
  },
  {
   "cell_type": "code",
   "execution_count": 56,
   "id": "1e0c357a",
   "metadata": {},
   "outputs": [
    {
     "name": "stdout",
     "output_type": "stream",
     "text": [
      "True\n",
      "False\n",
      "True\n",
      "True\n"
     ]
    }
   ],
   "source": [
    "class A(object):\n",
    "    pass\n",
    "class B(A):\n",
    "    pass\n",
    "print(issubclass(A,object))\n",
    "print(issubclass(A,B))\n",
    "print(issubclass(B,A))\n",
    "print(issubclass(B,object))"
   ]
  },
  {
   "cell_type": "markdown",
   "id": "65f7e6b1",
   "metadata": {},
   "source": [
    "## next()"
   ]
  },
  {
   "cell_type": "code",
   "execution_count": 66,
   "id": "10b6f32c",
   "metadata": {},
   "outputs": [
    {
     "name": "stdout",
     "output_type": "stream",
     "text": [
      "1\n",
      "2\n",
      "3\n"
     ]
    },
    {
     "ename": "StopIteration",
     "evalue": "",
     "output_type": "error",
     "traceback": [
      "\u001b[1;31m---------------------------------------------------------------------------\u001b[0m",
      "\u001b[1;31mStopIteration\u001b[0m                             Traceback (most recent call last)",
      "\u001b[1;32m~\\AppData\\Local\\Temp/ipykernel_17672/2796505037.py\u001b[0m in \u001b[0;36m<module>\u001b[1;34m\u001b[0m\n\u001b[0;32m      4\u001b[0m \u001b[0mprint\u001b[0m\u001b[1;33m(\u001b[0m\u001b[0mnext\u001b[0m\u001b[1;33m(\u001b[0m\u001b[0mit\u001b[0m\u001b[1;33m)\u001b[0m\u001b[1;33m)\u001b[0m\u001b[1;33m\u001b[0m\u001b[1;33m\u001b[0m\u001b[0m\n\u001b[0;32m      5\u001b[0m \u001b[0mprint\u001b[0m\u001b[1;33m(\u001b[0m\u001b[0mnext\u001b[0m\u001b[1;33m(\u001b[0m\u001b[0mit\u001b[0m\u001b[1;33m)\u001b[0m\u001b[1;33m)\u001b[0m\u001b[1;33m\u001b[0m\u001b[1;33m\u001b[0m\u001b[0m\n\u001b[1;32m----> 6\u001b[1;33m \u001b[0mprint\u001b[0m\u001b[1;33m(\u001b[0m\u001b[0mnext\u001b[0m\u001b[1;33m(\u001b[0m\u001b[0mit\u001b[0m\u001b[1;33m)\u001b[0m\u001b[1;33m)\u001b[0m\u001b[1;33m\u001b[0m\u001b[1;33m\u001b[0m\u001b[0m\n\u001b[0m",
      "\u001b[1;31mStopIteration\u001b[0m: "
     ]
    }
   ],
   "source": [
    "a = [1, 2, 3]\n",
    "it = iter(a)\n",
    "print(next(it))\n",
    "print(next(it))\n",
    "print(next(it))\n",
    "print(next(it))"
   ]
  },
  {
   "cell_type": "markdown",
   "id": "0363533c",
   "metadata": {},
   "source": [
    "## repr()\n",
    "repr转化为计算机可以读取的字符串"
   ]
  },
  {
   "cell_type": "code",
   "execution_count": 83,
   "id": "eccd5f00",
   "metadata": {},
   "outputs": [
    {
     "data": {
      "text/plain": [
       "dict"
      ]
     },
     "execution_count": 83,
     "metadata": {},
     "output_type": "execute_result"
    }
   ],
   "source": [
    "d = {\"a\": 1, \"b\": 2}\n",
    "s = repr(d)\n",
    "d2 = eval(s)\n",
    "d2"
   ]
  },
  {
   "cell_type": "markdown",
   "id": "55f80b1c",
   "metadata": {},
   "source": [
    "## zip()\n",
    "如果可迭代对象的长度不一致，结果与最短的对象一致。"
   ]
  },
  {
   "cell_type": "code",
   "execution_count": 123,
   "id": "6a3cde7f",
   "metadata": {},
   "outputs": [
    {
     "data": {
      "text/plain": [
       "[(1, 4, 9), (2, 5, 10), (3, 6, 11)]"
      ]
     },
     "execution_count": 123,
     "metadata": {},
     "output_type": "execute_result"
    }
   ],
   "source": [
    "x = [1, 2, 3]\n",
    "y = [4, 5, 6, 7, 8]\n",
    "z = [9, 10, 11, 12]\n",
    "zipped = zip(x, y, z)\n",
    "list(zipped)"
   ]
  },
  {
   "cell_type": "code",
   "execution_count": 128,
   "id": "cb19aec9",
   "metadata": {},
   "outputs": [
    {
     "data": {
      "text/plain": [
       "[(1, 2, 3), (4, 5, 6)]"
      ]
     },
     "execution_count": 128,
     "metadata": {},
     "output_type": "execute_result"
    }
   ],
   "source": [
    "x = [1, 2, 3]\n",
    "y = [4, 5, 6, 7, 8]\n",
    "list(zip(*zip(x, y)))  # *理解为解压"
   ]
  }
 ],
 "metadata": {
  "kernelspec": {
   "display_name": "py38",
   "language": "python",
   "name": "py38"
  },
  "language_info": {
   "codemirror_mode": {
    "name": "ipython",
    "version": 3
   },
   "file_extension": ".py",
   "mimetype": "text/x-python",
   "name": "python",
   "nbconvert_exporter": "python",
   "pygments_lexer": "ipython3",
   "version": "3.8.12"
  },
  "toc": {
   "base_numbering": 1,
   "nav_menu": {},
   "number_sections": true,
   "sideBar": true,
   "skip_h1_title": false,
   "title_cell": "Table of Contents",
   "title_sidebar": "Contents",
   "toc_cell": false,
   "toc_position": {
    "height": "calc(100% - 180px)",
    "left": "10px",
    "top": "150px",
    "width": "243.962px"
   },
   "toc_section_display": true,
   "toc_window_display": true
  }
 },
 "nbformat": 4,
 "nbformat_minor": 5
}
