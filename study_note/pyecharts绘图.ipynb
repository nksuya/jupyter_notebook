{
 "cells": [
  {
   "cell_type": "markdown",
   "id": "cba7c7dc",
   "metadata": {},
   "source": [
    "python + echarts  网址：[pyecharts](https://pyecharts.org/#/)"
   ]
  },
  {
   "cell_type": "markdown",
   "id": "02135bfb",
   "metadata": {},
   "source": [
    "# 渲染图片"
   ]
  },
  {
   "cell_type": "markdown",
   "id": "1f596e7f",
   "metadata": {},
   "source": [
    "## 安装snapshot-selenium"
   ]
  },
  {
   "cell_type": "code",
   "execution_count": null,
   "id": "f8259ade",
   "metadata": {},
   "outputs": [],
   "source": [
    "!pip install snapshot_selenium"
   ]
  },
  {
   "cell_type": "markdown",
   "id": "ce6169b8",
   "metadata": {},
   "source": [
    "## 配置 browser driver\n",
    "使用chrome浏览器  \n",
    "\n",
    "1.确定自己所用chrome的版本  \n",
    "打开chrome浏览器，在网址处输入chrome://version/    即可查看版本号 \n",
    "\n",
    "2.下载对应版本的chromedriver.exe  \n",
    "访问http://chromedriver.storage.googleapis.com/index.html  ，找到自己浏览器对应版本的chromedriver.exe下载  \n",
    "\n",
    "3.配置环境变量  \n",
    "将下载好的chromedriver.exe文件放置到chrome浏览器所在目录和python根目录下    \n",
    "将chrome目录添加到系统环境变量  C:\\Program Files\\Google\\Chrome\\Application"
   ]
  },
  {
   "cell_type": "markdown",
   "id": "4d872239",
   "metadata": {},
   "source": [
    "## 例子"
   ]
  },
  {
   "cell_type": "code",
   "execution_count": 2,
   "id": "dd26f575",
   "metadata": {},
   "outputs": [],
   "source": [
    "from pyecharts.charts import Bar\n",
    "from pyecharts.render import make_snapshot\n",
    "\n",
    "# 使用 snapshot-selenium 渲染图片\n",
    "from snapshot_selenium import snapshot\n",
    "\n",
    "bar = (\n",
    "    Bar()\n",
    "    .add_xaxis([\"衬衫\", \"羊毛衫\", \"雪纺衫\", \"裤子\", \"高跟鞋\", \"袜子\"])\n",
    "    .add_yaxis(\"商家A\", [5, 20, 36, 10, 75, 90])\n",
    ")\n",
    "make_snapshot(snapshot, bar.render(), \"../dataset/bar.png\", is_remove_html=True)"
   ]
  }
 ],
 "metadata": {
  "kernelspec": {
   "display_name": "ml37",
   "language": "python",
   "name": "ml37"
  },
  "language_info": {
   "codemirror_mode": {
    "name": "ipython",
    "version": 3
   },
   "file_extension": ".py",
   "mimetype": "text/x-python",
   "name": "python",
   "nbconvert_exporter": "python",
   "pygments_lexer": "ipython3",
   "version": "3.7.10"
  },
  "toc": {
   "base_numbering": 1,
   "nav_menu": {},
   "number_sections": true,
   "sideBar": true,
   "skip_h1_title": false,
   "title_cell": "Table of Contents",
   "title_sidebar": "Contents",
   "toc_cell": false,
   "toc_position": {},
   "toc_section_display": true,
   "toc_window_display": true
  }
 },
 "nbformat": 4,
 "nbformat_minor": 5
}
