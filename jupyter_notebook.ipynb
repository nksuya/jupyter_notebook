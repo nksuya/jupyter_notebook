{
 "cells": [
  {
   "cell_type": "markdown",
   "id": "df7e957f",
   "metadata": {},
   "source": [
    "###### Code prettify插件  \n",
    "yapf 是 Google 开发的一个用来格式化 Python 代码的工具   \n",
    "不格式化 # yapf: disable"
   ]
  },
  {
   "cell_type": "markdown",
   "id": "9a93d295",
   "metadata": {},
   "source": [
    "###### 魔术命令\n",
    "%pwd ＃打印当前工作目录  \n",
    "%cd ＃更改工作目录  \n",
    "%ls ＃显示当前目录中的内容  \n",
    "%load [在此处插入Python文件名] ＃将代码加载到Jupyter Notebook  \n",
    "%store [在此处插入变量]  ＃这使您可以传递Jupyter Notebooks之间的变量   \n",
    "%who  ＃使用它列出所有变量  \n",
    "%lsmagic  #查看魔术命令的完整列表  "
   ]
  },
  {
   "cell_type": "code",
   "execution_count": null,
   "id": "550f7983",
   "metadata": {},
   "outputs": [],
   "source": [
    "%pwd"
   ]
  },
  {
   "cell_type": "markdown",
   "id": "ec574fa9",
   "metadata": {},
   "source": [
    "###### 快速计算代码运行时间\n",
    "%time：在行模式下，代码运行一次所花费的时间  \n",
    "%%time：在单元模式下，代码运行一次所花费的时间  \n",
    "%timeit：在行模式下，执行代码块若干次，取最佳结果  \n",
    "%%timeit：在单元模式下，执行代码块若干次，取最佳结果  "
   ]
  },
  {
   "cell_type": "markdown",
   "id": "7da8420f",
   "metadata": {},
   "source": [
    "###### 插入图片\n",
    "方法1：只能是相对路径，不能改变图片大小  \n",
    "![title](img/python.png)  \n",
    "方法2：只能是相对路径，可以调整大小  \n",
    "%%html  \n",
    "<img src='img/convolve_example.png', width=400, height=80>"
   ]
  },
  {
   "cell_type": "markdown",
   "id": "b5a1ef9d",
   "metadata": {},
   "source": [
    "######  markdown 数学公式语法\n",
    "https://www.cnblogs.com/xym4869/p/11282586.html"
   ]
  },
  {
   "cell_type": "markdown",
   "metadata": {},
   "source": [
    "this is a test line."
   ]
  }
 ],
 "metadata": {
  "kernelspec": {
   "display_name": "ml37",
   "language": "python",
   "name": "ml37"
  },
  "language_info": {
   "codemirror_mode": {
    "name": "ipython",
    "version": 3
   },
   "file_extension": ".py",
   "mimetype": "text/x-python",
   "name": "python",
   "nbconvert_exporter": "python",
   "pygments_lexer": "ipython3",
   "version": "3.7.10"
  },
  "toc": {
   "base_numbering": 1,
   "nav_menu": {
    "height": "129px",
    "width": "181px"
   },
   "number_sections": true,
   "sideBar": true,
   "skip_h1_title": false,
   "title_cell": "Table of Contents",
   "title_sidebar": "Contents",
   "toc_cell": false,
   "toc_position": {
    "height": "155.6px",
    "left": "1028px",
    "top": "179px",
    "width": "216px"
   },
   "toc_section_display": true,
   "toc_window_display": true
  },
  "varInspector": {
   "cols": {
    "lenName": 16,
    "lenType": 16,
    "lenVar": 40
   },
   "kernels_config": {
    "python": {
     "delete_cmd_postfix": "",
     "delete_cmd_prefix": "del ",
     "library": "var_list.py",
     "varRefreshCmd": "print(var_dic_list())"
    },
    "r": {
     "delete_cmd_postfix": ") ",
     "delete_cmd_prefix": "rm(",
     "library": "var_list.r",
     "varRefreshCmd": "cat(var_dic_list()) "
    }
   },
   "position": {
    "height": "144.4px",
    "left": "1163px",
    "right": "20px",
    "top": "116px",
    "width": "350px"
   },
   "types_to_exclude": [
    "module",
    "function",
    "builtin_function_or_method",
    "instance",
    "_Feature"
   ],
   "window_display": false
  }
 },
 "nbformat": 4,
 "nbformat_minor": 5
}
