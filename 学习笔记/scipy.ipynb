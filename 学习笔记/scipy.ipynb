{
 "cells": [
  {
   "cell_type": "markdown",
   "id": "5c543332",
   "metadata": {},
   "source": [
    "###### scipy.ndimage.uniform_filter1d\n",
    "此滤波器的作用是取每个像素及其相邻像素的算术平均值。"
   ]
  },
  {
   "cell_type": "code",
   "execution_count": 7,
   "id": "f9c18d25",
   "metadata": {},
   "outputs": [
    {
     "name": "stdout",
     "output_type": "stream",
     "text": [
      "[1 2 3 4 5 5]\n",
      "[4 3 4 1 4 6 6 3]\n"
     ]
    }
   ],
   "source": [
    "import scipy\n",
    "from scipy import ndimage\n",
    "\n",
    "print(ndimage.uniform_filter1d([1, 2, 3, 4, 5, 6], size=3))\n",
    "print(ndimage.uniform_filter1d([2, 8, 0, 4, 1, 9, 9, 0], size=3))"
   ]
  }
 ],
 "metadata": {
  "kernelspec": {
   "display_name": "ml37",
   "language": "python",
   "name": "ml37"
  },
  "language_info": {
   "codemirror_mode": {
    "name": "ipython",
    "version": 3
   },
   "file_extension": ".py",
   "mimetype": "text/x-python",
   "name": "python",
   "nbconvert_exporter": "python",
   "pygments_lexer": "ipython3",
   "version": "3.7.10"
  },
  "toc": {
   "base_numbering": 1,
   "nav_menu": {},
   "number_sections": true,
   "sideBar": true,
   "skip_h1_title": false,
   "title_cell": "Table of Contents",
   "title_sidebar": "Contents",
   "toc_cell": false,
   "toc_position": {},
   "toc_section_display": true,
   "toc_window_display": true
  }
 },
 "nbformat": 4,
 "nbformat_minor": 5
}
