{
 "cells": [
  {
   "cell_type": "markdown",
   "id": "12ad2406",
   "metadata": {},
   "source": [
    "# DataFrame 创建 读取\n",
    "对应二维的表结构。\n",
    " <span class=\"mark\">A dataframe is essentially a table with rows and columns.</span>\n",
    "- DataFrame创建时可以指定行列名，columns列名，index行名。   \n",
    "- 行列可以是不同的数据类型。   \n",
    "\n",
    "可以从列表组成的字典创建，也可以从ndarray组成的字典创建。\n",
    "\n",
    "df.shape 行列数  \n",
    "df.ndim 维度   "
   ]
  },
  {
   "cell_type": "code",
   "execution_count": 2,
   "id": "1894ea2b",
   "metadata": {},
   "outputs": [],
   "source": [
    "import pandas as pd\n",
    "import numpy as np"
   ]
  },
  {
   "cell_type": "code",
   "execution_count": 2,
   "id": "ff568621",
   "metadata": {},
   "outputs": [
    {
     "data": {
      "text/html": [
       "<div>\n",
       "<style scoped>\n",
       "    .dataframe tbody tr th:only-of-type {\n",
       "        vertical-align: middle;\n",
       "    }\n",
       "\n",
       "    .dataframe tbody tr th {\n",
       "        vertical-align: top;\n",
       "    }\n",
       "\n",
       "    .dataframe thead th {\n",
       "        text-align: right;\n",
       "    }\n",
       "</style>\n",
       "<table border=\"1\" class=\"dataframe\">\n",
       "  <thead>\n",
       "    <tr style=\"text-align: right;\">\n",
       "      <th></th>\n",
       "      <th>a</th>\n",
       "      <th>b</th>\n",
       "      <th>c</th>\n",
       "    </tr>\n",
       "  </thead>\n",
       "  <tbody>\n",
       "    <tr>\n",
       "      <th>1</th>\n",
       "      <td>1</td>\n",
       "      <td>2</td>\n",
       "      <td>3</td>\n",
       "    </tr>\n",
       "    <tr>\n",
       "      <th>0</th>\n",
       "      <td>4</td>\n",
       "      <td>5</td>\n",
       "      <td>6</td>\n",
       "    </tr>\n",
       "    <tr>\n",
       "      <th>2</th>\n",
       "      <td>7</td>\n",
       "      <td>8</td>\n",
       "      <td>9</td>\n",
       "    </tr>\n",
       "  </tbody>\n",
       "</table>\n",
       "</div>"
      ],
      "text/plain": [
       "   a  b  c\n",
       "1  1  2  3\n",
       "0  4  5  6\n",
       "2  7  8  9"
      ]
     },
     "execution_count": 2,
     "metadata": {},
     "output_type": "execute_result"
    }
   ],
   "source": [
    "df = pd.DataFrame([[1, 2, 3], [4, 5, 6], [7, 8, 9]], columns=['a', 'b', 'c'],index=[1,0,2])\n",
    "\n",
    "df"
   ]
  },
  {
   "cell_type": "markdown",
   "id": "50afdc20",
   "metadata": {},
   "source": [
    "## df读取\n",
    "DataFrame是以列作为操作的基础的，全部操作都想象成先从DataFrame里取一列，再从这个Series取元素即可。  \n",
    "可以用datafrae.column_name选取列，也可以使用dataframe[]操作选取列   "
   ]
  },
  {
   "cell_type": "code",
   "execution_count": 142,
   "id": "18d36e52",
   "metadata": {},
   "outputs": [
    {
     "data": {
      "text/plain": [
       "1    3\n",
       "2    9\n",
       "Name: c, dtype: int64"
      ]
     },
     "execution_count": 142,
     "metadata": {},
     "output_type": "execute_result"
    }
   ],
   "source": [
    "# ----------  读取一个单元格  ----------\n",
    "df['b'][0]  # 访问特定的元素可以如Series一样使用下标或者是索引 \n",
    "df.b[2]\n",
    "\n",
    "# ----------  loc  ----------\n",
    "# 读取一个单元格\n",
    "df.loc[1]['b']\n",
    "df.loc[1, 'b']\n",
    "df.loc[1].b\n",
    "\n",
    "# 读取一行多列\n",
    "df.loc[1][['a', 'c']]\n",
    "df.loc[1, ['a', 'c']]\n",
    "df.loc[1]['a':'c']\n",
    "df.loc[1, 'a':'c']\n",
    "\n",
    "# 读取多行一列 ，行号不可以用切片。\n",
    "df.loc[[0, 1]]['c']\n",
    "df.loc[[0, 1], 'c']\n",
    "df.loc[[0, 1]].b\n",
    "\n",
    "# ----------  iloc  ----------\n",
    "# 读取一个单元格\n",
    "df.iloc[1]['c']\n",
    "df.iloc[1].c\n",
    "df.iloc[1][2]\n",
    "df.iloc[1, 2]\n",
    "# 以下不支持\n",
    "# df.iloc[1,'c']\n",
    "\n",
    "# 读取一行多列\n",
    "df.iloc[1, 0:2]\n",
    "df.iloc[1][0:2]\n",
    "df.iloc[1, [0, 1]]\n",
    "df.iloc[1][[0, 1]]\n",
    "df.iloc[1]['a':'c']\n",
    "# 以下不支持\n",
    "# df.iloc[1,['a','c']]\n",
    "# df.iloc[1,'a':'c']\n",
    "\n",
    "# 读取多行一列\n",
    "df.iloc[0:1, 1]\n",
    "df.iloc[0:1]['c']\n",
    "df.iloc[[0, 2], 2]\n",
    "# 以下不支持\n",
    "# df.iloc[:,'c']"
   ]
  },
  {
   "cell_type": "code",
   "execution_count": 129,
   "id": "7f825755",
   "metadata": {
    "scrolled": true
   },
   "outputs": [
    {
     "name": "stdout",
     "output_type": "stream",
     "text": [
      "<class 'pandas.core.frame.DataFrame'>\n",
      "<class 'pandas.core.series.Series'>\n",
      "   a  c\n",
      "1  1  3\n",
      "0  4  6\n",
      "2  7  9\n"
     ]
    }
   ],
   "source": [
    "# 拿到的数据类型不一样\n",
    "print(type(df[['a']]))\n",
    "print(type(df['a']))\n",
    "\n",
    "# 取多列\n",
    "print(df[['a','c']])"
   ]
  },
  {
   "cell_type": "code",
   "execution_count": 4,
   "id": "d4396825",
   "metadata": {},
   "outputs": [
    {
     "name": "stdout",
     "output_type": "stream",
     "text": [
      "        0       1       2\n",
      "0  [1, 2]  [3, 4]  [5, 6]\n",
      "------\n",
      "(1, 3)\n",
      "2\n",
      "3\n",
      "1\n"
     ]
    }
   ],
   "source": [
    "# dataframe 似乎只是二维的？？\n",
    "df2 = pd.DataFrame([[[1, 2], [3, 4], [5, 6]]])\n",
    "print(df2)\n",
    "print('------')\n",
    "print(df2.shape)\n",
    "print(df2.ndim)\n",
    "print(df2.size)\n",
    "print(len(df2))  # len为表格行数"
   ]
  },
  {
   "cell_type": "code",
   "execution_count": 14,
   "id": "957775b7",
   "metadata": {},
   "outputs": [
    {
     "data": {
      "text/plain": [
       "array([[ 0.,  0.,  0.,  0.,  0.],\n",
       "       [ 1.,  2.,  3.,  4.,  5.],\n",
       "       [ 2.,  4.,  6.,  8., 10.],\n",
       "       [ 3.,  6.,  9., 12., 15.],\n",
       "       [ 4.,  8., 12., 16., 20.]])"
      ]
     },
     "execution_count": 14,
     "metadata": {},
     "output_type": "execute_result"
    }
   ],
   "source": [
    "# df.values是ndarray\n",
    "df.values"
   ]
  },
  {
   "cell_type": "code",
   "execution_count": 3,
   "id": "52afa6e5",
   "metadata": {
    "scrolled": false
   },
   "outputs": [
    {
     "data": {
      "text/html": [
       "<div>\n",
       "<style scoped>\n",
       "    .dataframe tbody tr th:only-of-type {\n",
       "        vertical-align: middle;\n",
       "    }\n",
       "\n",
       "    .dataframe tbody tr th {\n",
       "        vertical-align: top;\n",
       "    }\n",
       "\n",
       "    .dataframe thead th {\n",
       "        text-align: right;\n",
       "    }\n",
       "</style>\n",
       "<table border=\"1\" class=\"dataframe\">\n",
       "  <thead>\n",
       "    <tr style=\"text-align: right;\">\n",
       "      <th></th>\n",
       "      <th>1</th>\n",
       "      <th>0</th>\n",
       "      <th>2</th>\n",
       "    </tr>\n",
       "  </thead>\n",
       "  <tbody>\n",
       "    <tr>\n",
       "      <th>a</th>\n",
       "      <td>1</td>\n",
       "      <td>4</td>\n",
       "      <td>7</td>\n",
       "    </tr>\n",
       "    <tr>\n",
       "      <th>b</th>\n",
       "      <td>2</td>\n",
       "      <td>5</td>\n",
       "      <td>8</td>\n",
       "    </tr>\n",
       "    <tr>\n",
       "      <th>c</th>\n",
       "      <td>3</td>\n",
       "      <td>6</td>\n",
       "      <td>9</td>\n",
       "    </tr>\n",
       "  </tbody>\n",
       "</table>\n",
       "</div>"
      ],
      "text/plain": [
       "   1  0  2\n",
       "a  1  4  7\n",
       "b  2  5  8\n",
       "c  3  6  9"
      ]
     },
     "execution_count": 3,
     "metadata": {},
     "output_type": "execute_result"
    }
   ],
   "source": [
    "# df.T 行列互换\n",
    "df.T"
   ]
  },
  {
   "cell_type": "markdown",
   "id": "fe9341e7",
   "metadata": {},
   "source": [
    "选取行还可以使用切片的方式或者是布尔类型的向量"
   ]
  },
  {
   "cell_type": "code",
   "execution_count": 10,
   "id": "8b53fafb",
   "metadata": {},
   "outputs": [
    {
     "data": {
      "text/html": [
       "<div>\n",
       "<style scoped>\n",
       "    .dataframe tbody tr th:only-of-type {\n",
       "        vertical-align: middle;\n",
       "    }\n",
       "\n",
       "    .dataframe tbody tr th {\n",
       "        vertical-align: top;\n",
       "    }\n",
       "\n",
       "    .dataframe thead th {\n",
       "        text-align: right;\n",
       "    }\n",
       "</style>\n",
       "<table border=\"1\" class=\"dataframe\">\n",
       "  <thead>\n",
       "    <tr style=\"text-align: right;\">\n",
       "      <th></th>\n",
       "      <th>a</th>\n",
       "      <th>b</th>\n",
       "      <th>c</th>\n",
       "    </tr>\n",
       "  </thead>\n",
       "  <tbody>\n",
       "    <tr>\n",
       "      <th>1</th>\n",
       "      <td>1</td>\n",
       "      <td>2</td>\n",
       "      <td>3</td>\n",
       "    </tr>\n",
       "    <tr>\n",
       "      <th>2</th>\n",
       "      <td>7</td>\n",
       "      <td>8</td>\n",
       "      <td>9</td>\n",
       "    </tr>\n",
       "  </tbody>\n",
       "</table>\n",
       "</div>"
      ],
      "text/plain": [
       "   a  b  c\n",
       "1  1  2  3\n",
       "2  7  8  9"
      ]
     },
     "execution_count": 10,
     "metadata": {},
     "output_type": "execute_result"
    }
   ],
   "source": [
    "df[1:4]\n",
    "bool_vec = [True, False, True]\n",
    "df[bool_vec]"
   ]
  },
  {
   "cell_type": "markdown",
   "id": "d73c053e",
   "metadata": {},
   "source": [
    "行列组合起来选取数据："
   ]
  },
  {
   "cell_type": "code",
   "execution_count": 22,
   "id": "65646630",
   "metadata": {
    "scrolled": true
   },
   "outputs": [
    {
     "name": "stdout",
     "output_type": "stream",
     "text": [
      "   a  b  c\n",
      "1  1  2  3\n",
      "0  4  5  6\n",
      "2  7  8  9\n",
      "   a  c\n",
      "1  1  3\n",
      "2  7  9\n",
      "   a  c\n",
      "1  1  3\n",
      "2  7  9\n",
      "   a  c\n",
      "0  4  6\n",
      "2  7  9\n",
      "   a  c\n",
      "0  4  6\n",
      "2  7  9\n"
     ]
    }
   ],
   "source": [
    "print(df)\n",
    "print(df.iloc[[0, 2]][['a', 'c']])\n",
    "print(df[['a', 'c']].iloc[[0, 2]])\n",
    "print(df.loc[[0, 2]][['a', 'c']])\n",
    "print(df[['a', 'c']].loc[[0, 2]])"
   ]
  },
  {
   "cell_type": "markdown",
   "id": "108b24af",
   "metadata": {},
   "source": [
    "如果不是需要访问特定行列，而只是某个特殊位置的元素的话，dataframe.at和dataframe.iat是最快的方式，它们分别用于使用索引和下标进行访问"
   ]
  },
  {
   "cell_type": "code",
   "execution_count": 25,
   "id": "b7e0bdde",
   "metadata": {},
   "outputs": [
    {
     "name": "stdout",
     "output_type": "stream",
     "text": [
      "6\n",
      "3\n"
     ]
    }
   ],
   "source": [
    "print(df.at[0,'c'])\n",
    "print(df.iat[0,2])"
   ]
  },
  {
   "cell_type": "markdown",
   "id": "82fb8e65",
   "metadata": {},
   "source": [
    "## df创建"
   ]
  },
  {
   "cell_type": "code",
   "execution_count": 23,
   "id": "47bd533d",
   "metadata": {
    "scrolled": true
   },
   "outputs": [
    {
     "name": "stdout",
     "output_type": "stream",
     "text": [
      "   one  two  three  four five\n",
      "a  1.0  1.0      0   1.0    f\n",
      "b  2.0  2.0      1   1.0    f\n",
      "c  3.0  3.0      2   1.0    f\n",
      "d  NaN  4.0      3   1.0    f\n"
     ]
    }
   ],
   "source": [
    "d={'one':pd.Series([1.,2.,3.],index=['a','b','c']),\n",
    "   'two':pd.Series([1.,2.,3.,4.,],index=['a','b','c','d']),\n",
    "   'three':range(4),\n",
    "   'four':1.,\n",
    "   'five':'f'}\n",
    "df3=pd.DataFrame(d)\n",
    "print(df3)"
   ]
  },
  {
   "cell_type": "markdown",
   "id": "be222f21",
   "metadata": {},
   "source": [
    "DataFrame也可以从值是数组的字典创建，但是各个数组的长度需要相同："
   ]
  },
  {
   "cell_type": "code",
   "execution_count": 34,
   "id": "fb821e6c",
   "metadata": {
    "scrolled": true
   },
   "outputs": [
    {
     "name": "stdout",
     "output_type": "stream",
     "text": [
      "   one  two\n",
      "a  1.0  4.0\n",
      "b  2.0  3.0\n",
      "c  3.0  2.0\n",
      "d  4.0  1.0\n"
     ]
    }
   ],
   "source": [
    "d = {'one': [1., 2., 3., 4.], 'two': [4., 3., 2., 1.]}\n",
    "df = pd.DataFrame(d, index=['a', 'b', 'c', 'd'])\n",
    "print(df)"
   ]
  },
  {
   "cell_type": "markdown",
   "id": "04600da0",
   "metadata": {},
   "source": [
    "值非数组时，没有这一限制，并且缺失值补成NaN"
   ]
  },
  {
   "cell_type": "code",
   "execution_count": 35,
   "id": "aca3f1c6",
   "metadata": {
    "scrolled": true
   },
   "outputs": [
    {
     "name": "stdout",
     "output_type": "stream",
     "text": [
      "     a  b    c\n",
      "0  1.6  2  NaN\n",
      "1  3.0  6  9.0\n"
     ]
    }
   ],
   "source": [
    "d= [{'a': 1.6, 'b': 2}, {'a': 3, 'b': 6, 'c': 9}]\n",
    "df = pd.DataFrame(d)\n",
    "print(df)"
   ]
  },
  {
   "cell_type": "markdown",
   "id": "9ba304e6",
   "metadata": {},
   "source": [
    "在实际处理数据时，有时需要创建一个空的DataFrame，可以这么做"
   ]
  },
  {
   "cell_type": "code",
   "execution_count": 37,
   "id": "c5230a2e",
   "metadata": {
    "scrolled": true
   },
   "outputs": [
    {
     "name": "stdout",
     "output_type": "stream",
     "text": [
      "Empty DataFrame\n",
      "Columns: []\n",
      "Index: []\n"
     ]
    }
   ],
   "source": [
    "df = pd.DataFrame()\n",
    "print(df)"
   ]
  },
  {
   "cell_type": "markdown",
   "id": "daef0438",
   "metadata": {},
   "source": [
    "另一种创建DataFrame的方法十分有用，那就是使用concat函数基于Series或者DataFrame创建一个DataFrame"
   ]
  },
  {
   "cell_type": "code",
   "execution_count": 39,
   "id": "92cc1061",
   "metadata": {},
   "outputs": [
    {
     "name": "stdout",
     "output_type": "stream",
     "text": [
      "   0     1\n",
      "0  0   4.0\n",
      "1  1   8.0\n",
      "2  2  12.0\n",
      "3  3  16.0\n",
      "4  4  20.0\n"
     ]
    }
   ],
   "source": [
    "a = Series(range(5))   #range(5)产生0到4\n",
    "b = Series(np.linspace(4, 20, 5)) #linspace(a,b,c)\n",
    "df = pd.concat([a, b], axis=1)\n",
    "print (df)"
   ]
  },
  {
   "cell_type": "markdown",
   "id": "49f24f97",
   "metadata": {},
   "source": [
    "# df.loc与iloc区别\n",
    "loc定位的是dataframe本身的index；iloc 按位置去取，第多少行。"
   ]
  },
  {
   "cell_type": "code",
   "execution_count": 149,
   "id": "a84ea7d4",
   "metadata": {
    "scrolled": false
   },
   "outputs": [
    {
     "name": "stdout",
     "output_type": "stream",
     "text": [
      "   a  b  c\n",
      "1  1  2  3\n",
      "0  4  5  6\n",
      "2  7  8  9\n"
     ]
    },
    {
     "data": {
      "text/plain": [
       "a    4\n",
       "b    5\n",
       "c    6\n",
       "Name: 0, dtype: int64"
      ]
     },
     "execution_count": 149,
     "metadata": {},
     "output_type": "execute_result"
    }
   ],
   "source": [
    "print(df)\n",
    "df.loc[0]"
   ]
  },
  {
   "cell_type": "code",
   "execution_count": 148,
   "id": "ab214291",
   "metadata": {
    "scrolled": false
   },
   "outputs": [
    {
     "data": {
      "text/plain": [
       "a    1\n",
       "b    2\n",
       "c    3\n",
       "Name: 1, dtype: int64"
      ]
     },
     "execution_count": 148,
     "metadata": {},
     "output_type": "execute_result"
    }
   ],
   "source": [
    "df.iloc[0]"
   ]
  },
  {
   "cell_type": "code",
   "execution_count": 73,
   "id": "f2006e73",
   "metadata": {
    "scrolled": true
   },
   "outputs": [
    {
     "data": {
      "text/html": [
       "<div>\n",
       "<style scoped>\n",
       "    .dataframe tbody tr th:only-of-type {\n",
       "        vertical-align: middle;\n",
       "    }\n",
       "\n",
       "    .dataframe tbody tr th {\n",
       "        vertical-align: top;\n",
       "    }\n",
       "\n",
       "    .dataframe thead th {\n",
       "        text-align: right;\n",
       "    }\n",
       "</style>\n",
       "<table border=\"1\" class=\"dataframe\">\n",
       "  <thead>\n",
       "    <tr style=\"text-align: right;\">\n",
       "      <th></th>\n",
       "      <th>b</th>\n",
       "    </tr>\n",
       "  </thead>\n",
       "  <tbody>\n",
       "    <tr>\n",
       "      <th>1</th>\n",
       "      <td>2</td>\n",
       "    </tr>\n",
       "    <tr>\n",
       "      <th>0</th>\n",
       "      <td>5</td>\n",
       "    </tr>\n",
       "    <tr>\n",
       "      <th>2</th>\n",
       "      <td>8</td>\n",
       "    </tr>\n",
       "  </tbody>\n",
       "</table>\n",
       "</div>"
      ],
      "text/plain": [
       "   b\n",
       "1  2\n",
       "0  5\n",
       "2  8"
      ]
     },
     "execution_count": 73,
     "metadata": {},
     "output_type": "execute_result"
    }
   ],
   "source": [
    "# 直接通过列号读取，不包括end\n",
    "df.iloc[:,1:2]"
   ]
  },
  {
   "cell_type": "code",
   "execution_count": 75,
   "id": "480bf90a",
   "metadata": {},
   "outputs": [
    {
     "data": {
      "text/html": [
       "<div>\n",
       "<style scoped>\n",
       "    .dataframe tbody tr th:only-of-type {\n",
       "        vertical-align: middle;\n",
       "    }\n",
       "\n",
       "    .dataframe tbody tr th {\n",
       "        vertical-align: top;\n",
       "    }\n",
       "\n",
       "    .dataframe thead th {\n",
       "        text-align: right;\n",
       "    }\n",
       "</style>\n",
       "<table border=\"1\" class=\"dataframe\">\n",
       "  <thead>\n",
       "    <tr style=\"text-align: right;\">\n",
       "      <th></th>\n",
       "      <th>b</th>\n",
       "      <th>c</th>\n",
       "    </tr>\n",
       "  </thead>\n",
       "  <tbody>\n",
       "    <tr>\n",
       "      <th>1</th>\n",
       "      <td>2</td>\n",
       "      <td>3</td>\n",
       "    </tr>\n",
       "    <tr>\n",
       "      <th>0</th>\n",
       "      <td>5</td>\n",
       "      <td>6</td>\n",
       "    </tr>\n",
       "    <tr>\n",
       "      <th>2</th>\n",
       "      <td>8</td>\n",
       "      <td>9</td>\n",
       "    </tr>\n",
       "  </tbody>\n",
       "</table>\n",
       "</div>"
      ],
      "text/plain": [
       "   b  c\n",
       "1  2  3\n",
       "0  5  6\n",
       "2  8  9"
      ]
     },
     "execution_count": 75,
     "metadata": {},
     "output_type": "execute_result"
    }
   ],
   "source": [
    "# loc 包括end\n",
    "df.loc[:,'b':'c']"
   ]
  },
  {
   "cell_type": "markdown",
   "id": "5158bd5f",
   "metadata": {},
   "source": [
    "# DataFrame 按条件筛选"
   ]
  },
  {
   "cell_type": "code",
   "execution_count": 146,
   "id": "7b03bc3b",
   "metadata": {},
   "outputs": [
    {
     "name": "stdout",
     "output_type": "stream",
     "text": [
      "   a  b  c\n",
      "1  1  2  3\n",
      "0  4  5  6\n",
      "2  7  8  9\n"
     ]
    },
    {
     "data": {
      "text/html": [
       "<div>\n",
       "<style scoped>\n",
       "    .dataframe tbody tr th:only-of-type {\n",
       "        vertical-align: middle;\n",
       "    }\n",
       "\n",
       "    .dataframe tbody tr th {\n",
       "        vertical-align: top;\n",
       "    }\n",
       "\n",
       "    .dataframe thead th {\n",
       "        text-align: right;\n",
       "    }\n",
       "</style>\n",
       "<table border=\"1\" class=\"dataframe\">\n",
       "  <thead>\n",
       "    <tr style=\"text-align: right;\">\n",
       "      <th></th>\n",
       "      <th>a</th>\n",
       "      <th>b</th>\n",
       "      <th>c</th>\n",
       "    </tr>\n",
       "  </thead>\n",
       "  <tbody>\n",
       "    <tr>\n",
       "      <th>0</th>\n",
       "      <td>4</td>\n",
       "      <td>5</td>\n",
       "      <td>6</td>\n",
       "    </tr>\n",
       "    <tr>\n",
       "      <th>2</th>\n",
       "      <td>7</td>\n",
       "      <td>8</td>\n",
       "      <td>9</td>\n",
       "    </tr>\n",
       "  </tbody>\n",
       "</table>\n",
       "</div>"
      ],
      "text/plain": [
       "   a  b  c\n",
       "0  4  5  6\n",
       "2  7  8  9"
      ]
     },
     "execution_count": 146,
     "metadata": {},
     "output_type": "execute_result"
    }
   ],
   "source": [
    "print(df)\n",
    "df[df['c'] > 5]"
   ]
  },
  {
   "cell_type": "markdown",
   "id": "ef30a9f0",
   "metadata": {},
   "source": [
    "# DataFrame丢弃指定轴上的值"
   ]
  },
  {
   "cell_type": "code",
   "execution_count": 168,
   "id": "9c7b312d",
   "metadata": {
    "scrolled": true
   },
   "outputs": [
    {
     "name": "stdout",
     "output_type": "stream",
     "text": [
      "   a  b  c\n",
      "0  1  2  3\n",
      "1  4  5  6\n",
      "2  7  8  9\n",
      "   a  b  c\n",
      "1  4  5  6\n",
      "2  7  8  9\n",
      "   a  c\n",
      "0  1  3\n",
      "1  4  6\n",
      "2  7  9\n"
     ]
    }
   ],
   "source": [
    "df2 = pd.DataFrame([[1, 2, 3], [4, 5, 6], [7, 8, 9]], columns=['a', 'b', 'c'])\n",
    "print(df2)\n",
    "print(df2.drop(0))\n",
    "print(df2.drop('b', axis=1))"
   ]
  },
  {
   "cell_type": "markdown",
   "id": "232d4f2d",
   "metadata": {},
   "source": [
    "#  DataFrame 排序 和 汇总统计\n",
    "df.sort_index(axis=1, ascending=False)  按index排序  \n",
    "df.sort_values(by=['a'],ascending=False)  按值排序   "
   ]
  },
  {
   "cell_type": "code",
   "execution_count": 183,
   "id": "a53fef2e",
   "metadata": {},
   "outputs": [
    {
     "name": "stdout",
     "output_type": "stream",
     "text": [
      "   a  b  c\n",
      "0  4  5  6\n",
      "1  1  2  3\n",
      "2  7  8  9\n",
      "\n",
      "   c  b  a\n",
      "1  3  2  1\n",
      "0  6  5  4\n",
      "2  9  8  7\n",
      "\n",
      "   a  b  c\n",
      "2  7  8  9\n",
      "0  4  5  6\n",
      "1  1  2  3\n"
     ]
    }
   ],
   "source": [
    "print(df.sort_index())\n",
    "print()\n",
    "print(df.sort_index(axis=1, ascending=False))\n",
    "print()\n",
    "print(df.sort_values(by=['a','b'],ascending=False))"
   ]
  },
  {
   "cell_type": "code",
   "execution_count": 192,
   "id": "34f86cd1",
   "metadata": {},
   "outputs": [
    {
     "name": "stdout",
     "output_type": "stream",
     "text": [
      "   a  b  c\n",
      "0  1  2  3\n",
      "1  4  5  6\n",
      "2  7  8  9\n"
     ]
    },
    {
     "data": {
      "text/html": [
       "<div>\n",
       "<style scoped>\n",
       "    .dataframe tbody tr th:only-of-type {\n",
       "        vertical-align: middle;\n",
       "    }\n",
       "\n",
       "    .dataframe tbody tr th {\n",
       "        vertical-align: top;\n",
       "    }\n",
       "\n",
       "    .dataframe thead th {\n",
       "        text-align: right;\n",
       "    }\n",
       "</style>\n",
       "<table border=\"1\" class=\"dataframe\">\n",
       "  <thead>\n",
       "    <tr style=\"text-align: right;\">\n",
       "      <th></th>\n",
       "      <th>a</th>\n",
       "      <th>b</th>\n",
       "      <th>c</th>\n",
       "    </tr>\n",
       "  </thead>\n",
       "  <tbody>\n",
       "    <tr>\n",
       "      <th>count</th>\n",
       "      <td>3.0</td>\n",
       "      <td>3.0</td>\n",
       "      <td>3.0</td>\n",
       "    </tr>\n",
       "    <tr>\n",
       "      <th>mean</th>\n",
       "      <td>4.0</td>\n",
       "      <td>5.0</td>\n",
       "      <td>6.0</td>\n",
       "    </tr>\n",
       "    <tr>\n",
       "      <th>std</th>\n",
       "      <td>3.0</td>\n",
       "      <td>3.0</td>\n",
       "      <td>3.0</td>\n",
       "    </tr>\n",
       "    <tr>\n",
       "      <th>min</th>\n",
       "      <td>1.0</td>\n",
       "      <td>2.0</td>\n",
       "      <td>3.0</td>\n",
       "    </tr>\n",
       "    <tr>\n",
       "      <th>25%</th>\n",
       "      <td>2.5</td>\n",
       "      <td>3.5</td>\n",
       "      <td>4.5</td>\n",
       "    </tr>\n",
       "    <tr>\n",
       "      <th>50%</th>\n",
       "      <td>4.0</td>\n",
       "      <td>5.0</td>\n",
       "      <td>6.0</td>\n",
       "    </tr>\n",
       "    <tr>\n",
       "      <th>75%</th>\n",
       "      <td>5.5</td>\n",
       "      <td>6.5</td>\n",
       "      <td>7.5</td>\n",
       "    </tr>\n",
       "    <tr>\n",
       "      <th>max</th>\n",
       "      <td>7.0</td>\n",
       "      <td>8.0</td>\n",
       "      <td>9.0</td>\n",
       "    </tr>\n",
       "  </tbody>\n",
       "</table>\n",
       "</div>"
      ],
      "text/plain": [
       "         a    b    c\n",
       "count  3.0  3.0  3.0\n",
       "mean   4.0  5.0  6.0\n",
       "std    3.0  3.0  3.0\n",
       "min    1.0  2.0  3.0\n",
       "25%    2.5  3.5  4.5\n",
       "50%    4.0  5.0  6.0\n",
       "75%    5.5  6.5  7.5\n",
       "max    7.0  8.0  9.0"
      ]
     },
     "execution_count": 192,
     "metadata": {},
     "output_type": "execute_result"
    }
   ],
   "source": [
    "print(df2)\n",
    "df2.sum(axis=1)\n",
    "df2.max(axis=1)\n",
    "df2.mean()\n",
    "# 使用describe进行统计\n",
    "df2.describe()"
   ]
  },
  {
   "cell_type": "markdown",
   "id": "934a51f2",
   "metadata": {},
   "source": [
    "# Series \n",
    "Series:带索引的一维数组，可以像字典一样通过索引访问。  \n",
    "pandas.Series.values 返回ndarray类型的数据  \n",
    "pandas.Series.index 返回索引值  "
   ]
  },
  {
   "cell_type": "code",
   "execution_count": 14,
   "id": "ebd64608",
   "metadata": {},
   "outputs": [
    {
     "data": {
      "text/plain": [
       "0       1\n",
       "1     abc\n",
       "2      []\n",
       "3    None\n",
       "dtype: object"
      ]
     },
     "execution_count": 14,
     "metadata": {},
     "output_type": "execute_result"
    }
   ],
   "source": [
    "s = pd.Series([1, 'abc', [], None])\n",
    "s"
   ]
  },
  {
   "cell_type": "code",
   "execution_count": 17,
   "id": "a90588dc",
   "metadata": {},
   "outputs": [
    {
     "name": "stdout",
     "output_type": "stream",
     "text": [
      "<class 'numpy.ndarray'>\n"
     ]
    },
    {
     "data": {
      "text/plain": [
       "array([1, 'abc', list([]), None], dtype=object)"
      ]
     },
     "execution_count": 17,
     "metadata": {},
     "output_type": "execute_result"
    }
   ],
   "source": [
    "print(type(s.values))\n",
    "s.values"
   ]
  },
  {
   "cell_type": "code",
   "execution_count": 18,
   "id": "153c9595",
   "metadata": {},
   "outputs": [
    {
     "data": {
      "text/plain": [
       "RangeIndex(start=0, stop=4, step=1)"
      ]
     },
     "execution_count": 18,
     "metadata": {},
     "output_type": "execute_result"
    }
   ],
   "source": [
    "s.index"
   ]
  },
  {
   "cell_type": "code",
   "execution_count": 20,
   "id": "c3df1590",
   "metadata": {},
   "outputs": [
    {
     "data": {
      "text/plain": [
       "(4,)"
      ]
     },
     "execution_count": 20,
     "metadata": {},
     "output_type": "execute_result"
    }
   ],
   "source": [
    "s.shape"
   ]
  },
  {
   "cell_type": "code",
   "execution_count": 64,
   "id": "82022d6a",
   "metadata": {
    "scrolled": true
   },
   "outputs": [
    {
     "name": "stdout",
     "output_type": "stream",
     "text": [
      "a    7\n",
      "b    8\n",
      "c    9\n",
      "Name: 2, dtype: int64\n",
      "\n",
      "7\n",
      "8\n",
      "9\n",
      "a\n",
      "b\n",
      "c\n",
      "('a', 7)\n",
      "('b', 8)\n",
      "('c', 9)\n"
     ]
    }
   ],
   "source": [
    "# serial遍历\n",
    "ser = df.iloc[2]\n",
    "print(ser, end='\\n\\n')\n",
    "\n",
    "# 直接遍历，拿到value\n",
    "for i in ser:\n",
    "    print(i)\n",
    "\n",
    "# 遍历keys，拿到索引\n",
    "for i in ser.keys():\n",
    "    print(i)\n",
    "\n",
    "# 遍历items,拿到索引和数据元素\n",
    "for i in ser.items():\n",
    "    print(i)"
   ]
  },
  {
   "cell_type": "code",
   "execution_count": 18,
   "id": "34948612",
   "metadata": {
    "scrolled": true
   },
   "outputs": [
    {
     "data": {
      "text/plain": [
       "a    0.474333\n",
       "b    0.390072\n",
       "c    0.909928\n",
       "d    1.037165\n",
       "e   -0.486786\n",
       "dtype: float64"
      ]
     },
     "execution_count": 18,
     "metadata": {},
     "output_type": "execute_result"
    }
   ],
   "source": [
    "import numpy as np\n",
    "s= pd.Series(np.random.randn(5),index=['a','b','c','d','e'])\n",
    "s"
   ]
  },
  {
   "cell_type": "markdown",
   "id": "7706fa27",
   "metadata": {},
   "source": [
    "通过dict创建Series，或者指定index"
   ]
  },
  {
   "cell_type": "code",
   "execution_count": 20,
   "id": "44aff51b",
   "metadata": {},
   "outputs": [
    {
     "name": "stdout",
     "output_type": "stream",
     "text": [
      "中国平安    601318\n",
      "格力电器    000651\n",
      "招商银行    600036\n",
      "中信证券    600030\n",
      "贵州茅台    600519\n",
      "dtype: object\n",
      "\n",
      "中国平安    601318\n",
      "格力电器    000651\n",
      "招商银行    600036\n",
      "中信证券    600030\n",
      "工业富联       NaN\n",
      "dtype: object\n",
      "\n",
      "股票名称\n",
      "中国平安    601318\n",
      "格力电器    000651\n",
      "招商银行    600036\n",
      "中信证券    600030\n",
      "贵州茅台    600519\n",
      "Name: 股票代码, dtype: object\n"
     ]
    }
   ],
   "source": [
    "stocks={'中国平安':'601318','格力电器':'000651','招商银行':'600036',\n",
    "        '中信证券':'600030','贵州茅台':'600519'}\n",
    "Series_stocks = pd.Series(stocks)\n",
    "print (Series_stocks)\n",
    "print()\n",
    "\n",
    "tmp1 = pd.Series(stocks, index=['中国平安', '格力电器', '招商银行', '中信证券',\n",
    "                       '工业富联'])\n",
    "print(tmp1)\n",
    "print()\n",
    "\n",
    "Series_stocks.name='股票代码'        #注意python是使用.号来连接和调用\n",
    "Series_stocks.index.name='股票名称'\n",
    "print(Series_stocks)"
   ]
  },
  {
   "cell_type": "markdown",
   "id": "7a0ee1f0",
   "metadata": {},
   "source": [
    "Series取某些行"
   ]
  },
  {
   "cell_type": "code",
   "execution_count": null,
   "id": "e29fb987",
   "metadata": {},
   "outputs": [],
   "source": [
    "np.random.seed(3)\n",
    "data=np.random.randn(5)\n",
    "s = pd.Series(data,index=['a', 'b', 'c', 'd', 'e'])\n",
    "print(s)\n",
    "print(s[:2])\n",
    "print(s[[2,0,4]])\n",
    "print(s[['e', 'a']])"
   ]
  },
  {
   "cell_type": "markdown",
   "id": "63e6940e",
   "metadata": {},
   "source": [
    "# Series排序\n",
    "s.sort_index 按索引排序  \n",
    "s.sort_values 按值排序  \n",
    "s.idxmax()  返回含有最大值的索引位置    \n",
    "s.idxmin()  返回含有最小值的索引位置  "
   ]
  },
  {
   "cell_type": "code",
   "execution_count": 22,
   "id": "01d8921c",
   "metadata": {},
   "outputs": [
    {
     "name": "stdout",
     "output_type": "stream",
     "text": [
      "j    1.788628\n",
      "a    0.436510\n",
      "c    0.096497\n",
      "b   -1.863493\n",
      "d   -0.277388\n",
      "e   -0.354759\n",
      "h   -0.082741\n",
      "f   -0.627001\n",
      "g   -0.043818\n",
      "i   -0.477218\n",
      "dtype: float64\n",
      "a    0.436510\n",
      "b   -1.863493\n",
      "c    0.096497\n",
      "d   -0.277388\n",
      "e   -0.354759\n",
      "f   -0.627001\n",
      "g   -0.043818\n",
      "h   -0.082741\n",
      "i   -0.477218\n",
      "j    1.788628\n",
      "dtype: float64\n",
      "b   -1.863493\n",
      "f   -0.627001\n",
      "i   -0.477218\n",
      "e   -0.354759\n",
      "d   -0.277388\n",
      "h   -0.082741\n",
      "g   -0.043818\n",
      "c    0.096497\n",
      "a    0.436510\n",
      "j    1.788628\n",
      "dtype: float64\n",
      "j    10.0\n",
      "a     9.0\n",
      "c     8.0\n",
      "b     1.0\n",
      "d     5.0\n",
      "e     4.0\n",
      "h     6.0\n",
      "f     2.0\n",
      "g     7.0\n",
      "i     3.0\n",
      "dtype: float64\n",
      "j\n",
      "b\n"
     ]
    }
   ],
   "source": [
    "from pandas import Series\n",
    "\n",
    "np.random.seed(3)\n",
    "data=np.random.randn(10)\n",
    "s = Series(data,index=['j','a', 'c','b', 'd', 'e','h','f','g','i'])\n",
    "print(s)\n",
    "print(s.sort_index(ascending=True))\n",
    "print(s.sort_values(ascending=True))\n",
    "print(s.rank(method='average',ascending=True,axis=0)) #每个数的平均排名\n",
    "#返回含有最大值的索引位置：\n",
    "print(s.idxmax())\n",
    "#返回含有最小值的索引位置：\n",
    "print(s.idxmin())"
   ]
  },
  {
   "cell_type": "markdown",
   "id": "de95f70a",
   "metadata": {},
   "source": [
    "# df.rolling()   quantile()\n",
    "quantile 样本分位数（百分位上的值）\n",
    "- q : float or array-like, default 0.5 (50% quantile 即中位数-第2四分位数)  \n",
    "0 <= q <= 1, the quantile(s) to compute\n",
    "\n",
    "- axis : {0, 1, ‘index’, ‘columns’} (default  0)  \n",
    "0 or ‘index’ for row-wise, 1 or ‘columns’ for column-wise\n",
    "\n",
    "- interpolation（插值方法） : {‘linear’, ‘lower’, ‘higher’, ‘midpoint’, ‘nearest’}  \n",
    "\n",
    "当选中的分为点位于两个数数据点 i and j 之间时:  \n",
    "    linear: i + (j - i) * fraction, fraction由计算得到的pos的小数部分（可以通过下面一个例子来理解这个fraction）；  \n",
    "    lower: i.  \n",
    "    higher: j.  \n",
    "    nearest: i or j whichever is nearest.  \n",
    "    midpoint: (i + j) / 2.  \n",
    "    \n",
    "    \n",
    "**rolling**  \n",
    "rolling()函数除了mean()，还支持很多函数，比如：  \n",
    "count() 非空观测值数量  \n",
    "sum() 值的总和  \n",
    "median() 值的算术中值  \n",
    "min() 最小值  \n",
    "max() 最大  \n",
    "std() 贝塞尔修正样本标准差  \n",
    "var() 无偏方差  \n",
    "skew() 样品偏斜度（三阶矩）  \n",
    "kurt() 样品峰度（四阶矩）  \n",
    "quantile() 样本分位数（百分位上的值）  \n",
    "cov() 无偏协方差（二元）  \n",
    "corr() 相关（二进制）  \n",
    "借助 agg ()函数可以快速实现多个聚类函数，并输出结果，同时还可以进行重命名  "
   ]
  },
  {
   "cell_type": "code",
   "execution_count": 2,
   "id": "d822b4e8",
   "metadata": {
    "scrolled": true
   },
   "outputs": [
    {
     "data": {
      "text/html": [
       "<div>\n",
       "<style scoped>\n",
       "    .dataframe tbody tr th:only-of-type {\n",
       "        vertical-align: middle;\n",
       "    }\n",
       "\n",
       "    .dataframe tbody tr th {\n",
       "        vertical-align: top;\n",
       "    }\n",
       "\n",
       "    .dataframe thead th {\n",
       "        text-align: right;\n",
       "    }\n",
       "</style>\n",
       "<table border=\"1\" class=\"dataframe\">\n",
       "  <thead>\n",
       "    <tr style=\"text-align: right;\">\n",
       "      <th></th>\n",
       "      <th>A</th>\n",
       "      <th>B</th>\n",
       "      <th>C</th>\n",
       "      <th>D</th>\n",
       "    </tr>\n",
       "  </thead>\n",
       "  <tbody>\n",
       "    <tr>\n",
       "      <th>2020-01-01</th>\n",
       "      <td>-0.996342</td>\n",
       "      <td>-0.363682</td>\n",
       "      <td>1.153177</td>\n",
       "      <td>-0.916645</td>\n",
       "    </tr>\n",
       "    <tr>\n",
       "      <th>2020-01-02</th>\n",
       "      <td>0.496091</td>\n",
       "      <td>-0.418254</td>\n",
       "      <td>-1.489846</td>\n",
       "      <td>-0.602412</td>\n",
       "    </tr>\n",
       "    <tr>\n",
       "      <th>2020-01-03</th>\n",
       "      <td>0.620132</td>\n",
       "      <td>0.390234</td>\n",
       "      <td>0.374735</td>\n",
       "      <td>-0.021790</td>\n",
       "    </tr>\n",
       "    <tr>\n",
       "      <th>2020-01-04</th>\n",
       "      <td>-0.139881</td>\n",
       "      <td>0.998500</td>\n",
       "      <td>0.113272</td>\n",
       "      <td>-1.056277</td>\n",
       "    </tr>\n",
       "    <tr>\n",
       "      <th>2020-01-05</th>\n",
       "      <td>-0.095603</td>\n",
       "      <td>1.100106</td>\n",
       "      <td>0.628062</td>\n",
       "      <td>0.156176</td>\n",
       "    </tr>\n",
       "    <tr>\n",
       "      <th>2020-01-06</th>\n",
       "      <td>0.129116</td>\n",
       "      <td>1.537998</td>\n",
       "      <td>0.059351</td>\n",
       "      <td>0.435837</td>\n",
       "    </tr>\n",
       "    <tr>\n",
       "      <th>2020-01-07</th>\n",
       "      <td>-0.407311</td>\n",
       "      <td>-0.212661</td>\n",
       "      <td>-1.208436</td>\n",
       "      <td>-0.752958</td>\n",
       "    </tr>\n",
       "  </tbody>\n",
       "</table>\n",
       "</div>"
      ],
      "text/plain": [
       "                   A         B         C         D\n",
       "2020-01-01 -0.996342 -0.363682  1.153177 -0.916645\n",
       "2020-01-02  0.496091 -0.418254 -1.489846 -0.602412\n",
       "2020-01-03  0.620132  0.390234  0.374735 -0.021790\n",
       "2020-01-04 -0.139881  0.998500  0.113272 -1.056277\n",
       "2020-01-05 -0.095603  1.100106  0.628062  0.156176\n",
       "2020-01-06  0.129116  1.537998  0.059351  0.435837\n",
       "2020-01-07 -0.407311 -0.212661 -1.208436 -0.752958"
      ]
     },
     "execution_count": 2,
     "metadata": {},
     "output_type": "execute_result"
    }
   ],
   "source": [
    "import pandas as pd\n",
    "import numpy as np\n",
    "\n",
    "df = pd.DataFrame(np.random.randn(7, 4),\n",
    "                  index=pd.date_range('1/1/2020', periods=7),\n",
    "                  columns=['A', 'B', 'C', 'D'])\n",
    "df"
   ]
  },
  {
   "cell_type": "code",
   "execution_count": 4,
   "id": "2d09e92f",
   "metadata": {},
   "outputs": [
    {
     "data": {
      "text/html": [
       "<div>\n",
       "<style scoped>\n",
       "    .dataframe tbody tr th:only-of-type {\n",
       "        vertical-align: middle;\n",
       "    }\n",
       "\n",
       "    .dataframe tbody tr th {\n",
       "        vertical-align: top;\n",
       "    }\n",
       "\n",
       "    .dataframe thead th {\n",
       "        text-align: right;\n",
       "    }\n",
       "</style>\n",
       "<table border=\"1\" class=\"dataframe\">\n",
       "  <thead>\n",
       "    <tr style=\"text-align: right;\">\n",
       "      <th></th>\n",
       "      <th>A</th>\n",
       "      <th>B</th>\n",
       "      <th>C</th>\n",
       "      <th>D</th>\n",
       "    </tr>\n",
       "  </thead>\n",
       "  <tbody>\n",
       "    <tr>\n",
       "      <th>2020-01-01</th>\n",
       "      <td>NaN</td>\n",
       "      <td>NaN</td>\n",
       "      <td>NaN</td>\n",
       "      <td>NaN</td>\n",
       "    </tr>\n",
       "    <tr>\n",
       "      <th>2020-01-02</th>\n",
       "      <td>NaN</td>\n",
       "      <td>NaN</td>\n",
       "      <td>NaN</td>\n",
       "      <td>NaN</td>\n",
       "    </tr>\n",
       "    <tr>\n",
       "      <th>2020-01-03</th>\n",
       "      <td>0.039961</td>\n",
       "      <td>-0.130567</td>\n",
       "      <td>0.012689</td>\n",
       "      <td>-0.513616</td>\n",
       "    </tr>\n",
       "    <tr>\n",
       "      <th>2020-01-04</th>\n",
       "      <td>0.325448</td>\n",
       "      <td>0.323493</td>\n",
       "      <td>-0.333946</td>\n",
       "      <td>-0.560160</td>\n",
       "    </tr>\n",
       "    <tr>\n",
       "      <th>2020-01-05</th>\n",
       "      <td>0.128216</td>\n",
       "      <td>0.829613</td>\n",
       "      <td>0.372023</td>\n",
       "      <td>-0.307297</td>\n",
       "    </tr>\n",
       "    <tr>\n",
       "      <th>2020-01-06</th>\n",
       "      <td>-0.035456</td>\n",
       "      <td>1.212201</td>\n",
       "      <td>0.266895</td>\n",
       "      <td>-0.154755</td>\n",
       "    </tr>\n",
       "    <tr>\n",
       "      <th>2020-01-07</th>\n",
       "      <td>-0.124599</td>\n",
       "      <td>0.808481</td>\n",
       "      <td>-0.173674</td>\n",
       "      <td>-0.053648</td>\n",
       "    </tr>\n",
       "  </tbody>\n",
       "</table>\n",
       "</div>"
      ],
      "text/plain": [
       "                   A         B         C         D\n",
       "2020-01-01       NaN       NaN       NaN       NaN\n",
       "2020-01-02       NaN       NaN       NaN       NaN\n",
       "2020-01-03  0.039961 -0.130567  0.012689 -0.513616\n",
       "2020-01-04  0.325448  0.323493 -0.333946 -0.560160\n",
       "2020-01-05  0.128216  0.829613  0.372023 -0.307297\n",
       "2020-01-06 -0.035456  1.212201  0.266895 -0.154755\n",
       "2020-01-07 -0.124599  0.808481 -0.173674 -0.053648"
      ]
     },
     "execution_count": 4,
     "metadata": {},
     "output_type": "execute_result"
    }
   ],
   "source": [
    "df.rolling(window=3).mean()"
   ]
  },
  {
   "cell_type": "code",
   "execution_count": 5,
   "id": "651e2e86",
   "metadata": {},
   "outputs": [
    {
     "data": {
      "text/html": [
       "<div>\n",
       "<style scoped>\n",
       "    .dataframe tbody tr th:only-of-type {\n",
       "        vertical-align: middle;\n",
       "    }\n",
       "\n",
       "    .dataframe tbody tr th {\n",
       "        vertical-align: top;\n",
       "    }\n",
       "\n",
       "    .dataframe thead th {\n",
       "        text-align: right;\n",
       "    }\n",
       "</style>\n",
       "<table border=\"1\" class=\"dataframe\">\n",
       "  <thead>\n",
       "    <tr style=\"text-align: right;\">\n",
       "      <th></th>\n",
       "      <th>A</th>\n",
       "      <th>B</th>\n",
       "      <th>C</th>\n",
       "      <th>D</th>\n",
       "    </tr>\n",
       "  </thead>\n",
       "  <tbody>\n",
       "    <tr>\n",
       "      <th>2020-01-01</th>\n",
       "      <td>-0.996342</td>\n",
       "      <td>-0.363682</td>\n",
       "      <td>1.153177</td>\n",
       "      <td>-0.916645</td>\n",
       "    </tr>\n",
       "    <tr>\n",
       "      <th>2020-01-02</th>\n",
       "      <td>-0.250125</td>\n",
       "      <td>-0.390968</td>\n",
       "      <td>-0.168334</td>\n",
       "      <td>-0.759528</td>\n",
       "    </tr>\n",
       "    <tr>\n",
       "      <th>2020-01-03</th>\n",
       "      <td>0.039961</td>\n",
       "      <td>-0.130567</td>\n",
       "      <td>0.012689</td>\n",
       "      <td>-0.513616</td>\n",
       "    </tr>\n",
       "    <tr>\n",
       "      <th>2020-01-04</th>\n",
       "      <td>0.325448</td>\n",
       "      <td>0.323493</td>\n",
       "      <td>-0.333946</td>\n",
       "      <td>-0.560160</td>\n",
       "    </tr>\n",
       "    <tr>\n",
       "      <th>2020-01-05</th>\n",
       "      <td>0.128216</td>\n",
       "      <td>0.829613</td>\n",
       "      <td>0.372023</td>\n",
       "      <td>-0.307297</td>\n",
       "    </tr>\n",
       "    <tr>\n",
       "      <th>2020-01-06</th>\n",
       "      <td>-0.035456</td>\n",
       "      <td>1.212201</td>\n",
       "      <td>0.266895</td>\n",
       "      <td>-0.154755</td>\n",
       "    </tr>\n",
       "    <tr>\n",
       "      <th>2020-01-07</th>\n",
       "      <td>-0.124599</td>\n",
       "      <td>0.808481</td>\n",
       "      <td>-0.173674</td>\n",
       "      <td>-0.053648</td>\n",
       "    </tr>\n",
       "  </tbody>\n",
       "</table>\n",
       "</div>"
      ],
      "text/plain": [
       "                   A         B         C         D\n",
       "2020-01-01 -0.996342 -0.363682  1.153177 -0.916645\n",
       "2020-01-02 -0.250125 -0.390968 -0.168334 -0.759528\n",
       "2020-01-03  0.039961 -0.130567  0.012689 -0.513616\n",
       "2020-01-04  0.325448  0.323493 -0.333946 -0.560160\n",
       "2020-01-05  0.128216  0.829613  0.372023 -0.307297\n",
       "2020-01-06 -0.035456  1.212201  0.266895 -0.154755\n",
       "2020-01-07 -0.124599  0.808481 -0.173674 -0.053648"
      ]
     },
     "execution_count": 5,
     "metadata": {},
     "output_type": "execute_result"
    }
   ],
   "source": [
    "df.rolling(window=3,min_periods=1).mean()"
   ]
  },
  {
   "cell_type": "code",
   "execution_count": 10,
   "id": "035de74c",
   "metadata": {},
   "outputs": [
    {
     "data": {
      "text/html": [
       "<div>\n",
       "<style scoped>\n",
       "    .dataframe tbody tr th:only-of-type {\n",
       "        vertical-align: middle;\n",
       "    }\n",
       "\n",
       "    .dataframe tbody tr th {\n",
       "        vertical-align: top;\n",
       "    }\n",
       "\n",
       "    .dataframe thead th {\n",
       "        text-align: right;\n",
       "    }\n",
       "</style>\n",
       "<table border=\"1\" class=\"dataframe\">\n",
       "  <thead>\n",
       "    <tr style=\"text-align: right;\">\n",
       "      <th></th>\n",
       "      <th>A</th>\n",
       "      <th>B</th>\n",
       "      <th>C</th>\n",
       "      <th>D</th>\n",
       "    </tr>\n",
       "  </thead>\n",
       "  <tbody>\n",
       "    <tr>\n",
       "      <th>2020-01-01</th>\n",
       "      <td>-0.996342</td>\n",
       "      <td>-0.363682</td>\n",
       "      <td>1.153177</td>\n",
       "      <td>-0.916645</td>\n",
       "    </tr>\n",
       "    <tr>\n",
       "      <th>2020-01-02</th>\n",
       "      <td>-0.623233</td>\n",
       "      <td>-0.404611</td>\n",
       "      <td>-0.829090</td>\n",
       "      <td>-0.838086</td>\n",
       "    </tr>\n",
       "    <tr>\n",
       "      <th>2020-01-03</th>\n",
       "      <td>-0.250125</td>\n",
       "      <td>-0.390968</td>\n",
       "      <td>-0.557556</td>\n",
       "      <td>-0.759528</td>\n",
       "    </tr>\n",
       "    <tr>\n",
       "      <th>2020-01-04</th>\n",
       "      <td>0.178105</td>\n",
       "      <td>-0.014010</td>\n",
       "      <td>-0.688287</td>\n",
       "      <td>-0.829345</td>\n",
       "    </tr>\n",
       "    <tr>\n",
       "      <th>2020-01-05</th>\n",
       "      <td>-0.117742</td>\n",
       "      <td>0.694367</td>\n",
       "      <td>0.244004</td>\n",
       "      <td>-0.539034</td>\n",
       "    </tr>\n",
       "    <tr>\n",
       "      <th>2020-01-06</th>\n",
       "      <td>-0.117742</td>\n",
       "      <td>1.049303</td>\n",
       "      <td>0.086312</td>\n",
       "      <td>-0.450050</td>\n",
       "    </tr>\n",
       "    <tr>\n",
       "      <th>2020-01-07</th>\n",
       "      <td>-0.251457</td>\n",
       "      <td>0.443722</td>\n",
       "      <td>-0.574542</td>\n",
       "      <td>-0.298391</td>\n",
       "    </tr>\n",
       "  </tbody>\n",
       "</table>\n",
       "</div>"
      ],
      "text/plain": [
       "                   A         B         C         D\n",
       "2020-01-01 -0.996342 -0.363682  1.153177 -0.916645\n",
       "2020-01-02 -0.623233 -0.404611 -0.829090 -0.838086\n",
       "2020-01-03 -0.250125 -0.390968 -0.557556 -0.759528\n",
       "2020-01-04  0.178105 -0.014010 -0.688287 -0.829345\n",
       "2020-01-05 -0.117742  0.694367  0.244004 -0.539034\n",
       "2020-01-06 -0.117742  1.049303  0.086312 -0.450050\n",
       "2020-01-07 -0.251457  0.443722 -0.574542 -0.298391"
      ]
     },
     "execution_count": 10,
     "metadata": {},
     "output_type": "execute_result"
    }
   ],
   "source": [
    "df.rolling(window=3,min_periods=1).quantile(0.25)"
   ]
  },
  {
   "cell_type": "markdown",
   "id": "dd668c9f",
   "metadata": {},
   "source": [
    "# df.expanding\n",
    "expanding即为取从头至今的数据。后面可以接各类计算函数"
   ]
  },
  {
   "cell_type": "markdown",
   "id": "bd0f3682",
   "metadata": {},
   "source": [
    "# 显示格式设置\n",
    "pd.set_option('display.float_format', lambda x: '%.5f' % x)  \n",
    "pd.set_option(列名, False)  # 当列太多时显示完整  "
   ]
  },
  {
   "cell_type": "markdown",
   "id": "9852db65",
   "metadata": {},
   "source": [
    "## dataframe显示完整数据\n",
    "pd.set_option('expand_frame_repr', False)  # 当列太多时不换行  \n",
    "pd.set_option('display.max_rows', 5000)  # 最多显示数据的行数 "
   ]
  },
  {
   "cell_type": "markdown",
   "id": "0b9ac16b",
   "metadata": {},
   "source": [
    "## df列名不能对齐  \n",
    "#这两个参数的默认设置都是False  \n",
    "pd.set_option('display.unicode.ambiguous_as_wide', True)  \n",
    "pd.set_option('display.unicode.east_asian_width', True) "
   ]
  },
  {
   "cell_type": "markdown",
   "id": "207fbe37",
   "metadata": {},
   "source": [
    "# df计算"
   ]
  },
  {
   "cell_type": "markdown",
   "id": "6b9d18ce",
   "metadata": {},
   "source": [
    "## 计算涨跌幅\n",
    "df['涨跌幅'] = df['收盘价'].pct_change(1)  # 计算当前元素与先前n 个元素的相差百分比"
   ]
  },
  {
   "cell_type": "markdown",
   "id": "b7260cb0",
   "metadata": {},
   "source": [
    "## 累乘\n",
    "df[列名].cumprod()"
   ]
  },
  {
   "cell_type": "markdown",
   "id": "a292c63a",
   "metadata": {},
   "source": [
    "# df整列操作\n",
    "\n",
    "**str**  \n",
    "print(df['列名'].str.upper())  # 加上str之后可以使用常见的字符串函数对整列进行操作  \n",
    "print(df['列名'].str.lower())  \n",
    "print(df['列名'].str[:2])  \n",
    "print(df['列名'].str.len())  # 计算字符串的长度,length  \n",
    "df['列名'].str.strip()  # strip操作，把字符串两边的空格去掉  \n",
    "print(df['列名'].str.contains('767'))  # 判断字符串中是否包含某些特定字符  \n",
    "print(df['列名'].str.replace('sz', 'sh'))  # 进行替换，将sz替换成sh  \n",
    "\n",
    "**dt**  \n",
    "print(df['列名'].dt.year)  # 输出这个日期的年份。相应的month是月份，day是天数，还有hour, minute, second  \n",
    "print(df['列名'].dt.week)  # 这一天是一年当中的第几周  \n",
    "print(df['列名'].dt.dayofyear)  # 这一天是一年当中的第几天  \n",
    "print(df['列名'].dt.dayofweek)  # 这一天是这一周当中的第几天，0代表星期一  \n",
    "print(df['列名'].dt.weekday)  # 和上面函数相同，更加常用  \n",
    "print(df['列名'].dt.day_name)  # 和上面函数相同，返回的是星期几的英文，用于报表的制作。  \n",
    "print(df['列名'].dt.days_in_month)  # 这一天所在月份有多少天  \n",
    "print(df['列名'].dt.is_month_end)  # 这一天是否是该月的开头，是否存在is_month_end？  \n",
    "print(df['列名'] + pd.Timedelta(days=1))  # 增加一天，Timedelta用于表示时间差数据，[weeks, days, hours, minutes, seconds, milliseconds, microseconds, nanoseconds]  \n",
    "print((df['列名'] + pd.Timedelta(days=1)) - df['列名'])  # 增加一天然后再减去今天的日期  "
   ]
  },
  {
   "cell_type": "markdown",
   "id": "10fa3959",
   "metadata": {},
   "source": [
    "# 数据追加合并 df.append\n",
    "https://www.gairuo.com/p/pandas-append  \n",
    "也可以追加Series"
   ]
  },
  {
   "cell_type": "code",
   "execution_count": 94,
   "id": "9ca0ccb7",
   "metadata": {},
   "outputs": [
    {
     "name": "stdout",
     "output_type": "stream",
     "text": [
      "          A         B         C\n",
      "0 -0.663534 -0.433736 -0.445244\n",
      "1 -0.141959  0.452401 -0.309463\n",
      "2  0.090797  0.270267 -0.314492\n",
      "          A         B         C\n",
      "0 -0.663534 -0.433736 -0.445244\n",
      "1 -0.141959  0.452401 -0.309463\n",
      "2  0.090797  0.270267 -0.314492\n",
      "3  1.000000  1.000000  1.000000\n"
     ]
    }
   ],
   "source": [
    "#增加1行数据：Append()\n",
    "df = pd.DataFrame(np.random.randn(3, 3), columns=['A','B','C'])\n",
    "print(df)\n",
    "\n",
    "s=pd.Series([1.,1,1],index=list('ABC'))\n",
    "print(df.append(s,ignore_index=True))"
   ]
  },
  {
   "cell_type": "markdown",
   "id": "e56ccaec",
   "metadata": {},
   "source": [
    "# pd.concat 合并"
   ]
  },
  {
   "cell_type": "code",
   "execution_count": 7,
   "id": "f7958713",
   "metadata": {
    "scrolled": true
   },
   "outputs": [
    {
     "name": "stdout",
     "output_type": "stream",
     "text": [
      "         0    1     2     3     4\n",
      "alpha  0.0  0.0   0.0   0.0   0.0\n",
      "beta   1.0  2.0   3.0   4.0   5.0\n",
      "gamma  2.0  4.0   6.0   8.0  10.0\n",
      "delta  3.0  6.0   9.0  12.0  15.0\n",
      "eta    4.0  8.0  12.0  16.0  20.0\n"
     ]
    }
   ],
   "source": [
    "df = pd.DataFrame()\n",
    "index = ['alpha', 'beta', 'gamma', 'delta', 'eta']\n",
    "for i in range(5):\n",
    "    a = pd.DataFrame([np.linspace(i, 5*i, 5)], index=[index[i]])\n",
    "    df = pd.concat([df, a], axis=0)\n",
    "print (df)"
   ]
  },
  {
   "cell_type": "markdown",
   "id": "ef25f17f",
   "metadata": {},
   "source": [
    "# merge 左右拼接 \n",
    "- 其中concat主要是根据索引进行行或列的拼接，只能取行或列的交集或并集。  \n",
    "- merge主要是根据共同列或者索引进行合并，可以取内连接，左连接、右连接、外连接等。  \n",
    "\n",
    "设置left_index=True, right_index=True)以后，两个表按照索引进行拼接 "
   ]
  },
  {
   "cell_type": "code",
   "execution_count": 89,
   "id": "dcf14c95",
   "metadata": {},
   "outputs": [
    {
     "name": "stdout",
     "output_type": "stream",
     "text": [
      "          A         B         C\n",
      "1  0.353531 -0.643337 -0.047237\n",
      "2 -1.449040 -0.036190 -0.090847\n",
      "3  0.176290  1.094620 -2.126475\n",
      "          D         E         F\n",
      "0  0.751449 -0.540607  0.793222\n",
      "1  0.173653 -1.035434  0.874268\n",
      "2 -0.739572  0.522945 -0.591876\n",
      "          A         B         C         D         E         F\n",
      "1  0.353531 -0.643337 -0.047237  0.173653 -1.035434  0.874268\n",
      "2 -1.449040 -0.036190 -0.090847 -0.739572  0.522945 -0.591876\n"
     ]
    }
   ],
   "source": [
    "d1=pd.DataFrame(np.random.randn(3,3),columns=list('ABC'),index=[1,2,3])\n",
    "print(d1)\n",
    "d2=pd.DataFrame(np.random.randn(3,3),columns=list('DEF'))\n",
    "print(d2)\n",
    "print(pd.merge(d1,d2,left_index=True, right_index=True))"
   ]
  },
  {
   "cell_type": "markdown",
   "id": "058906fa",
   "metadata": {},
   "source": [
    "# dataframe转元组列表"
   ]
  },
  {
   "cell_type": "code",
   "execution_count": 3,
   "id": "bd24b42c",
   "metadata": {
    "scrolled": false
   },
   "outputs": [
    {
     "data": {
      "text/html": [
       "<div>\n",
       "<style scoped>\n",
       "    .dataframe tbody tr th:only-of-type {\n",
       "        vertical-align: middle;\n",
       "    }\n",
       "\n",
       "    .dataframe tbody tr th {\n",
       "        vertical-align: top;\n",
       "    }\n",
       "\n",
       "    .dataframe thead th {\n",
       "        text-align: right;\n",
       "    }\n",
       "</style>\n",
       "<table border=\"1\" class=\"dataframe\">\n",
       "  <thead>\n",
       "    <tr style=\"text-align: right;\">\n",
       "      <th></th>\n",
       "      <th>a</th>\n",
       "      <th>b</th>\n",
       "      <th>c</th>\n",
       "      <th>d</th>\n",
       "    </tr>\n",
       "  </thead>\n",
       "  <tbody>\n",
       "    <tr>\n",
       "      <th>0</th>\n",
       "      <td>1</td>\n",
       "      <td>2</td>\n",
       "      <td>3</td>\n",
       "      <td>4</td>\n",
       "    </tr>\n",
       "    <tr>\n",
       "      <th>1</th>\n",
       "      <td>5</td>\n",
       "      <td>6</td>\n",
       "      <td>7</td>\n",
       "      <td>8</td>\n",
       "    </tr>\n",
       "  </tbody>\n",
       "</table>\n",
       "</div>"
      ],
      "text/plain": [
       "   a  b  c  d\n",
       "0  1  2  3  4\n",
       "1  5  6  7  8"
      ]
     },
     "execution_count": 3,
     "metadata": {},
     "output_type": "execute_result"
    }
   ],
   "source": [
    "df = pd.DataFrame([[1,2,3,4],[5,6,7,8]],columns=['a','b','c','d'])\n",
    "df"
   ]
  },
  {
   "cell_type": "code",
   "execution_count": 13,
   "id": "8df9a5d1",
   "metadata": {},
   "outputs": [
    {
     "data": {
      "text/plain": [
       "[(1, 2, 3, 4), (5, 6, 7, 8)]"
      ]
     },
     "execution_count": 13,
     "metadata": {},
     "output_type": "execute_result"
    }
   ],
   "source": [
    "ls = df.apply(lambda x:tuple(x),axis=1).values.tolist()\n",
    "ls"
   ]
  },
  {
   "cell_type": "markdown",
   "id": "71b511f1",
   "metadata": {},
   "source": [
    "# 生成日期"
   ]
  },
  {
   "cell_type": "code",
   "execution_count": 25,
   "id": "4bf7f8c9",
   "metadata": {},
   "outputs": [
    {
     "data": {
      "text/plain": [
       "DatetimeIndex(['2011-04-24 00:00:00', '2011-04-24 03:00:00'], dtype='datetime64[ns]', freq='3H')"
      ]
     },
     "execution_count": 25,
     "metadata": {},
     "output_type": "execute_result"
    }
   ],
   "source": [
    "pd.date_range('4/24/2011',periods=2,freq='3H')"
   ]
  },
  {
   "cell_type": "markdown",
   "id": "027acff8",
   "metadata": {},
   "source": [
    "# dataframe拷贝"
   ]
  },
  {
   "cell_type": "code",
   "execution_count": 39,
   "id": "c56f5f1f",
   "metadata": {},
   "outputs": [
    {
     "name": "stdout",
     "output_type": "stream",
     "text": [
      "   0  1  2\n",
      "0  1  2  3\n",
      "1  4  5  6\n",
      "   0  1  2\n",
      "0  1  2  3\n",
      "1  4  5  6\n",
      "     0  1  2\n",
      "0  100  2  3\n",
      "1    4  5  6\n"
     ]
    }
   ],
   "source": [
    "df = pd.DataFrame([[1, 2, 3], [4, 5, 6]])\n",
    "print(df)\n",
    "df2 = df.copy()\n",
    "df2.iloc[0, 0] = 100\n",
    "print(df)\n",
    "print(df2)"
   ]
  },
  {
   "cell_type": "markdown",
   "id": "34f3631b",
   "metadata": {},
   "source": [
    "似乎df.copy 和 copy.deepcopy 都不能解决嵌套数组的问题？"
   ]
  },
  {
   "cell_type": "code",
   "execution_count": 28,
   "id": "64697846",
   "metadata": {
    "scrolled": true
   },
   "outputs": [
    {
     "name": "stdout",
     "output_type": "stream",
     "text": [
      "           0\n",
      "0  [1, 2, 3]\n",
      "1  [4, 5, 6]\n",
      "             0\n",
      "0  [1, 100, 3]\n",
      "1    [4, 5, 6]\n",
      "             0\n",
      "0  [1, 100, 3]\n",
      "1    [4, 5, 6]\n"
     ]
    }
   ],
   "source": [
    "df=pd.DataFrame([[[1,2,3]],[[4,5,6]]])\n",
    "print(df)\n",
    "df_cp1 = df.copy(deep=True)\n",
    "df_cp1.iloc[0, 0][1] = 100\n",
    "print(df)\n",
    "print(df_cp1)"
   ]
  },
  {
   "cell_type": "code",
   "execution_count": 37,
   "id": "35b50fe2",
   "metadata": {},
   "outputs": [
    {
     "name": "stdout",
     "output_type": "stream",
     "text": [
      "           0\n",
      "0  [1, 2, 3]\n",
      "1  [4, 5, 6]\n",
      "             0\n",
      "0  [1, 100, 3]\n",
      "1    [4, 5, 6]\n",
      "             0\n",
      "0  [1, 100, 3]\n",
      "1    [4, 5, 6]\n"
     ]
    }
   ],
   "source": [
    "df=pd.DataFrame([[[1,2,3]],[[4,5,6]]])\n",
    "print(df)\n",
    "import copy\n",
    "df_cp2=copy.deepcopy(df)\n",
    "df_cp2.iloc[0, 0][1] = 100\n",
    "print(df)\n",
    "print(df_cp2)"
   ]
  },
  {
   "cell_type": "markdown",
   "id": "2bdd6379",
   "metadata": {},
   "source": [
    "# 缺失值NaN\n",
    "np.NaN  \n",
    "df.dropna(how='any') 丢弃存在缺失值的行  "
   ]
  },
  {
   "cell_type": "code",
   "execution_count": 48,
   "id": "13b2046b",
   "metadata": {},
   "outputs": [
    {
     "name": "stdout",
     "output_type": "stream",
     "text": [
      "                   A         B         C         D\n",
      "2018-10-01 -0.311784  0.729004  0.217821 -0.899092\n",
      "2018-10-02 -2.486781  0.913252  1.127064 -1.514093\n",
      "2018-10-03  1.639291 -0.429894  2.631281  0.601822\n",
      "2018-10-04 -0.335882  1.237738  0.111128  0.129151\n",
      "2018-10-05  0.076128 -0.155128  0.634225  0.810655\n",
      "                   A         B         C         D\n",
      "2018-10-01 -0.311784  0.729004  0.217821 -0.899092\n",
      "2018-10-02 -2.486781  0.913252       NaN -1.514093\n",
      "2018-10-03  1.639291 -0.429894  2.631281  0.601822\n",
      "2018-10-04 -0.335882  1.237738  0.111128       NaN\n",
      "2018-10-05  0.076128 -0.155128  0.634225  0.810655\n",
      "                   A         B         C         D\n",
      "2018-10-01 -0.311784  0.729004  0.217821 -0.899092\n",
      "2018-10-03  1.639291 -0.429894  2.631281  0.601822\n",
      "2018-10-05  0.076128 -0.155128  0.634225  0.810655\n",
      "                   A         B\n",
      "2018-10-01 -0.311784  0.729004\n",
      "2018-10-02 -2.486781  0.913252\n",
      "2018-10-03  1.639291 -0.429894\n",
      "2018-10-04 -0.335882  1.237738\n",
      "2018-10-05  0.076128 -0.155128\n"
     ]
    }
   ],
   "source": [
    "#缺失值用NaN显示\n",
    "date3=pd.date_range('20181001',periods=5)\n",
    "np.random.seed(6)\n",
    "data=np.random.randn(5,4)\n",
    "df3=pd.DataFrame(data,index=date3,columns=list('ABCD'))\n",
    "print(df3)\n",
    "df3.iat[3,3]=np.NaN  #令第3行第3列的数为缺失值（0.129151）\n",
    "df3.iat[1,2]=np.NaN  #令第1行第2列的数为缺失值（1.127064）\n",
    "print(df3)\n",
    "\n",
    "#丢弃存在缺失值的行\n",
    "#设定how=all只会删除那些全是NaN的行：\n",
    "print(df3.dropna(how='any'))\n",
    "\n",
    "#删除列也一样，设置axis=1\n",
    "print(df3.dropna(how='any',axis=1))"
   ]
  },
  {
   "cell_type": "markdown",
   "id": "96856409",
   "metadata": {},
   "source": [
    "thresh参数,如thresh=4,一行中至少有4个非NaN值，否则删除"
   ]
  },
  {
   "cell_type": "code",
   "execution_count": 55,
   "id": "6b994084",
   "metadata": {
    "scrolled": true
   },
   "outputs": [
    {
     "name": "stdout",
     "output_type": "stream",
     "text": [
      "                   A         B         C         D\n",
      "2018-10-01 -0.311784  0.729004  0.217821 -0.899092\n",
      "2018-10-02 -2.486781       NaN       NaN -1.514093\n",
      "2018-10-03  1.639291 -0.429894       NaN  0.601822\n",
      "2018-10-04 -0.335882  1.237738  0.111128       NaN\n",
      "2018-10-05  0.076128 -0.155128  0.634225  0.810655\n",
      "                   A         B         C         D\n",
      "2018-10-01 -0.311784  0.729004  0.217821 -0.899092\n",
      "2018-10-03  1.639291 -0.429894       NaN  0.601822\n",
      "2018-10-04 -0.335882  1.237738  0.111128       NaN\n",
      "2018-10-05  0.076128 -0.155128  0.634225  0.810655\n"
     ]
    }
   ],
   "source": [
    "df3.iloc[1,1]=np.NaN\n",
    "print(df3)\n",
    "print(df3.dropna(thresh=3))"
   ]
  },
  {
   "cell_type": "markdown",
   "id": "dcbfda83",
   "metadata": {},
   "source": [
    "**fillna()**\n",
    "\n",
    "- method参数的取值 ： {‘pad’, ‘ffill’,‘backfill’, ‘bfill’, None}, default None  \n",
    "pad/ffill：用前一个非缺失值去填充该缺失值  \n",
    "backfill/bfill：用下一个非缺失值填充该缺失值  \n",
    "None：指定一个值去替换缺失值（缺省默认这种方式）  \n",
    "- inplace=True 直接改变原对象"
   ]
  },
  {
   "cell_type": "code",
   "execution_count": 54,
   "id": "df111d4c",
   "metadata": {
    "scrolled": true
   },
   "outputs": [
    {
     "name": "stdout",
     "output_type": "stream",
     "text": [
      "                   A         B         C         D\n",
      "2018-10-01 -0.311784  0.729004  0.217821 -0.899092\n",
      "2018-10-02 -2.486781  0.729004  0.217821 -1.514093\n",
      "2018-10-03  1.639291 -0.429894  0.217821  0.601822\n",
      "2018-10-04 -0.335882  1.237738  0.111128  0.601822\n",
      "2018-10-05  0.076128 -0.155128  0.634225  0.810655\n",
      "                   A         B         C         D\n",
      "2018-10-01 -0.311784  0.729004  0.217821 -0.899092\n",
      "2018-10-02 -2.486781 -0.429894  0.111128 -1.514093\n",
      "2018-10-03  1.639291 -0.429894  0.111128  0.601822\n",
      "2018-10-04 -0.335882  1.237738  0.111128  0.810655\n",
      "2018-10-05  0.076128 -0.155128  0.634225  0.810655\n",
      "                   A          B          C          D\n",
      "2018-10-01 -0.311784   0.729004   0.217821  -0.899092\n",
      "2018-10-02 -2.486781  10.000000  10.000000  -1.514093\n",
      "2018-10-03  1.639291  -0.429894  10.000000   0.601822\n",
      "2018-10-04 -0.335882   1.237738   0.111128  10.000000\n",
      "2018-10-05  0.076128  -0.155128   0.634225   0.810655\n"
     ]
    }
   ],
   "source": [
    "print(df3.fillna(method='ffill'))\n",
    "print(df3.fillna(method='bfill'))\n",
    "print(df3.fillna(10))"
   ]
  },
  {
   "cell_type": "markdown",
   "id": "d87707fa",
   "metadata": {},
   "source": [
    "# 累加/自定义函数\n",
    "df.apply() 对df的行或者列应用某个方法，可以是lambda表达式的自定义方法"
   ]
  },
  {
   "cell_type": "code",
   "execution_count": 83,
   "id": "b8a4240b",
   "metadata": {
    "scrolled": true
   },
   "outputs": [
    {
     "name": "stdout",
     "output_type": "stream",
     "text": [
      "                   A          B          C          D\n",
      "2018-10-01 -0.311784   0.729004   0.217821  -0.899092\n",
      "2018-10-02 -2.486781  10.000000  10.000000  -1.514093\n",
      "2018-10-03  1.639291  -0.429894  10.000000   0.601822\n",
      "2018-10-04 -0.335882   1.237738   0.111128  10.000000\n",
      "2018-10-05  0.076128  -0.155128   0.634225   0.810655\n",
      "                   A          B          C         D\n",
      "2018-10-01 -0.311784   0.729004   0.217821 -0.899092\n",
      "2018-10-02 -2.798564  10.729004  10.217821 -2.413185\n",
      "2018-10-03 -1.159273  10.299110  20.217821 -1.811363\n",
      "2018-10-04 -1.495155  11.536848  20.328949  8.188637\n",
      "2018-10-05 -1.419027  11.381720  20.963174  8.999292\n",
      "A     4.126072\n",
      "B    10.429894\n",
      "C     9.888872\n",
      "D    11.514093\n",
      "dtype: float64\n"
     ]
    }
   ],
   "source": [
    "df3.fillna(10,inplace=True)\n",
    "print(df3)\n",
    "print(df3.apply(np.cumsum))\n",
    "print(df3.apply(lambda x:x.max()-x.min()))  "
   ]
  },
  {
   "cell_type": "markdown",
   "id": "d5c16ec7",
   "metadata": {},
   "source": [
    "# 分组 groupby"
   ]
  },
  {
   "cell_type": "code",
   "execution_count": 128,
   "id": "19e40b56",
   "metadata": {
    "scrolled": false
   },
   "outputs": [
    {
     "name": "stdout",
     "output_type": "stream",
     "text": [
      "       A      B         C         D\n",
      "0   true    one -1.486392  0.822813\n",
      "1  false    one  0.611894  0.836475\n",
      "2   true    two -0.269844 -1.378094\n",
      "3  false  three  0.692493 -0.945429\n",
      "4   true    two  0.961333  1.091286\n",
      "5  false    two  0.315086  0.074098\n",
      "6   true    one -1.014666  2.030760\n",
      "7  false  three -1.222576  0.516895\n",
      "              C         D\n",
      "A                        \n",
      "false  0.396897  0.482038\n",
      "true  -1.809568  2.566765\n",
      "                    C         D\n",
      "A     B                        \n",
      "false one    0.611894  0.836475\n",
      "      three -0.530083 -0.428534\n",
      "      two    0.315086  0.074098\n",
      "true  one   -2.501058  2.853573\n",
      "      two    0.691489 -0.286808\n"
     ]
    }
   ],
   "source": [
    "df = pd.DataFrame({'A' : ['true', 'false', 'true', 'false',\n",
    "                           'true', 'false', 'true', 'false'],\n",
    "                    'B' : ['one', 'one', 'two', 'three',\n",
    "                          'two', 'two', 'one', 'three'],\n",
    "                    'C' : np.random.randn(8),\n",
    "                    'D' : np.random.randn(8)})\n",
    "print(df)\n",
    "\n",
    "print(df.groupby(['A']).sum())  #以A列特征分类并加总\n",
    "print(df.groupby(['A','B']).sum())"
   ]
  },
  {
   "cell_type": "code",
   "execution_count": 111,
   "id": "ed6f89ee",
   "metadata": {},
   "outputs": [
    {
     "name": "stdout",
     "output_type": "stream",
     "text": [
      "  level gender  math  chinese\n",
      "0     a    man   120       90\n",
      "1     b  woman   130      100\n",
      "2     a    man   110      108\n",
      "3     a  woman   120      118\n"
     ]
    }
   ],
   "source": [
    "df = pd.DataFrame([['a', 'man', 120, 90],\n",
    "                   ['b', 'woman', 130, 100],\n",
    "                   ['a', 'man', 110, 108],\n",
    "                   ['a', 'woman', 120, 118]], columns=['level', 'gender', 'math','chinese'])\n",
    "print(df)\n",
    "group = df.groupby(['gender'])"
   ]
  },
  {
   "cell_type": "code",
   "execution_count": 115,
   "id": "3feceb5b",
   "metadata": {},
   "outputs": [
    {
     "name": "stdout",
     "output_type": "stream",
     "text": [
      "        math  chinese\n",
      "gender               \n",
      "man      230      198\n",
      "woman    250      218\n"
     ]
    }
   ],
   "source": [
    "# 组内求和\n",
    "print(group.sum())"
   ]
  },
  {
   "cell_type": "code",
   "execution_count": 116,
   "id": "2845d0db",
   "metadata": {},
   "outputs": [
    {
     "name": "stdout",
     "output_type": "stream",
     "text": [
      "        level  math  chinese\n",
      "gender                      \n",
      "man         2     2        2\n",
      "woman       2     2        2\n"
     ]
    }
   ],
   "source": [
    "# 组内成员数，每列都是一样的\n",
    "print(group.count())"
   ]
  },
  {
   "cell_type": "code",
   "execution_count": 117,
   "id": "0b1860ad",
   "metadata": {},
   "outputs": [
    {
     "name": "stdout",
     "output_type": "stream",
     "text": [
      "        math  chinese\n",
      "gender               \n",
      "man      115       99\n",
      "woman    125      109\n"
     ]
    }
   ],
   "source": [
    "# 组内均值\n",
    "print(group.mean())"
   ]
  },
  {
   "cell_type": "code",
   "execution_count": 118,
   "id": "511ec261",
   "metadata": {},
   "outputs": [
    {
     "name": "stdout",
     "output_type": "stream",
     "text": [
      "        math  chinese\n",
      "gender               \n",
      "man      115       99\n",
      "woman    125      109\n"
     ]
    }
   ],
   "source": [
    "# 组内中位数\n",
    "print(group.median())"
   ]
  },
  {
   "cell_type": "code",
   "execution_count": 119,
   "id": "d37b58d6",
   "metadata": {
    "scrolled": true
   },
   "outputs": [
    {
     "name": "stdout",
     "output_type": "stream",
     "text": [
      "       level  math  chinese\n",
      "gender                     \n",
      "man        a   120      108\n",
      "woman      b   130      118\n"
     ]
    }
   ],
   "source": [
    "# 组内最大值\n",
    "print(group.max())"
   ]
  },
  {
   "cell_type": "code",
   "execution_count": 120,
   "id": "701345b0",
   "metadata": {
    "scrolled": true
   },
   "outputs": [
    {
     "name": "stdout",
     "output_type": "stream",
     "text": [
      "       level  math  chinese\n",
      "gender                     \n",
      "man        a   110       90\n",
      "woman      a   120      100\n"
     ]
    }
   ],
   "source": [
    "# 组内最小值\n",
    "print(group.min())"
   ]
  },
  {
   "cell_type": "code",
   "execution_count": 121,
   "id": "8b3958f6",
   "metadata": {},
   "outputs": [
    {
     "name": "stdout",
     "output_type": "stream",
     "text": [
      "            math    chinese\n",
      "gender                     \n",
      "man     7.071068  12.727922\n",
      "woman   7.071068  12.727922\n"
     ]
    }
   ],
   "source": [
    "# 组内数值列标准差\n",
    "print(group.std())"
   ]
  },
  {
   "cell_type": "code",
   "execution_count": 122,
   "id": "3b96b766",
   "metadata": {},
   "outputs": [
    {
     "name": "stdout",
     "output_type": "stream",
     "text": [
      "        math  chinese\n",
      "gender               \n",
      "man       50      162\n",
      "woman     50      162\n"
     ]
    }
   ],
   "source": [
    "# 方差\n",
    "print(group.var())"
   ]
  },
  {
   "cell_type": "code",
   "execution_count": 123,
   "id": "deef011a",
   "metadata": {
    "scrolled": true
   },
   "outputs": [
    {
     "name": "stdout",
     "output_type": "stream",
     "text": [
      "       math           chinese           \n",
      "       mean       std    mean        std\n",
      "gender                                  \n",
      "man     115  7.071068      99  12.727922\n",
      "woman   125  7.071068     109  12.727922\n"
     ]
    }
   ],
   "source": [
    "# 利用agg可以同时应用多个方法\n",
    "print(group.agg([np.mean,np.std]))"
   ]
  },
  {
   "cell_type": "code",
   "execution_count": 127,
   "id": "7e1ce9f8",
   "metadata": {},
   "outputs": [
    {
     "name": "stdout",
     "output_type": "stream",
     "text": [
      "        math    chinese\n",
      "gender                 \n",
      "man      115  12.727922\n",
      "woman    125  12.727922\n"
     ]
    }
   ],
   "source": [
    "# agg方法，不同列用不同函数\n",
    "print(group.agg({'math':np.mean,'chinese':np.std}))"
   ]
  },
  {
   "cell_type": "markdown",
   "id": "18053d8b",
   "metadata": {},
   "source": [
    "# 数据透视表\n",
    "列vs.值\n",
    "\n",
    "我认为pivot_table中一个令人困惑的地方是“columns（列）”和“values（值）”的使用。记住，变量“columns（列）”是可选的，它提供一种额外的方法来分割你所关心的实际值。然而，聚合函数aggfunc最后是被应用到了变量“values”中你所列举的项目上。"
   ]
  },
  {
   "cell_type": "code",
   "execution_count": 130,
   "id": "a486796d",
   "metadata": {},
   "outputs": [
    {
     "name": "stdout",
     "output_type": "stream",
     "text": [
      "        A  B    C         D         E\n",
      "0     one  A  foo  1.136942  0.733364\n",
      "1     one  B  foo  1.187058  0.966716\n",
      "2     two  C  foo  1.690896 -0.935274\n",
      "3   three  A  bar  0.490281 -0.878208\n",
      "4     one  B  bar -1.445530 -0.455728\n",
      "5     one  C  bar -0.743101  0.743076\n",
      "6     two  A  foo -1.154044  0.193298\n",
      "7   three  B  foo -0.257674 -0.971323\n",
      "8     one  C  foo  1.376814  1.896872\n",
      "9     one  A  bar -0.178981 -0.543304\n",
      "10    two  B  bar -0.430630 -0.123795\n",
      "11  three  C  bar  0.529072 -0.096579\n",
      "C             bar       foo\n",
      "A     B                    \n",
      "one   A -0.178981  1.136942\n",
      "      B -1.445530  1.187058\n",
      "      C -0.743101  1.376814\n",
      "three A  0.490281       NaN\n",
      "      B       NaN -0.257674\n",
      "      C  0.529072       NaN\n",
      "two   A       NaN -1.154044\n",
      "      B -0.430630       NaN\n",
      "      C       NaN  1.690896\n"
     ]
    }
   ],
   "source": [
    "df = pd.DataFrame({'A' : ['one', 'one', 'two', 'three'] * 3,\n",
    "                   'B' : ['A', 'B', 'C'] * 4,\n",
    "                   'C' : ['foo', 'foo', 'foo', 'bar', 'bar',\n",
    "                          'bar'] * 2,\n",
    "                   'D' : np.random.randn(12),\n",
    "                   'E' : np.random.randn(12)})\n",
    "print(df)\n",
    "print(pd.pivot_table(df, values='D', index=['A', 'B'], columns=['C']))"
   ]
  },
  {
   "cell_type": "markdown",
   "id": "13749f84",
   "metadata": {},
   "source": [
    "# 列改名df.rename "
   ]
  },
  {
   "cell_type": "code",
   "execution_count": 2,
   "id": "0d3a123a",
   "metadata": {
    "scrolled": true
   },
   "outputs": [
    {
     "data": {
      "text/html": [
       "<div>\n",
       "<style scoped>\n",
       "    .dataframe tbody tr th:only-of-type {\n",
       "        vertical-align: middle;\n",
       "    }\n",
       "\n",
       "    .dataframe tbody tr th {\n",
       "        vertical-align: top;\n",
       "    }\n",
       "\n",
       "    .dataframe thead th {\n",
       "        text-align: right;\n",
       "    }\n",
       "</style>\n",
       "<table border=\"1\" class=\"dataframe\">\n",
       "  <thead>\n",
       "    <tr style=\"text-align: right;\">\n",
       "      <th></th>\n",
       "      <th>A</th>\n",
       "      <th>B</th>\n",
       "    </tr>\n",
       "  </thead>\n",
       "  <tbody>\n",
       "    <tr>\n",
       "      <th>0</th>\n",
       "      <td>1</td>\n",
       "      <td>4</td>\n",
       "    </tr>\n",
       "    <tr>\n",
       "      <th>1</th>\n",
       "      <td>2</td>\n",
       "      <td>5</td>\n",
       "    </tr>\n",
       "    <tr>\n",
       "      <th>2</th>\n",
       "      <td>3</td>\n",
       "      <td>6</td>\n",
       "    </tr>\n",
       "  </tbody>\n",
       "</table>\n",
       "</div>"
      ],
      "text/plain": [
       "   A  B\n",
       "0  1  4\n",
       "1  2  5\n",
       "2  3  6"
      ]
     },
     "execution_count": 2,
     "metadata": {},
     "output_type": "execute_result"
    }
   ],
   "source": [
    "df = pd.DataFrame({\"A\": [1, 2, 3], \"B\": [4, 5, 6]})\n",
    "df"
   ]
  },
  {
   "cell_type": "code",
   "execution_count": 3,
   "id": "c7ee8fe9",
   "metadata": {
    "scrolled": true
   },
   "outputs": [
    {
     "data": {
      "text/html": [
       "<div>\n",
       "<style scoped>\n",
       "    .dataframe tbody tr th:only-of-type {\n",
       "        vertical-align: middle;\n",
       "    }\n",
       "\n",
       "    .dataframe tbody tr th {\n",
       "        vertical-align: top;\n",
       "    }\n",
       "\n",
       "    .dataframe thead th {\n",
       "        text-align: right;\n",
       "    }\n",
       "</style>\n",
       "<table border=\"1\" class=\"dataframe\">\n",
       "  <thead>\n",
       "    <tr style=\"text-align: right;\">\n",
       "      <th></th>\n",
       "      <th>a</th>\n",
       "      <th>d</th>\n",
       "    </tr>\n",
       "  </thead>\n",
       "  <tbody>\n",
       "    <tr>\n",
       "      <th>0</th>\n",
       "      <td>1</td>\n",
       "      <td>4</td>\n",
       "    </tr>\n",
       "    <tr>\n",
       "      <th>1</th>\n",
       "      <td>2</td>\n",
       "      <td>5</td>\n",
       "    </tr>\n",
       "    <tr>\n",
       "      <th>2</th>\n",
       "      <td>3</td>\n",
       "      <td>6</td>\n",
       "    </tr>\n",
       "  </tbody>\n",
       "</table>\n",
       "</div>"
      ],
      "text/plain": [
       "   a  d\n",
       "0  1  4\n",
       "1  2  5\n",
       "2  3  6"
      ]
     },
     "execution_count": 3,
     "metadata": {},
     "output_type": "execute_result"
    }
   ],
   "source": [
    "# 使用字典对列进行改名\n",
    "df.rename(columns={\"A\": \"a\", \"B\": \"d\"}) "
   ]
  },
  {
   "cell_type": "code",
   "execution_count": 6,
   "id": "d6d261c7",
   "metadata": {},
   "outputs": [
    {
     "data": {
      "text/html": [
       "<div>\n",
       "<style scoped>\n",
       "    .dataframe tbody tr th:only-of-type {\n",
       "        vertical-align: middle;\n",
       "    }\n",
       "\n",
       "    .dataframe tbody tr th {\n",
       "        vertical-align: top;\n",
       "    }\n",
       "\n",
       "    .dataframe thead th {\n",
       "        text-align: right;\n",
       "    }\n",
       "</style>\n",
       "<table border=\"1\" class=\"dataframe\">\n",
       "  <thead>\n",
       "    <tr style=\"text-align: right;\">\n",
       "      <th></th>\n",
       "      <th>A</th>\n",
       "      <th>B</th>\n",
       "    </tr>\n",
       "  </thead>\n",
       "  <tbody>\n",
       "    <tr>\n",
       "      <th>x</th>\n",
       "      <td>1</td>\n",
       "      <td>4</td>\n",
       "    </tr>\n",
       "    <tr>\n",
       "      <th>y</th>\n",
       "      <td>2</td>\n",
       "      <td>5</td>\n",
       "    </tr>\n",
       "    <tr>\n",
       "      <th>z</th>\n",
       "      <td>3</td>\n",
       "      <td>6</td>\n",
       "    </tr>\n",
       "  </tbody>\n",
       "</table>\n",
       "</div>"
      ],
      "text/plain": [
       "   A  B\n",
       "x  1  4\n",
       "y  2  5\n",
       "z  3  6"
      ]
     },
     "execution_count": 6,
     "metadata": {},
     "output_type": "execute_result"
    }
   ],
   "source": [
    "df.rename(index={0: \"x\", 1: \"y\", 2: \"z\"}, inplace=True)  #  inplace=True 直接在原来的df上进行修改\n",
    "df"
   ]
  },
  {
   "cell_type": "code",
   "execution_count": 7,
   "id": "4287f544",
   "metadata": {
    "scrolled": true
   },
   "outputs": [
    {
     "data": {
      "text/html": [
       "<div>\n",
       "<style scoped>\n",
       "    .dataframe tbody tr th:only-of-type {\n",
       "        vertical-align: middle;\n",
       "    }\n",
       "\n",
       "    .dataframe tbody tr th {\n",
       "        vertical-align: top;\n",
       "    }\n",
       "\n",
       "    .dataframe thead th {\n",
       "        text-align: right;\n",
       "    }\n",
       "</style>\n",
       "<table border=\"1\" class=\"dataframe\">\n",
       "  <thead>\n",
       "    <tr style=\"text-align: right;\">\n",
       "      <th></th>\n",
       "      <th>a</th>\n",
       "      <th>b</th>\n",
       "    </tr>\n",
       "  </thead>\n",
       "  <tbody>\n",
       "    <tr>\n",
       "      <th>x</th>\n",
       "      <td>1</td>\n",
       "      <td>4</td>\n",
       "    </tr>\n",
       "    <tr>\n",
       "      <th>y</th>\n",
       "      <td>2</td>\n",
       "      <td>5</td>\n",
       "    </tr>\n",
       "    <tr>\n",
       "      <th>z</th>\n",
       "      <td>3</td>\n",
       "      <td>6</td>\n",
       "    </tr>\n",
       "  </tbody>\n",
       "</table>\n",
       "</div>"
      ],
      "text/plain": [
       "   a  b\n",
       "x  1  4\n",
       "y  2  5\n",
       "z  3  6"
      ]
     },
     "execution_count": 7,
     "metadata": {},
     "output_type": "execute_result"
    }
   ],
   "source": [
    "# 可以使用axis参数，可以使用方法改名\n",
    "df.rename(str.lower, axis=\"columns\")"
   ]
  },
  {
   "cell_type": "code",
   "execution_count": 13,
   "id": "18059032",
   "metadata": {},
   "outputs": [
    {
     "name": "stdout",
     "output_type": "stream",
     "text": [
      "RangeIndex(start=0, stop=3, step=1)\n"
     ]
    },
    {
     "data": {
      "text/plain": [
       "Index(['0', '1', '2'], dtype='object')"
      ]
     },
     "execution_count": 13,
     "metadata": {},
     "output_type": "execute_result"
    }
   ],
   "source": [
    "df = pd.DataFrame({\"A\": [1, 2, 3], \"B\": [4, 5, 6]})\n",
    "print(df.index)\n",
    "df.rename(index=str, inplace=True)  # 使用方法改名\n",
    "df.index"
   ]
  },
  {
   "cell_type": "markdown",
   "id": "80b5a6eb",
   "metadata": {},
   "source": [
    "# 重置索引"
   ]
  },
  {
   "cell_type": "code",
   "execution_count": 22,
   "id": "9e45be69",
   "metadata": {},
   "outputs": [
    {
     "data": {
      "text/html": [
       "<div>\n",
       "<style scoped>\n",
       "    .dataframe tbody tr th:only-of-type {\n",
       "        vertical-align: middle;\n",
       "    }\n",
       "\n",
       "    .dataframe tbody tr th {\n",
       "        vertical-align: top;\n",
       "    }\n",
       "\n",
       "    .dataframe thead th {\n",
       "        text-align: right;\n",
       "    }\n",
       "</style>\n",
       "<table border=\"1\" class=\"dataframe\">\n",
       "  <thead>\n",
       "    <tr style=\"text-align: right;\">\n",
       "      <th></th>\n",
       "      <th>0</th>\n",
       "      <th>1</th>\n",
       "      <th>2</th>\n",
       "    </tr>\n",
       "  </thead>\n",
       "  <tbody>\n",
       "    <tr>\n",
       "      <th>x</th>\n",
       "      <td>0.361201</td>\n",
       "      <td>-0.370501</td>\n",
       "      <td>-0.577853</td>\n",
       "    </tr>\n",
       "    <tr>\n",
       "      <th>y</th>\n",
       "      <td>0.709322</td>\n",
       "      <td>0.683591</td>\n",
       "      <td>0.531937</td>\n",
       "    </tr>\n",
       "  </tbody>\n",
       "</table>\n",
       "</div>"
      ],
      "text/plain": [
       "          0         1         2\n",
       "x  0.361201 -0.370501 -0.577853\n",
       "y  0.709322  0.683591  0.531937"
      ]
     },
     "execution_count": 22,
     "metadata": {},
     "output_type": "execute_result"
    }
   ],
   "source": [
    "df = pd.DataFrame(np.random.randn(2, 3), index=['x', 'y'])\n",
    "df"
   ]
  },
  {
   "cell_type": "markdown",
   "id": "e2007d14",
   "metadata": {},
   "source": [
    "不设置参数，原先的索引保存为一列"
   ]
  },
  {
   "cell_type": "code",
   "execution_count": 23,
   "id": "19e1a782",
   "metadata": {
    "scrolled": true
   },
   "outputs": [
    {
     "data": {
      "text/html": [
       "<div>\n",
       "<style scoped>\n",
       "    .dataframe tbody tr th:only-of-type {\n",
       "        vertical-align: middle;\n",
       "    }\n",
       "\n",
       "    .dataframe tbody tr th {\n",
       "        vertical-align: top;\n",
       "    }\n",
       "\n",
       "    .dataframe thead th {\n",
       "        text-align: right;\n",
       "    }\n",
       "</style>\n",
       "<table border=\"1\" class=\"dataframe\">\n",
       "  <thead>\n",
       "    <tr style=\"text-align: right;\">\n",
       "      <th></th>\n",
       "      <th>index</th>\n",
       "      <th>0</th>\n",
       "      <th>1</th>\n",
       "      <th>2</th>\n",
       "    </tr>\n",
       "  </thead>\n",
       "  <tbody>\n",
       "    <tr>\n",
       "      <th>0</th>\n",
       "      <td>x</td>\n",
       "      <td>0.361201</td>\n",
       "      <td>-0.370501</td>\n",
       "      <td>-0.577853</td>\n",
       "    </tr>\n",
       "    <tr>\n",
       "      <th>1</th>\n",
       "      <td>y</td>\n",
       "      <td>0.709322</td>\n",
       "      <td>0.683591</td>\n",
       "      <td>0.531937</td>\n",
       "    </tr>\n",
       "  </tbody>\n",
       "</table>\n",
       "</div>"
      ],
      "text/plain": [
       "  index         0         1         2\n",
       "0     x  0.361201 -0.370501 -0.577853\n",
       "1     y  0.709322  0.683591  0.531937"
      ]
     },
     "execution_count": 23,
     "metadata": {},
     "output_type": "execute_result"
    }
   ],
   "source": [
    "df2 = df.reset_index()\n",
    "df2"
   ]
  },
  {
   "cell_type": "markdown",
   "id": "06ccc58a",
   "metadata": {},
   "source": [
    "设置drop=True，原先的索引被删除"
   ]
  },
  {
   "cell_type": "code",
   "execution_count": 24,
   "id": "8d4c011a",
   "metadata": {},
   "outputs": [
    {
     "data": {
      "text/html": [
       "<div>\n",
       "<style scoped>\n",
       "    .dataframe tbody tr th:only-of-type {\n",
       "        vertical-align: middle;\n",
       "    }\n",
       "\n",
       "    .dataframe tbody tr th {\n",
       "        vertical-align: top;\n",
       "    }\n",
       "\n",
       "    .dataframe thead th {\n",
       "        text-align: right;\n",
       "    }\n",
       "</style>\n",
       "<table border=\"1\" class=\"dataframe\">\n",
       "  <thead>\n",
       "    <tr style=\"text-align: right;\">\n",
       "      <th></th>\n",
       "      <th>0</th>\n",
       "      <th>1</th>\n",
       "      <th>2</th>\n",
       "    </tr>\n",
       "  </thead>\n",
       "  <tbody>\n",
       "    <tr>\n",
       "      <th>0</th>\n",
       "      <td>0.361201</td>\n",
       "      <td>-0.370501</td>\n",
       "      <td>-0.577853</td>\n",
       "    </tr>\n",
       "    <tr>\n",
       "      <th>1</th>\n",
       "      <td>0.709322</td>\n",
       "      <td>0.683591</td>\n",
       "      <td>0.531937</td>\n",
       "    </tr>\n",
       "  </tbody>\n",
       "</table>\n",
       "</div>"
      ],
      "text/plain": [
       "          0         1         2\n",
       "0  0.361201 -0.370501 -0.577853\n",
       "1  0.709322  0.683591  0.531937"
      ]
     },
     "execution_count": 24,
     "metadata": {},
     "output_type": "execute_result"
    }
   ],
   "source": [
    "df3 = df.reset_index(drop=True)\n",
    "df3"
   ]
  },
  {
   "cell_type": "code",
   "execution_count": 30,
   "id": "4f00cb8c",
   "metadata": {
    "scrolled": true
   },
   "outputs": [
    {
     "data": {
      "text/html": [
       "<div>\n",
       "<style scoped>\n",
       "    .dataframe tbody tr th:only-of-type {\n",
       "        vertical-align: middle;\n",
       "    }\n",
       "\n",
       "    .dataframe tbody tr th {\n",
       "        vertical-align: top;\n",
       "    }\n",
       "\n",
       "    .dataframe thead th {\n",
       "        text-align: right;\n",
       "    }\n",
       "</style>\n",
       "<table border=\"1\" class=\"dataframe\">\n",
       "  <thead>\n",
       "    <tr style=\"text-align: right;\">\n",
       "      <th></th>\n",
       "      <th></th>\n",
       "      <th>sale</th>\n",
       "    </tr>\n",
       "    <tr>\n",
       "      <th>year</th>\n",
       "      <th>month</th>\n",
       "      <th></th>\n",
       "    </tr>\n",
       "  </thead>\n",
       "  <tbody>\n",
       "    <tr>\n",
       "      <th>2012</th>\n",
       "      <th>1</th>\n",
       "      <td>55</td>\n",
       "    </tr>\n",
       "    <tr>\n",
       "      <th>2014</th>\n",
       "      <th>4</th>\n",
       "      <td>40</td>\n",
       "    </tr>\n",
       "    <tr>\n",
       "      <th>2013</th>\n",
       "      <th>7</th>\n",
       "      <td>84</td>\n",
       "    </tr>\n",
       "    <tr>\n",
       "      <th>2014</th>\n",
       "      <th>10</th>\n",
       "      <td>31</td>\n",
       "    </tr>\n",
       "  </tbody>\n",
       "</table>\n",
       "</div>"
      ],
      "text/plain": [
       "            sale\n",
       "year month      \n",
       "2012 1        55\n",
       "2014 4        40\n",
       "2013 7        84\n",
       "2014 10       31"
      ]
     },
     "execution_count": 30,
     "metadata": {},
     "output_type": "execute_result"
    }
   ],
   "source": [
    "df = pd.DataFrame({'month': [1, 4, 7, 10],\n",
    "                   'year': [2012, 2014, 2013, 2014],\n",
    "                   'sale': [55, 40, 84, 31]})\n",
    "# 设置复合索引\n",
    "df.set_index(['year', 'month'])"
   ]
  },
  {
   "cell_type": "markdown",
   "id": "914d8fa2",
   "metadata": {},
   "source": [
    "# 差分diff\n",
    "df.diff 等效于：df - df.shift(1)"
   ]
  },
  {
   "cell_type": "code",
   "execution_count": 3,
   "id": "c053e045",
   "metadata": {},
   "outputs": [
    {
     "name": "stdout",
     "output_type": "stream",
     "text": [
      "   0\n",
      "0  1\n",
      "1  2\n",
      "2  3\n",
      "3  6\n",
      "     0\n",
      "0  NaN\n",
      "1  1.0\n",
      "2  2.0\n",
      "3  3.0\n",
      "     0\n",
      "0  NaN\n",
      "1  1.0\n",
      "2  1.0\n",
      "3  3.0\n",
      "     0\n",
      "0  NaN\n",
      "1  1.0\n",
      "2  1.0\n",
      "3  3.0\n"
     ]
    }
   ],
   "source": [
    "df = pd.DataFrame(pd.Series([1, 2, 3, 6]))\n",
    "print(df)\n",
    "print(df.shift(1))\n",
    "print(df - df.shift(1))\n",
    "print(df.diff())"
   ]
  },
  {
   "cell_type": "markdown",
   "id": "11ff31e7",
   "metadata": {},
   "source": [
    "# pd.Categorical\n",
    "pd.Categorical 对样本编码，nan赋值-1"
   ]
  },
  {
   "cell_type": "code",
   "execution_count": 3,
   "id": "a8caed7e",
   "metadata": {},
   "outputs": [
    {
     "data": {
      "text/plain": [
       "[1, 2, 3, 1, 2, 3, NaN]\n",
       "Categories (3, int64): [1, 2, 3]"
      ]
     },
     "execution_count": 3,
     "metadata": {},
     "output_type": "execute_result"
    }
   ],
   "source": [
    "c = pd.Categorical([1, 2, 3, 1, 2, 3, np.nan])\n",
    "c"
   ]
  },
  {
   "cell_type": "code",
   "execution_count": 4,
   "id": "d4cab739",
   "metadata": {},
   "outputs": [
    {
     "data": {
      "text/plain": [
       "array([ 0,  1,  2,  0,  1,  2, -1], dtype=int8)"
      ]
     },
     "execution_count": 4,
     "metadata": {},
     "output_type": "execute_result"
    }
   ],
   "source": [
    "c.codes"
   ]
  },
  {
   "cell_type": "markdown",
   "id": "c9965dbc",
   "metadata": {},
   "source": [
    "# apply map applymap\n",
    "map: 作用于 Series每个元素  \n",
    "apply: 作用于DataFrame的每行或者每列  \n",
    "applymap： 作用于DataFrame的每个元素  "
   ]
  }
 ],
 "metadata": {
  "kernelspec": {
   "display_name": "ml37",
   "language": "python",
   "name": "ml37"
  },
  "language_info": {
   "codemirror_mode": {
    "name": "ipython",
    "version": 3
   },
   "file_extension": ".py",
   "mimetype": "text/x-python",
   "name": "python",
   "nbconvert_exporter": "python",
   "pygments_lexer": "ipython3",
   "version": "3.7.10"
  },
  "toc": {
   "base_numbering": 1,
   "nav_menu": {},
   "number_sections": true,
   "sideBar": true,
   "skip_h1_title": false,
   "title_cell": "Table of Contents",
   "title_sidebar": "Contents",
   "toc_cell": false,
   "toc_position": {
    "height": "calc(100% - 180px)",
    "left": "10px",
    "top": "150px",
    "width": "307.188px"
   },
   "toc_section_display": true,
   "toc_window_display": true
  },
  "varInspector": {
   "cols": {
    "lenName": 16,
    "lenType": 16,
    "lenVar": 40
   },
   "kernels_config": {
    "python": {
     "delete_cmd_postfix": "",
     "delete_cmd_prefix": "del ",
     "library": "var_list.py",
     "varRefreshCmd": "print(var_dic_list())"
    },
    "r": {
     "delete_cmd_postfix": ") ",
     "delete_cmd_prefix": "rm(",
     "library": "var_list.r",
     "varRefreshCmd": "cat(var_dic_list()) "
    }
   },
   "types_to_exclude": [
    "module",
    "function",
    "builtin_function_or_method",
    "instance",
    "_Feature"
   ],
   "window_display": false
  }
 },
 "nbformat": 4,
 "nbformat_minor": 5
}
